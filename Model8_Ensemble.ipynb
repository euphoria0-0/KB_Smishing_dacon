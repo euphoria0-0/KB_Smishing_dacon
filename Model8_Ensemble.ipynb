{
  "nbformat": 4,
  "nbformat_minor": 0,
  "metadata": {
    "colab": {
      "name": "Model8_Ensemble.ipynb",
      "provenance": [],
      "collapsed_sections": [],
      "machine_shape": "hm",
      "include_colab_link": true
    },
    "kernelspec": {
      "name": "python3",
      "display_name": "Python 3"
    },
    "accelerator": "TPU"
  },
  "cells": [
    {
      "cell_type": "markdown",
      "metadata": {
        "id": "view-in-github",
        "colab_type": "text"
      },
      "source": [
        "<a href=\"https://colab.research.google.com/github/euphoria96/KB_Smishing_dacon/blob/master/Model8_Ensemble.ipynb\" target=\"_parent\"><img src=\"https://colab.research.google.com/assets/colab-badge.svg\" alt=\"Open In Colab\"/></a>"
      ]
    },
    {
      "cell_type": "markdown",
      "metadata": {
        "id": "uU8TE6MvgKLJ",
        "colab_type": "text"
      },
      "source": [
        "## Setting\n",
        "### Mounting google drive"
      ]
    },
    {
      "cell_type": "code",
      "metadata": {
        "id": "B0T35SVtgHaw",
        "colab_type": "code",
        "colab": {}
      },
      "source": [
        "from google.colab import drive\n",
        "drive.mount('/content/gdrive')"
      ],
      "execution_count": 0,
      "outputs": []
    },
    {
      "cell_type": "markdown",
      "metadata": {
        "id": "GamuwYZroZbz",
        "colab_type": "text"
      },
      "source": [
        "### Download Mecab"
      ]
    },
    {
      "cell_type": "code",
      "metadata": {
        "id": "WFVbCaja0qHT",
        "colab_type": "code",
        "outputId": "3fe95dc8-bdbb-4a0b-fe68-49e7bb6fcdba",
        "colab": {
          "base_uri": "https://localhost:8080/",
          "height": 35
        }
      },
      "source": [
        "cd /content/gdrive/My Drive/Colab Notebooks/smishing/Mecab-ko-for-Google-Colab"
      ],
      "execution_count": 2,
      "outputs": [
        {
          "output_type": "stream",
          "text": [
            "/content/gdrive/My Drive/Colab Notebooks/smishing/Mecab-ko-for-Google-Colab\n"
          ],
          "name": "stdout"
        }
      ]
    },
    {
      "cell_type": "code",
      "metadata": {
        "id": "z_1v1nRQ0sT1",
        "colab_type": "code",
        "colab": {}
      },
      "source": [
        "! bash install_mecab-ko_on_colab190912.sh"
      ],
      "execution_count": 0,
      "outputs": []
    },
    {
      "cell_type": "markdown",
      "metadata": {
        "id": "HHvFvXcDfzk4",
        "colab_type": "text"
      },
      "source": [
        "### Import packages"
      ]
    },
    {
      "cell_type": "code",
      "metadata": {
        "id": "kOY7wsx_LKCj",
        "colab_type": "code",
        "colab": {}
      },
      "source": [
        "# data preprocessing\n",
        "import pandas as pd\n",
        "import numpy as np\n",
        "import random\n",
        "import matplotlib.pyplot as plt\n",
        "# tokenizer\n",
        "import re\n",
        "from konlpy.tag import Mecab\n",
        "# modeling\n",
        "import tensorflow as tf\n",
        "from tensorflow.keras.preprocessing.text import Tokenizer\n",
        "from tensorflow.keras.preprocessing.sequence import pad_sequences\n",
        "from tensorflow.keras.layers import Embedding, Dense, SimpleRNN, LSTM, Bidirectional, Flatten, Input, SpatialDropout1D, Conv1D, MaxPooling1D, GRU, Dropout\n",
        "from tensorflow.keras.models import Sequential\n",
        "from sklearn.metrics import roc_auc_score\n",
        "import pickle\n",
        "import time\n",
        "import warnings\n",
        "warnings.filterwarnings(action='ignore') "
      ],
      "execution_count": 0,
      "outputs": []
    },
    {
      "cell_type": "markdown",
      "metadata": {
        "id": "J67chBIQCrTW",
        "colab_type": "text"
      },
      "source": [
        "### Load Data"
      ]
    },
    {
      "cell_type": "code",
      "metadata": {
        "id": "2arA7qSIgtGt",
        "colab_type": "code",
        "outputId": "e8889277-0923-40b6-970a-f18de4435c6d",
        "colab": {
          "base_uri": "https://localhost:8080/",
          "height": 222
        }
      },
      "source": [
        "path = '/content/gdrive/My Drive/Colab Notebooks/smishing/'\n",
        "train = pd.read_csv(path+'data/train.csv')\n",
        "test = pd.read_csv(path+'data/public_test.csv')\n",
        "submission=pd.read_csv(path+'data/submission_제출양식.csv')\n",
        "print(train.shape, test.shape, submission.shape)\n",
        "train.head(3)"
      ],
      "execution_count": 2,
      "outputs": [
        {
          "output_type": "stream",
          "text": [
            "(295945, 4) (1626, 3) (1626, 2)\n"
          ],
          "name": "stdout"
        },
        {
          "output_type": "execute_result",
          "data": {
            "text/html": [
              "<div>\n",
              "<style scoped>\n",
              "    .dataframe tbody tr th:only-of-type {\n",
              "        vertical-align: middle;\n",
              "    }\n",
              "\n",
              "    .dataframe tbody tr th {\n",
              "        vertical-align: top;\n",
              "    }\n",
              "\n",
              "    .dataframe thead th {\n",
              "        text-align: right;\n",
              "    }\n",
              "</style>\n",
              "<table border=\"1\" class=\"dataframe\">\n",
              "  <thead>\n",
              "    <tr style=\"text-align: right;\">\n",
              "      <th></th>\n",
              "      <th>id</th>\n",
              "      <th>year_month</th>\n",
              "      <th>text</th>\n",
              "      <th>smishing</th>\n",
              "    </tr>\n",
              "  </thead>\n",
              "  <tbody>\n",
              "    <tr>\n",
              "      <th>0</th>\n",
              "      <td>0</td>\n",
              "      <td>2017-01</td>\n",
              "      <td>XXX은행성산XXX팀장입니다.행복한주말되세요</td>\n",
              "      <td>0</td>\n",
              "    </tr>\n",
              "    <tr>\n",
              "      <th>1</th>\n",
              "      <td>1</td>\n",
              "      <td>2017-01</td>\n",
              "      <td>오늘도많이웃으시는하루시작하세요XXX은행 진월동VIP라운지 XXX올림</td>\n",
              "      <td>0</td>\n",
              "    </tr>\n",
              "    <tr>\n",
              "      <th>2</th>\n",
              "      <td>2</td>\n",
              "      <td>2017-01</td>\n",
              "      <td>안녕하십니까 고객님. XXX은행입니다.금일 납부하셔야 할 금액은 153600원 입니...</td>\n",
              "      <td>0</td>\n",
              "    </tr>\n",
              "    <tr>\n",
              "      <th>3</th>\n",
              "      <td>4</td>\n",
              "      <td>2017-01</td>\n",
              "      <td>XXX 고객님안녕하세요XXX은행 XXX지점입니다지난 한 해 동안 저희 XXX지점에 ...</td>\n",
              "      <td>0</td>\n",
              "    </tr>\n",
              "    <tr>\n",
              "      <th>4</th>\n",
              "      <td>5</td>\n",
              "      <td>2017-01</td>\n",
              "      <td>1월은 새로움이 가득XXX입니다.올 한해 더 많이행복한 한해되시길바랍니다</td>\n",
              "      <td>0</td>\n",
              "    </tr>\n",
              "  </tbody>\n",
              "</table>\n",
              "</div>"
            ],
            "text/plain": [
              "   id year_month                                               text  smishing\n",
              "0   0    2017-01                           XXX은행성산XXX팀장입니다.행복한주말되세요         0\n",
              "1   1    2017-01              오늘도많이웃으시는하루시작하세요XXX은행 진월동VIP라운지 XXX올림         0\n",
              "2   2    2017-01  안녕하십니까 고객님. XXX은행입니다.금일 납부하셔야 할 금액은 153600원 입니...         0\n",
              "3   4    2017-01  XXX 고객님안녕하세요XXX은행 XXX지점입니다지난 한 해 동안 저희 XXX지점에 ...         0\n",
              "4   5    2017-01           1월은 새로움이 가득XXX입니다.올 한해 더 많이행복한 한해되시길바랍니다         0"
            ]
          },
          "metadata": {
            "tags": []
          },
          "execution_count": 2
        }
      ]
    },
    {
      "cell_type": "markdown",
      "metadata": {
        "id": "WvpIMFkuhEm-",
        "colab_type": "text"
      },
      "source": [
        "## Data Preparation\n",
        "### Sampling\n",
        "- Ensemble different resampled dataset\n",
        "- 0    277242, 1     18703"
      ]
    },
    {
      "cell_type": "code",
      "metadata": {
        "id": "X5RJqziBPApP",
        "colab_type": "code",
        "colab": {}
      },
      "source": [
        "## for train data\n",
        "RANDOM_SEED = 1234\n",
        "# index\n",
        "train_nsm_idx=list(train[train['smishing']==0].index)\n",
        "train_sm_idx=list(train[train['smishing']==1].index)\n",
        "random.seed(RANDOM_SEED)\n",
        "random.shuffle(train_nsm_idx)\n",
        "## for test data\n",
        "test['smishing'] = 2\n",
        "test_X = pd.DataFrame(test['text'])\n",
        "test_y = pd.DataFrame(test['smishing'])"
      ],
      "execution_count": 0,
      "outputs": []
    },
    {
      "cell_type": "code",
      "metadata": {
        "id": "EjkpvoojO6AJ",
        "colab_type": "code",
        "colab": {}
      },
      "source": [
        "def data_resampling(train, i):\n",
        "  train_nsm_idx_smp = train_nsm_idx[i*2*18703:(i+1)*2*18703] # split index # oversampling (2)\n",
        "  if i == 7:  train_nsm_idx_smp = train_nsm_idx[2*7*18703:] + random.sample(train_nsm_idx, k=3303*2)\n",
        "  train_sm_idx_smp = random.choices(train_sm_idx, k=18703*2)\n",
        "  train_idx = train_nsm_idx_smp + train_sm_idx_smp # merge index\n",
        "  random.shuffle(train_idx) # index shuffle\n",
        "  print('resampled idx: ',train_idx[:5])\n",
        "  train_X = pd.DataFrame(train['text'], columns=['text']).iloc[train_idx].reset_index(drop=True)\n",
        "  train_y = pd.DataFrame(train['smishing'], columns=['smishing']).iloc[train_idx].reset_index(drop=True)\n",
        "  return train_X, train_y"
      ],
      "execution_count": 0,
      "outputs": []
    },
    {
      "cell_type": "code",
      "metadata": {
        "id": "YDSYeCuRywpI",
        "colab_type": "code",
        "colab": {}
      },
      "source": [
        "stopwords = ['을', '를', '이', '가', '은', '는', 'null']\n",
        "\n",
        "def tokenizing(text_list):\n",
        "  tokenizer = Mecab()\n",
        "  token_list = []\n",
        "  for text in text_list:\n",
        "    tokens = []\n",
        "    txt = re.sub('[^가-힣a-zA-Z]',' ',text)\n",
        "    txt = re.sub('X{1,}',' ',txt)\n",
        "    token = tokenizer.morphs(txt)\n",
        "    for t in token:\n",
        "      if t not in stopwords:\n",
        "        tokens.append(t)\n",
        "    token_list.append(' '.join(tokens))\n",
        "  return token_list"
      ],
      "execution_count": 0,
      "outputs": []
    },
    {
      "cell_type": "code",
      "metadata": {
        "id": "usjI8ZlsSppv",
        "colab_type": "code",
        "colab": {}
      },
      "source": [
        "def data_preparation(train, test_X, i, max_len=1000):\n",
        "  train_X, train_y = data_resampling(train, i)\n",
        "  print(pd.DataFrame([len(x) for x in train_X.text]).describe().transpose())\n",
        "  train_X_txt = tokenizing(train_X.text)\n",
        "  test_X_txt = tokenizing(test_X.text)\n",
        "  tokenizer = Tokenizer()\n",
        "  tokenizer.fit_on_texts(train_X_txt)  \n",
        "  train_X_seq = tokenizer.texts_to_sequences(train_X_txt) \n",
        "  vocab_size = len(tokenizer.word_index) + 1\n",
        "  print('vocab size: ', vocab_size)\n",
        "  X_train = pad_sequences(train_X_seq, maxlen=max_len)\n",
        "  test_X_seq = tokenizer.texts_to_sequences(test_X_txt) \n",
        "  X_test = pad_sequences(test_X_seq, maxlen=max_len)\n",
        "  print(\"train data : \", X_train.shape, \" test data : \", X_test.shape)\n",
        "  return X_train, train_y, X_test, vocab_size"
      ],
      "execution_count": 0,
      "outputs": []
    },
    {
      "cell_type": "code",
      "metadata": {
        "id": "JY49FyLN39Lm",
        "colab_type": "code",
        "colab": {}
      },
      "source": [
        "auc_score_=1\n",
        "def auc_score(y_true, y_pred):\n",
        "  global auc_score_\n",
        "  try:\n",
        "    auc_score_ = roc_auc_score( y_true, y_pred, average='macro', sample_weight=None).astype('float32')\n",
        "  except ValueError:\n",
        "    pass\n",
        "  return auc_score_\n",
        "\n",
        "def auc( y_true, y_pred ) :\n",
        "    score = tf.py_func( lambda y_true, y_pred : auc_score(y_true, y_pred) , [y_true, y_pred], 'float32', stateful=False, name='sklearnAUC' )\n",
        "    return score"
      ],
      "execution_count": 0,
      "outputs": []
    },
    {
      "cell_type": "code",
      "metadata": {
        "id": "ZBMEjwhSWPZf",
        "colab_type": "code",
        "colab": {}
      },
      "source": [
        "def model_save(model, mname):\n",
        "  model_json = model.to_json()\n",
        "  with open(path+'model/'+mname+'.json', 'w') as json_file : \n",
        "      json_file.write(model_json)\n",
        "  model.save_weights(path+'model/'+mname+'.h5')"
      ],
      "execution_count": 0,
      "outputs": []
    },
    {
      "cell_type": "code",
      "metadata": {
        "id": "Y1Fjn5D4HFYq",
        "colab_type": "code",
        "colab": {}
      },
      "source": [
        "def build_model(max_len=1000):\n",
        "  model= Sequential()\n",
        "  model.add(Embedding(vocab_size, 128, input_length=max_len))\n",
        "  model.add(Bidirectional(LSTM(64)))\n",
        "  model.add(Dense(64,activation='relu'))\n",
        "  model.add(Dense(1,activation='sigmoid'))\n",
        "\n",
        "  model.compile(loss='binary_crossentropy',optimizer='rmsprop',metrics=[auc])\n",
        "  model.summary()\n",
        "  return model"
      ],
      "execution_count": 0,
      "outputs": []
    },
    {
      "cell_type": "markdown",
      "metadata": {
        "id": "AW0S5Nalpg5N",
        "colab_type": "text"
      },
      "source": [
        "## Ensemble Model\n",
        "### with Bi LSTM"
      ]
    },
    {
      "cell_type": "code",
      "metadata": {
        "id": "WhCFKgZlVkJD",
        "colab_type": "code",
        "colab": {
          "base_uri": "https://localhost:8080/",
          "height": 467
        },
        "outputId": "dc237b6c-3961-42b8-8eed-2616cdef36a5"
      },
      "source": [
        "prediction = pd.DataFrame()\n",
        "mname = 'Ensemble_BiLSTM_v1_ep3_'\n",
        "for i in range(8):\n",
        "  print('========================== '+str(i+1)+' th prediction ==========================')\n",
        "  X_train, train_y, X_test, vocab_size = data_preparation(train, test_X, i, max_len=800)\n",
        "\n",
        "  model1 = build_model(max_len=800)\n",
        "  model1.fit(X_train, train_y, epochs=3, batch_size=128, validation_split=0.3)\n",
        "  model_save(model1, mname+str(i))\n",
        "\n",
        "  prediction['pred'+str(i)] = model1.predict(X_test, batch_size=128)\n",
        "\n",
        "submission['smishing'] = prediction.mean(axis=1) # ensemble with average\n",
        "submission.to_csv(path+'submission/'+mname+'.csv',index=False)"
      ],
      "execution_count": 0,
      "outputs": [
        {
          "output_type": "stream",
          "text": [
            "========================== 1 th prediction ==========================\n",
            "resampled idx:  [176052, 101086, 70127, 141754, 233338]\n",
            "     count        mean         std  min   25%    50%    75%     max\n",
            "0  74812.0  467.523713  379.321034  1.0  73.0  408.0  877.0  1360.0\n",
            "vocab size:  20169\n",
            "train data :  (74812, 800)  test data :  (1626, 800)\n",
            "Model: \"sequential_1\"\n",
            "_________________________________________________________________\n",
            "Layer (type)                 Output Shape              Param #   \n",
            "=================================================================\n",
            "embedding_1 (Embedding)      (None, 800, 128)          2581632   \n",
            "_________________________________________________________________\n",
            "bidirectional_1 (Bidirection (None, 128)               98816     \n",
            "_________________________________________________________________\n",
            "dense_2 (Dense)              (None, 64)                8256      \n",
            "_________________________________________________________________\n",
            "dense_3 (Dense)              (None, 1)                 65        \n",
            "=================================================================\n",
            "Total params: 2,688,769\n",
            "Trainable params: 2,688,769\n",
            "Non-trainable params: 0\n",
            "_________________________________________________________________\n",
            "Train on 52368 samples, validate on 22444 samples\n",
            "Epoch 1/3\n",
            "28288/52368 [===============>..............] - ETA: 6:52 - loss: 0.0399 - auc: 0.9979"
          ],
          "name": "stdout"
        }
      ]
    },
    {
      "cell_type": "code",
      "metadata": {
        "id": "PnzuLGzGa12m",
        "colab_type": "code",
        "colab": {}
      },
      "source": [
        " "
      ],
      "execution_count": 0,
      "outputs": []
    }
  ]
}