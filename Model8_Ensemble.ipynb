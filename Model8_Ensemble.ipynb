{
  "nbformat": 4,
  "nbformat_minor": 0,
  "metadata": {
    "colab": {
      "name": "Model8_Ensemble.ipynb",
      "provenance": [],
      "collapsed_sections": [],
      "machine_shape": "hm",
      "include_colab_link": true
    },
    "kernelspec": {
      "name": "python3",
      "display_name": "Python 3"
    },
    "accelerator": "TPU"
  },
  "cells": [
    {
      "cell_type": "markdown",
      "metadata": {
        "id": "view-in-github",
        "colab_type": "text"
      },
      "source": [
        "<a href=\"https://colab.research.google.com/github/euphoria96/KB_Smishing_dacon/blob/master/Model8_Ensemble.ipynb\" target=\"_parent\"><img src=\"https://colab.research.google.com/assets/colab-badge.svg\" alt=\"Open In Colab\"/></a>"
      ]
    },
    {
      "cell_type": "markdown",
      "metadata": {
        "id": "uU8TE6MvgKLJ",
        "colab_type": "text"
      },
      "source": [
        "## Setting\n",
        "### Mounting google drive"
      ]
    },
    {
      "cell_type": "code",
      "metadata": {
        "id": "B0T35SVtgHaw",
        "colab_type": "code",
        "colab": {}
      },
      "source": [
        "from google.colab import drive\n",
        "drive.mount('/content/gdrive')"
      ],
      "execution_count": 0,
      "outputs": []
    },
    {
      "cell_type": "markdown",
      "metadata": {
        "id": "GamuwYZroZbz",
        "colab_type": "text"
      },
      "source": [
        "### Download Mecab"
      ]
    },
    {
      "cell_type": "code",
      "metadata": {
        "id": "WFVbCaja0qHT",
        "colab_type": "code",
        "outputId": "3fe95dc8-bdbb-4a0b-fe68-49e7bb6fcdba",
        "colab": {
          "base_uri": "https://localhost:8080/",
          "height": 35
        }
      },
      "source": [
        "cd /content/gdrive/My Drive/Colab Notebooks/smishing/Mecab-ko-for-Google-Colab"
      ],
      "execution_count": 2,
      "outputs": [
        {
          "output_type": "stream",
          "text": [
            "/content/gdrive/My Drive/Colab Notebooks/smishing/Mecab-ko-for-Google-Colab\n"
          ],
          "name": "stdout"
        }
      ]
    },
    {
      "cell_type": "code",
      "metadata": {
        "id": "z_1v1nRQ0sT1",
        "colab_type": "code",
        "colab": {}
      },
      "source": [
        "! bash install_mecab-ko_on_colab190912.sh"
      ],
      "execution_count": 0,
      "outputs": []
    },
    {
      "cell_type": "markdown",
      "metadata": {
        "id": "HHvFvXcDfzk4",
        "colab_type": "text"
      },
      "source": [
        "### Import packages"
      ]
    },
    {
      "cell_type": "code",
      "metadata": {
        "id": "kOY7wsx_LKCj",
        "colab_type": "code",
        "colab": {}
      },
      "source": [
        "# data preprocessing\n",
        "import pandas as pd\n",
        "import numpy as np\n",
        "import random\n",
        "import matplotlib.pyplot as plt\n",
        "# tokenizer\n",
        "import re\n",
        "from konlpy.tag import Mecab\n",
        "# modeling\n",
        "import tensorflow as tf\n",
        "from tensorflow.keras.preprocessing.text import Tokenizer\n",
        "from tensorflow.keras.preprocessing.sequence import pad_sequences\n",
        "from tensorflow.keras.layers import Embedding, Dense, SimpleRNN, LSTM, Bidirectional, Flatten, Input, SpatialDropout1D, Conv1D, MaxPooling1D, GRU, Dropout\n",
        "from tensorflow.keras.models import Sequential\n",
        "from sklearn.metrics import roc_auc_score\n",
        "import pickle\n",
        "import time\n",
        "import warnings\n",
        "warnings.filterwarnings(action='ignore') "
      ],
      "execution_count": 0,
      "outputs": []
    },
    {
      "cell_type": "markdown",
      "metadata": {
        "id": "J67chBIQCrTW",
        "colab_type": "text"
      },
      "source": [
        "### Load Data"
      ]
    },
    {
      "cell_type": "code",
      "metadata": {
        "id": "2arA7qSIgtGt",
        "colab_type": "code",
        "outputId": "233cb3f7-bcdb-4d58-f2ee-880aefc9ead1",
        "colab": {
          "base_uri": "https://localhost:8080/",
          "height": 222
        }
      },
      "source": [
        "path = '/content/gdrive/My Drive/Colab Notebooks/smishing/'\n",
        "train = pd.read_csv(path+'data/train.csv')\n",
        "test = pd.read_csv(path+'data/public_test.csv')\n",
        "submission=pd.read_csv(path+'data/submission_제출양식.csv')\n",
        "print(train.shape, test.shape, submission.shape)\n",
        "train.head()"
      ],
      "execution_count": 5,
      "outputs": [
        {
          "output_type": "stream",
          "text": [
            "(295945, 4) (1626, 3) (1626, 2)\n"
          ],
          "name": "stdout"
        },
        {
          "output_type": "execute_result",
          "data": {
            "text/html": [
              "<div>\n",
              "<style scoped>\n",
              "    .dataframe tbody tr th:only-of-type {\n",
              "        vertical-align: middle;\n",
              "    }\n",
              "\n",
              "    .dataframe tbody tr th {\n",
              "        vertical-align: top;\n",
              "    }\n",
              "\n",
              "    .dataframe thead th {\n",
              "        text-align: right;\n",
              "    }\n",
              "</style>\n",
              "<table border=\"1\" class=\"dataframe\">\n",
              "  <thead>\n",
              "    <tr style=\"text-align: right;\">\n",
              "      <th></th>\n",
              "      <th>id</th>\n",
              "      <th>year_month</th>\n",
              "      <th>text</th>\n",
              "      <th>smishing</th>\n",
              "    </tr>\n",
              "  </thead>\n",
              "  <tbody>\n",
              "    <tr>\n",
              "      <th>0</th>\n",
              "      <td>0</td>\n",
              "      <td>2017-01</td>\n",
              "      <td>XXX은행성산XXX팀장입니다.행복한주말되세요</td>\n",
              "      <td>0</td>\n",
              "    </tr>\n",
              "    <tr>\n",
              "      <th>1</th>\n",
              "      <td>1</td>\n",
              "      <td>2017-01</td>\n",
              "      <td>오늘도많이웃으시는하루시작하세요XXX은행 진월동VIP라운지 XXX올림</td>\n",
              "      <td>0</td>\n",
              "    </tr>\n",
              "    <tr>\n",
              "      <th>2</th>\n",
              "      <td>2</td>\n",
              "      <td>2017-01</td>\n",
              "      <td>안녕하십니까 고객님. XXX은행입니다.금일 납부하셔야 할 금액은 153600원 입니...</td>\n",
              "      <td>0</td>\n",
              "    </tr>\n",
              "    <tr>\n",
              "      <th>3</th>\n",
              "      <td>4</td>\n",
              "      <td>2017-01</td>\n",
              "      <td>XXX 고객님안녕하세요XXX은행 XXX지점입니다지난 한 해 동안 저희 XXX지점에 ...</td>\n",
              "      <td>0</td>\n",
              "    </tr>\n",
              "    <tr>\n",
              "      <th>4</th>\n",
              "      <td>5</td>\n",
              "      <td>2017-01</td>\n",
              "      <td>1월은 새로움이 가득XXX입니다.올 한해 더 많이행복한 한해되시길바랍니다</td>\n",
              "      <td>0</td>\n",
              "    </tr>\n",
              "  </tbody>\n",
              "</table>\n",
              "</div>"
            ],
            "text/plain": [
              "   id year_month                                               text  smishing\n",
              "0   0    2017-01                           XXX은행성산XXX팀장입니다.행복한주말되세요         0\n",
              "1   1    2017-01              오늘도많이웃으시는하루시작하세요XXX은행 진월동VIP라운지 XXX올림         0\n",
              "2   2    2017-01  안녕하십니까 고객님. XXX은행입니다.금일 납부하셔야 할 금액은 153600원 입니...         0\n",
              "3   4    2017-01  XXX 고객님안녕하세요XXX은행 XXX지점입니다지난 한 해 동안 저희 XXX지점에 ...         0\n",
              "4   5    2017-01           1월은 새로움이 가득XXX입니다.올 한해 더 많이행복한 한해되시길바랍니다         0"
            ]
          },
          "metadata": {
            "tags": []
          },
          "execution_count": 5
        }
      ]
    },
    {
      "cell_type": "markdown",
      "metadata": {
        "id": "WvpIMFkuhEm-",
        "colab_type": "text"
      },
      "source": [
        "## Data Preparation\n",
        "### Sampling\n",
        "- Ensemble different resampled dataset\n",
        "- 0    277242, 1     18703"
      ]
    },
    {
      "cell_type": "code",
      "metadata": {
        "id": "X5RJqziBPApP",
        "colab_type": "code",
        "colab": {}
      },
      "source": [
        "## for train data\n",
        "RANDOM_SEED = 1234\n",
        "# index\n",
        "train_nsm_idx=list(train[train['smishing']==0].index)\n",
        "train_sm_idx=list(train[train['smishing']==1].index)\n",
        "## for test data\n",
        "test['smishing'] = 2\n",
        "test_X = pd.DataFrame(test['text'])\n",
        "test_y = pd.DataFrame(test['smishing'])\n",
        "print(test_X.shape, test_y.shape)"
      ],
      "execution_count": 0,
      "outputs": []
    },
    {
      "cell_type": "code",
      "metadata": {
        "id": "EjkpvoojO6AJ",
        "colab_type": "code",
        "colab": {}
      },
      "source": [
        "def data_resampling(train, i):\n",
        "  train_nsm_idx_smp = train_nsm_idx[i*18703:(i+1)*18703] # split index\n",
        "  train_idx = train_nsm_idx_smp + train_sm_idx # merge index\n",
        "  print('original  idx: ',train_idx[:5])\n",
        "  random.shuffle(train_idx) # index shuffle\n",
        "  print('resampled idx: ',train_idx[:5])\n",
        "  train_X = pd.DataFrame(train['text'], columns=['text']).iloc[train_idx].reset_index(drop=True)\n",
        "  train_y = pd.DataFrame(train['smishing'], columns=['smishing']).iloc[train_idx].reset_index(drop=True)\n",
        "  print(train_X.shape, train_y.shape)\n",
        "  return train_X, train_y"
      ],
      "execution_count": 0,
      "outputs": []
    },
    {
      "cell_type": "code",
      "metadata": {
        "id": "usjI8ZlsSppv",
        "colab_type": "code",
        "colab": {}
      },
      "source": [
        "def data_preparation(train, test, i):\n",
        "  train_X, train_y = data_resampling(train, i)\n",
        "  print(pd.DataFrame([len(x) for x in train_X.text]).describe().transpose())\n",
        "  "
      ],
      "execution_count": 0,
      "outputs": []
    },
    {
      "cell_type": "code",
      "metadata": {
        "id": "Y-qZJm-pRhyS",
        "colab_type": "code",
        "colab": {
          "base_uri": "https://localhost:8080/",
          "height": 71
        },
        "outputId": "caf039b6-766e-4749-fb25-2bd8ba7ebe79"
      },
      "source": [
        "train_X, train_y = data_resampling(train, 0)"
      ],
      "execution_count": 30,
      "outputs": [
        {
          "output_type": "stream",
          "text": [
            "[0, 1, 2, 3, 4]\n",
            "[7601, 6758, 17591, 149335, 216976]\n",
            "(37406, 1) (37406, 1)\n"
          ],
          "name": "stdout"
        }
      ]
    },
    {
      "cell_type": "markdown",
      "metadata": {
        "colab_type": "text",
        "id": "MTCw7aPKbla_"
      },
      "source": [
        "### Tokenizing"
      ]
    },
    {
      "cell_type": "code",
      "metadata": {
        "id": "yCHCCUOGQDG7",
        "colab_type": "code",
        "outputId": "3228ce9d-e86c-4b7d-b3b2-fe57a8e8b9ea",
        "colab": {
          "base_uri": "https://localhost:8080/",
          "height": 53
        }
      },
      "source": [
        "tmp = [len(x) for x in train_X.text]\n",
        "print(pd.DataFrame(tmp).describe().transpose())"
      ],
      "execution_count": 32,
      "outputs": [
        {
          "output_type": "stream",
          "text": [
            "     count        mean         std   min   25%    50%    75%     max\n",
            "0  37406.0  475.304844  371.984006  14.0  87.0  417.0  877.0  1259.0\n"
          ],
          "name": "stdout"
        }
      ]
    },
    {
      "cell_type": "code",
      "metadata": {
        "id": "YDSYeCuRywpI",
        "colab_type": "code",
        "colab": {}
      },
      "source": [
        "stopwords = ['을', '를', '이', '가', '은', '는', 'null']\n",
        "'''stoptags = ['J','E']\n",
        "repl_dict = {'포토 폴리오':'포트폴리오','포토 폴 리어':'포트폴리오','햇살 론':'햇살론','새 희망 홀씨':'새희망홀씨','고객 님':'고객님','null':'', '할부금융':'할부 금융','이 체':'이체',\n",
        "             '자동 화 기기':'자동화기기','문 의':'문의','심의 필':'심의필','주 거래':'주거래','일시 불':'일시불','균 등':'균등','대 출한 도':'대출 한도','카드 론':'카드론', '선수 수료':'선 수수료','준 법':'준법','연소 득':'연 소득'}'''\n",
        "def tokenizing(text_list):\n",
        "  tokenizer = Mecab()\n",
        "  token_list = []\n",
        "  for text in text_list:\n",
        "    txt = text.lower().replace('c i t i','citi').replace('k o r e a','korea')\n",
        "    txt = re.sub('[^가-힣a-z]',' ',txt)\n",
        "    txt = re.sub('x{1,}',' ',txt)\n",
        "    '''token = tokenizer.pos(txt)\n",
        "    tokens = [t[0] for t in token if t[1][0] not in stoptags and (t[0].isalpha()*len(t[0])>1)] # 조사,어미,길이1 뺌\n",
        "    txt_ = ' '.join(tokens)\n",
        "    for r in repl_dict.items():\n",
        "      txt_ = re.sub(r[0],r[1],txt_)\n",
        "    token_list.append(txt_)'''\n",
        "    token = tokenizer.morphs(txt)\n",
        "    tokens = [t for t in token if t not in stopwords]\n",
        "    token_list.append(' '.join(tokens))\n",
        "  return token_list"
      ],
      "execution_count": 0,
      "outputs": []
    },
    {
      "cell_type": "code",
      "metadata": {
        "id": "RhStMRBMh1ue",
        "colab_type": "code",
        "colab": {}
      },
      "source": [
        "train_X_txt = tokenizing(train_X.text)\n",
        "test_X_txt = tokenizing(test_X.text)"
      ],
      "execution_count": 0,
      "outputs": []
    },
    {
      "cell_type": "code",
      "metadata": {
        "id": "oeNj0fAMrBnc",
        "colab_type": "code",
        "outputId": "5f091919-a49c-4328-8bce-76c7efb93685",
        "colab": {
          "base_uri": "https://localhost:8080/",
          "height": 71
        }
      },
      "source": [
        "tokenizer = Tokenizer()\n",
        "tokenizer.fit_on_texts(train_X_txt)  \n",
        "train_X_seq = tokenizer.texts_to_sequences(train_X_txt) \n",
        "vocab_size = len(tokenizer.word_index) + 1\n",
        "print('vocab size: ', vocab_size)\n",
        "max_len = 1000 \n",
        "X_train = pad_sequences(train_X_seq, maxlen=max_len)\n",
        "print(\"train data shape: \", X_train.shape)\n",
        "test_X_seq = tokenizer.texts_to_sequences(test_X_txt) \n",
        "X_test = pad_sequences(test_X_seq, maxlen=max_len)\n",
        "print(\"test data shape: \", X_test.shape)"
      ],
      "execution_count": 0,
      "outputs": [
        {
          "output_type": "stream",
          "text": [
            "vocab size:  22611\n",
            "train data shape:  (112218, 1000)\n",
            "test data shape:  (1626, 1000)\n"
          ],
          "name": "stdout"
        }
      ]
    },
    {
      "cell_type": "code",
      "metadata": {
        "id": "CUKD7AzYAQTO",
        "colab_type": "code",
        "outputId": "90c255d9-85b0-44d8-d8bb-01693f05524d",
        "colab": {
          "base_uri": "https://localhost:8080/",
          "height": 127
        }
      },
      "source": [
        "for i in sm_idx[:5]:\n",
        "  print(train_X_txt[i])"
      ],
      "execution_count": 0,
      "outputs": [
        {
          "output_type": "stream",
          "text": [
            "광고 바빌론 상품 안내 년 와 함께 안녕 하 세요 저희 에서 신규 상품 출시 되 여 채무 통합 대환 상품 신규 상품 가능 고객 으로 선정 되 어 안내 차 연락 드립니다 여유 시간 내 어 읽 어 주 신다면 도움 되 실 거 라 생각 되 어 안내장 보내 드립니다 금리 최저 저렴 한 금리 기준 금리 산 금리 한 도최 대 억 천만 원 대환 자금 추가 자금 조건 사업자 직장 인 프리랜서 무직자 주부 상담 상품 의 특징 가상 조회 로 한도 금리 한 번 에 알 수 있 슴 은행 사금융 등 낮 금리 로 대환 할 수 있 슴 꼭 주 거래 은행 아니 라도 관계없이 진행 가능 담보 최저 금리 최 대 한도 장기 모기지 일반 담보 대출 상담 가능 채무 통합 상품 원리금 균 등 원금 자 방식 이자 만 내 방식 으로 전환 연소 득 대비 이내 과다 채무자 통합 가능 카드 론 현금 서비스 과다 이용 잦 고객 채무 금액 작 으나 건수 여러 건 으로 이용 중 인 고객 채무 통합 의 핵심 포인트 월 납입금 액 감소 및 자금액 최대 감소 시켜 드립니다 신용도 상향 등급 으로 상승 시켜 드립니다 퍼져 있 부채 건 으로 줄여 관리 하 기 편하 게 만들 어 드립니다 추가 자금 필요 할 때 은행 권 으로 가능 하 실 수 있 게 해 드립니다 신청 방법 상담 가능 시간 성함 문자 예약 또는 전화 주 시 면 상담 가능 간단 한 문 의 사항 라도 성실 한 답변 해 드리 겠 습니다 전화 상담 카톡 상담 가능 id sb 해당 되 지 않 으시 거나 거부 원하 시 분 들 거부 라고 회신 하 여 주 신다면 재 발송 않 도록 하 겠 습니다 문자 불편 하 셨 다면 죄송 합니다 무료 수신 거부 광고 바빌론 신규 상품\n",
            "광고 상담 고객 입니다 항상 이용 해 주 셔서 감사 합니다 내용 무담보 신상품 출시 안 내본 상품 서민 지원 대출 로 정부 에서 지원 하 고 은행 에서 판매 하 대 입니다 상품 특징 무담보 무 보증 무 수수료 신용 등급 상관없이 최고 한도 억 최하 금리 상환 수수료 없이 자유 롭 게 상환 가능 기존 대출 저금리 전환 가능 자격 조건 만 세 세 직장 인 사업자 프리랜서 주부 학생 최근 부결 자 다중 채무자 가능 신청 기간 월 일마 감 접수 자 많 으니 빠른 신청 바랍니다 신청 방법 본 문자 수신 번호 로 전화 하 셔서 번 눌러 주 시 면 접수 완료 무료 수신 거부 상담 입니다\n",
            "광고 추가 여신 상품 안내 서비스 최근 새롭 게 변경 된 세렉 트론 상품 가이드 안내 차 안내문 드립니다 기존 지점 에서 취급 되 고 있 여신 상품 과 달리 수탁 법인 영업부 에서 기존 판매 되 고 있 상품 한도 와 금리 조건 완화 되 어 한시 적 판매 되 고 있 어 여유 시간 내 어 읽 어 주 신다면 도움 되 실 꺼 라 생각 되 어 안내장 보내 드립니다 년 부 로 법정 최고 금리 낮 아 짐 에 따라 평균 금리 차감 효과 보이 고 있 습니다 세렉 트론 대상 연소 득 만 원 이상 금리 연 기간 거치 만기 상품 으로 이자 만 납입 하 시 거나 년 분할 상환 중 자유 선택 가능 상품 상 세 내역 판매 기간 한도 소진 시 까지 억 한도 심사 기준 에 따라 최대 억 원 으로 상향 조정 대환 자금 추가 자금 최고 한도 시중 은행 보다 높 한도 자부 합니다 가상 조회 시스템 으로 조회 기록 없이 가능 유무 확인 꼭 주 거래 은행 아니 라도 상관없이 진행 가능 합니다 담 보 원리금 상환 원금 과 이자 함께 상환 으로 사용 중 인 상품 만기 일시 이자 만 납부 상품 으로 전환 가능 일반 담보 상담 가능 채무 통합 상품 원리금 균 등 원금 자 방식 이자 만 내 방식 으로 전환 카드 론 현금 서비스 사용 잦 분 들 채무 금액 작 으나 건수 여러 건 으로 이용 중 인 분 들 채 무통 합의 핵심 포인트 월 납입 액 감소 및 자금액 최대 감소 시켜 드립니다 퍼져 있 부채 건 으로 줄여 관리 하 기 편하 게 만들 어 드립니다 추가 자금 필요 할 때 은행 권 으로 가능 하 실 수 있 게 해 드립니다 정부 지원 사 잇돌 햇살 론 드림새 희망 홀씨 한도 만 원 까지 대환 자금 포함 금리 까지 신청 방법 상담 가능 시간 문자 예약 이나 전화 주 시 면 상담 가능 하 십니다 상담 폭주 하 여 통화 연결 안 될 시 문자 남겨 주 시 면 신속히 상담 전화 드리 겠 습니다 위 문자 당 행과 상담 하 셨 고 상품 서비스 안내 등 에 동의 하 셨 던 분 들 대상 으로 한하 여 보내 고 있 으며 개인 정보 유출 과 관련 없 음 알려 드립니다 거부 원하 시 분 들 거부 라고 회신 하 여 주 신다면 재 발송 않 도록 하 겠 습니다 번호 오류 나 전산 의 실수 있 수 있 사오니 양해 부탁 드립니다 무료 거부 제목 없 음\n",
            "광고 상품 안내 안녕 하 세요 저희 에서 신규 상품 출시 되 며 채무 통합 대환 상품 신규 상품 가능 고객 으로 선정 되 어 안내 차 연락 드립니다 여유 시간 내 어 읽 어 주 신다면 도움 되 실 거 라 생각 되 어 안내장 보내 드립니다 금리 최 저 부터 기준 금리 산 금리 한 도최 대 억 원 까지 대환 자금 추가 자금 조건 만 세 이상 직장 인 개인 사업자 상품 의 포인트 가상 조회 로 한도 금리 한 번 에 알 수 있 습니다 은행 사금융 등 금융 권 으로 대환 할 수 있 습니다 시중 은행 보다 높 한도 자부 합니다 담보 최 저 금리 최 대 한도 장기 모기지 일반 담보 대 출 상담 가능 카톡 상담 신청 방법 id aaa 아이디 검색 후 친구 추가 상담 라고 카톡 주 시 면 빠르 게 답변 드리 겠 습니다 채무 통합 상품 원리금 균 등 원금 자 방식 이자 만 내 방식 으로 전환 신용 등급 등급 내 의 직장인 면 부채 과다 로 인해 추가 진행 어렵 다면 통합 해 드리 겠 습니다 연소 득 대비 최 대 이내 가능 최근 개 월간 연체 사실 있 다면 진행 불가 카드 론 현금 서비스 사용 잦 분 들 채무 금액 작 으나 건수 여러 건 으로 이용 중 인 분 들 채 무통 합의 핵심 포인트 월 납입 액 감소 및 자금액 최 대 감소 시켜 드립니다 신용도 최 대 등급 등급 까지 상승 시켜 드립니다 퍼져 있 부채 건 으로 줄여 관리 하 기 편하 게 만들 어 드립니다 추가 자금 필요 할 때 은행 권 으로 가능 하 실 수 있 게 해 드립니다 정부 지원 사 잇돌 햇살 론 드림 한도 만 원 까지 대환 자금 포함 금리 까지 자격 조건 이상 의 대출 개 월 이상 사용 중 인 분 홍보 성 문자 이나 필요 한 한 분 한 분 에게 도움 되 고자 합니다 신청 방법 상담 가능 시간 성함 으로 문자 예약 또는 전화 주 시 면 상담 가능 하 십니다 감사 합니다 해당 되 지 않 으시 거나 거부 원하 시 분 들 거부 라고 회신 하 여 주 신다면 재 발송 않 도록 하 겠 습니다 번호 의 오류 나 전산 의 실수 있 수 있 사오니 양해 부탁 드립니다 무료 거부 제목 없 음\n",
            "광고 한국 스탠다드 차 타드 에서 신규 상품 안내 해 드립니다 상품 조건 개인 등급 무관 기존 이용 금액 많 아도 가능 최저 조건 부터 자격 조건 만 세 세 까지 대 보험 적용 직장 인 최근 부결 자 다중 채무자 가능 채무 통합 월상 환액 높 으신 분 들 채무 통합 으로 월 납입 액 까지 감소 가능 합니다 연소 득 대비 이상 과다 채무자 통합 가능 카드 론 현금 서비스 과다 이용자 가능 등급 에 따라 당 행 진행 어려우 셔도 금융 권 중 저금리 유리 한 조건 으로 최대한 검토 해 드리 겠 습니다 신청 접수 상담 상담 원 하 시 면 상담 라는 문자 남겨 주 시 거나 통화 가능 한 시간 에 전화 주세요 상담 위한 신용 고객 님 의 신용 등급 에 영향 미치 지 않 습니다 무료 거부 제목 없 음\n"
          ],
          "name": "stdout"
        }
      ]
    },
    {
      "cell_type": "code",
      "metadata": {
        "id": "1dwhGcJZGmGp",
        "colab_type": "code",
        "outputId": "720143ea-b123-4b7a-d8e6-03cb35c59031",
        "colab": {
          "base_uri": "https://localhost:8080/",
          "height": 127
        }
      },
      "source": [
        "for i in sm_idx[:5]:\n",
        "  print(train_X_txt[i])"
      ],
      "execution_count": 0,
      "outputs": [
        {
          "output_type": "stream",
          "text": [
            "광고 바빌론 상품 안내 함께 안녕 저희 신규 상품 출시 채무 통합 대환 상품 신규 상품 가능 고객 선정 안내 연락 드립니다 여유 시간 도움 생각 안내장 보내 드립니다 금리 최저 저렴 금리 기준 금리 금리 도최 천만 대환 자금 추가 자금 조건 사업자 직장 프리랜서 무직자 주부 상담 상품 특징 가상 조회 한도 금리 은행 사금융 금리 대환 거래 은행 아니 관계없이 진행 가능 담보 최저 금리 한도 장기 모기지 일반 담보 대출 상담 가능 채무 통합 상품 원리금 원금 방식 이자 방식 전환 연소 대비 이내 과다 채무자 통합 가능 카드 현금 서비스 과다 이용 고객 채무 금액 건수 여러 이용 고객 채무 통합 핵심 포인트 납입금 감소 자금액 최대 감소 시켜 드립니다 신용도 상향 등급 상승 시켜 드립니다 퍼져 부채 줄여 관리 편하 만들 드립니다 추가 자금 필요 은행 가능 드립니다 신청 방법 상담 가능 시간 성함 문자 예약 또는 전화 상담 가능 간단 사항 성실 답변 드리 전화 상담 카톡 상담 가능 id sb 해당 거부 원하 거부 라고 회신 발송 문자 불편 죄송 합니다 무료 수신 거부 광고 바빌론 신규 상품\n",
            "광고 상담 고객 입니다 항상 이용 감사 합니다 내용 무담보 신상품 출시 내본 상품 서민 지원 대출 정부 지원 은행 판매 입니다 상품 특징 무담보 보증 수수료 신용 등급 상관없이 최고 한도 최하 금리 상환 수수료 없이 자유 상환 가능 기존 대출 저금리 전환 가능 자격 조건 직장 사업자 프리랜서 주부 학생 최근 부결 다중 채무자 가능 신청 기간 일마 접수 빠른 신청 바랍니다 신청 방법 문자 수신 번호 전화 눌러 접수 완료 무료 수신 거부 상담 입니다\n",
            "광고 추가 여신 상품 안내 서비스 최근 새롭 변경 세렉 트론 상품 가이드 안내 안내문 드립니다 기존 지점 취급 여신 상품 달리 수탁 법인 영업부 기존 판매 상품 한도 금리 조건 완화 한시 판매 여유 시간 도움 생각 안내장 보내 드립니다 법정 최고 금리 따라 평균 금리 차감 효과 보이 세렉 트론 대상 연소 이상 금리 기간 거치 만기 상품 이자 납입 분할 상환 자유 선택 가능 상품 내역 판매 기간 한도 소진 한도 심사 기준 따라 최대 상향 조정 대환 자금 추가 자금 최고 한도 시중 은행 한도 자부 합니다 가상 조회 시스템 조회 기록 없이 가능 유무 확인 거래 은행 아니 상관없이 진행 가능 합니다 원리금 상환 원금 이자 함께 상환 사용 상품 만기 일시 이자 납부 상품 전환 가능 일반 담보 상담 가능 채무 통합 상품 원리금 원금 방식 이자 방식 전환 카드 현금 서비스 사용 채무 금액 건수 여러 이용 무통 합의 핵심 포인트 납입 감소 자금액 최대 감소 시켜 드립니다 퍼져 부채 줄여 관리 편하 만들 드립니다 추가 자금 필요 은행 가능 드립니다 정부 지원 잇돌 햇살 드림새희망홀씨 한도 대환 자금 포함 금리 신청 방법 상담 가능 시간 문자 예약 이나 전화 상담 가능 상담 폭주 통화 연결 문자 남겨 신속히 상담 전화 드리 문자 행과 상담 상품 서비스 안내 동의 대상 한하 보내 개인 정보 유출 관련 알려 드립니다 거부 원하 거부 라고 회신 발송 번호 오류 전산 실수 양해 부탁 드립니다 무료 거부 제목\n",
            "광고 상품 안내 안녕 저희 신규 상품 출시 채무 통합 대환 상품 신규 상품 가능 고객 선정 안내 연락 드립니다 여유 시간 도움 생각 안내장 보내 드립니다 금리 기준 금리 금리 도최 대환 자금 추가 자금 조건 이상 직장 개인 사업자 상품 포인트 가상 조회 한도 금리 은행 사금융 금융 대환 시중 은행 한도 자부 합니다 담보 금리 한도 장기 모기지 일반 담보 상담 가능 카톡 상담 신청 방법 id aaa 아이디 검색 친구 추가 상담 카톡 빠르 답변 드리 채무 통합 상품 원리금 원금 방식 이자 방식 전환 신용 등급 등급 직장인 부채 과다 인해 추가 진행 어렵 통합 드리 연소 대비 이내 가능 최근 월간 연체 사실 진행 불가 카드 현금 서비스 사용 채무 금액 건수 여러 이용 무통 합의 핵심 포인트 납입 감소 자금액 감소 시켜 드립니다 신용도 등급 등급 상승 시켜 드립니다 퍼져 부채 줄여 관리 편하 만들 드립니다 추가 자금 필요 은행 가능 드립니다 정부 지원 잇돌 햇살 드림 한도 대환 자금 포함 금리 자격 조건 이상 대출 이상 사용 홍보 문자 필요 도움 합니다 신청 방법 상담 가능 시간 성함 문자 예약 또는 전화 상담 가능 감사 합니다 해당 거부 원하 거부 라고 회신 발송 번호 오류 전산 실수 양해 부탁 드립니다 무료 거부 제목\n",
            "광고 한국 스탠다드 타드 신규 상품 안내 드립니다 상품 조건 개인 등급 무관 기존 이용 금액 가능 최저 조건 자격 조건 보험 적용 직장 최근 부결 다중 채무자 가능 채무 통합 월상 환액 채무 통합 납입 감소 가능 합니다 연소 대비 이상 과다 채무자 통합 가능 카드 현금 서비스 과다 이용자 가능 등급 따라 진행 어려우 금융 저금리 유리 조건 최대한 검토 드리 신청 접수 상담 상담 상담 문자 남겨 통화 가능 시간 전화 주세요 상담 위한 신용 고객 신용 등급 영향 미치 무료 거부 제목\n"
          ],
          "name": "stdout"
        }
      ]
    },
    {
      "cell_type": "markdown",
      "metadata": {
        "id": "AW0S5Nalpg5N",
        "colab_type": "text"
      },
      "source": [
        "## Modeling"
      ]
    },
    {
      "cell_type": "code",
      "metadata": {
        "id": "JY49FyLN39Lm",
        "colab_type": "code",
        "colab": {}
      },
      "source": [
        "auc_score_=1\n",
        "def auc_score(y_true, y_pred):\n",
        "  global auc_score_\n",
        "  try:\n",
        "    auc_score_ = roc_auc_score( y_true, y_pred, average='macro', sample_weight=None).astype('float32')\n",
        "  except ValueError:\n",
        "    pass\n",
        "  return auc_score_\n",
        "\n",
        "def auc( y_true, y_pred ) :\n",
        "    score = tf.py_func( lambda y_true, y_pred : auc_score(y_true, y_pred) , [y_true, y_pred], 'float32', stateful=False, name='sklearnAUC' )\n",
        "    return score"
      ],
      "execution_count": 0,
      "outputs": []
    },
    {
      "cell_type": "markdown",
      "metadata": {
        "id": "_u_k2CJ5ivkU",
        "colab_type": "text"
      },
      "source": [
        "### Conv LSTM\n",
        "##### (1) train"
      ]
    },
    {
      "cell_type": "code",
      "metadata": {
        "id": "Y1Fjn5D4HFYq",
        "colab_type": "code",
        "outputId": "55bcdbab-9a23-4b8a-a85e-2a167496399f",
        "colab": {
          "base_uri": "https://localhost:8080/",
          "height": 449
        }
      },
      "source": [
        "model= Sequential()\n",
        "model.add(Embedding(vocab_size, 128, input_length=max_len))\n",
        "model.add(Conv1D(64, kernel_size=2, activation='relu'))\n",
        "model.add(MaxPooling1D(pool_size=2))\n",
        "model.add(SpatialDropout1D(0.5))\n",
        "model.add(LSTM(64))\n",
        "model.add(Flatten())\n",
        "model.add(Dense(64,activation='relu'))\n",
        "model.add(Dense(1,activation='sigmoid'))\n",
        "\n",
        "model.compile(loss='binary_crossentropy',optimizer='rmsprop',metrics=[auc])\n",
        "model.summary()"
      ],
      "execution_count": 0,
      "outputs": [
        {
          "output_type": "stream",
          "text": [
            "Model: \"sequential_6\"\n",
            "_________________________________________________________________\n",
            "Layer (type)                 Output Shape              Param #   \n",
            "=================================================================\n",
            "embedding_6 (Embedding)      (None, 1000, 128)         2894208   \n",
            "_________________________________________________________________\n",
            "conv1d_6 (Conv1D)            (None, 999, 64)           16448     \n",
            "_________________________________________________________________\n",
            "max_pooling1d_6 (MaxPooling1 (None, 499, 64)           0         \n",
            "_________________________________________________________________\n",
            "spatial_dropout1d_3 (Spatial (None, 499, 64)           0         \n",
            "_________________________________________________________________\n",
            "lstm_1 (LSTM)                (None, 64)                33024     \n",
            "_________________________________________________________________\n",
            "flatten_6 (Flatten)          (None, 64)                0         \n",
            "_________________________________________________________________\n",
            "dense_10 (Dense)             (None, 64)                4160      \n",
            "_________________________________________________________________\n",
            "dense_11 (Dense)             (None, 1)                 65        \n",
            "=================================================================\n",
            "Total params: 2,947,905\n",
            "Trainable params: 2,947,905\n",
            "Non-trainable params: 0\n",
            "_________________________________________________________________\n"
          ],
          "name": "stdout"
        }
      ]
    },
    {
      "cell_type": "code",
      "metadata": {
        "id": "syLSqXQOEwKG",
        "colab_type": "code",
        "outputId": "bf5e99ff-7bed-4eb5-88f1-d401bc4f0fc7",
        "colab": {
          "base_uri": "https://localhost:8080/",
          "height": 143
        }
      },
      "source": [
        "mname='ConvLSTM_v3_ep3_'+format(time.time(),'.0f')\n",
        "\n",
        "history = model.fit(X_train, train_y, epochs=3, batch_size=128, validation_split=0.3)\n",
        "model_json = model.to_json()\n",
        "with open(path+'model/'+mname+'.json', 'w') as json_file : \n",
        "    json_file.write(model_json)\n",
        "model.save_weights(path+'model/'+mname+'.h5')\n",
        "\n",
        "# 여기서 submission\n",
        "y_pred = model.predict(X_test, batch_size=128)\n",
        "submission['smishing'] = y_pred\n",
        "submission.to_csv(path+'submission/'+mname+'.csv',index=False)"
      ],
      "execution_count": 0,
      "outputs": [
        {
          "output_type": "stream",
          "text": [
            "Train on 78552 samples, validate on 33666 samples\n",
            "Epoch 1/3\n",
            "78552/78552 [==============================] - 762s 10ms/sample - loss: 0.0156 - auc: 0.9988 - val_loss: 0.0034 - val_auc: 1.0000\n",
            "Epoch 2/3\n",
            "78552/78552 [==============================] - 772s 10ms/sample - loss: 0.0024 - auc: 1.0000 - val_loss: 0.0022 - val_auc: 1.0000\n",
            "Epoch 3/3\n",
            "78552/78552 [==============================] - 780s 10ms/sample - loss: 0.0014 - auc: 1.0000 - val_loss: 0.0020 - val_auc: 1.0000\n"
          ],
          "name": "stdout"
        }
      ]
    },
    {
      "cell_type": "code",
      "metadata": {
        "id": "ZUaPjLmDjo21",
        "colab_type": "code",
        "outputId": "0aeb796c-f137-4d03-bac6-99fff8d92c30",
        "colab": {
          "base_uri": "https://localhost:8080/",
          "height": 295
        }
      },
      "source": [
        "epochs = range(1, len(history.history['auc']) + 1)\n",
        "plt.plot(epochs, history.history['loss'])\n",
        "plt.plot(epochs, history.history['val_loss'])\n",
        "plt.title('model loss')\n",
        "plt.ylabel('loss')\n",
        "plt.xlabel('epoch')\n",
        "plt.legend(['train', 'test'], loc='upper left')\n",
        "plt.show()"
      ],
      "execution_count": 0,
      "outputs": [
        {
          "output_type": "display_data",
          "data": {
            "image/png": "[encoded data removed]",
            "text/plain": [
              "<Figure size 432x288 with 1 Axes>"
            ]
          },
          "metadata": {
            "tags": []
          }
        }
      ]
    },
    {
      "cell_type": "code",
      "metadata": {
        "id": "mpEaTDCPMviT",
        "colab_type": "code",
        "colab": {}
      },
      "source": [
        ""
      ],
      "execution_count": 0,
      "outputs": []
    },
    {
      "cell_type": "code",
      "metadata": {
        "id": "FXLg9iPpqH8q",
        "colab_type": "code",
        "outputId": "51d932dc-6d5d-4282-b4d5-d05de438df92",
        "colab": {
          "base_uri": "https://localhost:8080/",
          "height": 89
        }
      },
      "source": [
        "RANDOM_SEED = 123\n",
        "\n",
        "## for train data\n",
        "# index\n",
        "train_nsm_idx=list(train[train['smishing']==0].index)\n",
        "train_sm_idx=list(train[train['smishing']==1].index)\n",
        "# 3. Mixed Sampling\n",
        "random.seed(RANDOM_SEED)\n",
        "train_nsm_idx = random.sample(train_nsm_idx, k=18703*5)\n",
        "random.seed(RANDOM_SEED)\n",
        "train_sm_idx = random.choices(train_sm_idx, k=18703*5)\n",
        "# index shuffle\n",
        "train_idx = train_nsm_idx + train_sm_idx\n",
        "print(train_idx[:5])\n",
        "random.shuffle(train_idx)\n",
        "print(train_idx[:5])\n",
        "# Merge\n",
        "train_X = pd.DataFrame(train['text'], columns=['text']).iloc[train_idx].reset_index(drop=True)\n",
        "train_y = pd.DataFrame(train['smishing'], columns=['smishing']).iloc[train_idx].reset_index(drop=True)\n",
        "print(train_X.shape, train_y.shape)\n",
        "## for test data\n",
        "test['smishing'] = 2 # train data와 동일한 형태 생성을 위해 임의의 숫자를 추가 #이후 스미싱 여부 확률 값으로 덮어 씌워짐\n",
        "test_X = pd.DataFrame(test['text'])\n",
        "test_y = pd.DataFrame(test['smishing'])\n",
        "print(test_X.shape, test_y.shape)"
      ],
      "execution_count": 0,
      "outputs": [
        {
          "output_type": "stream",
          "text": [
            "[29141, 145093, 47704, 223506, 144488]\n",
            "[92222, 14474, 276657, 93742, 285727]\n",
            "(187030, 1) (187030, 1)\n",
            "(1626, 1) (1626, 1)\n"
          ],
          "name": "stdout"
        }
      ]
    },
    {
      "cell_type": "code",
      "metadata": {
        "id": "0KiV_4CEM-9v",
        "colab_type": "code",
        "outputId": "fc443010-dd01-4f2d-99f6-3ddc3fe12673",
        "colab": {
          "base_uri": "https://localhost:8080/",
          "height": 71
        }
      },
      "source": [
        "train_X_txt = tokenizing(train_X.text)\n",
        "test_X_txt = tokenizing(test_X.text)\n",
        "\n",
        "tokenizer = Tokenizer()\n",
        "tokenizer.fit_on_texts(train_X_txt)  \n",
        "train_X_seq = tokenizer.texts_to_sequences(train_X_txt) \n",
        "vocab_size = len(tokenizer.word_index) + 1\n",
        "print('vocab size: ', vocab_size)\n",
        "max_len = 1000 \n",
        "X_train = pad_sequences(train_X_seq, maxlen=max_len)\n",
        "print(\"train data shape: \", X_train.shape)\n",
        "test_X_seq = tokenizer.texts_to_sequences(test_X_txt) \n",
        "X_test = pad_sequences(test_X_seq, maxlen=max_len)\n",
        "print(\"test data shape: \", X_test.shape)"
      ],
      "execution_count": 0,
      "outputs": [
        {
          "output_type": "stream",
          "text": [
            "vocab size:  26672\n",
            "train data shape:  (187030, 1000)\n",
            "test data shape:  (1626, 1000)\n"
          ],
          "name": "stdout"
        }
      ]
    },
    {
      "cell_type": "code",
      "metadata": {
        "id": "N4Y-24XCMY1x",
        "colab_type": "code",
        "outputId": "913334d2-4376-4870-8c98-3e6f00ad68c2",
        "colab": {
          "base_uri": "https://localhost:8080/",
          "height": 487
        }
      },
      "source": [
        "model= Sequential()\n",
        "model.add(Embedding(vocab_size, 128, input_length=max_len))\n",
        "model.add(Bidirectional(LSTM(64)))\n",
        "model.add(Dense(64,activation='relu'))\n",
        "model.add(Dense(1,activation='sigmoid'))\n",
        "\n",
        "model.compile(loss='binary_crossentropy',optimizer='rmsprop',metrics=[auc])\n",
        "model.summary()"
      ],
      "execution_count": 0,
      "outputs": [
        {
          "output_type": "stream",
          "text": [
            "WARNING:tensorflow:From /usr/local/lib/python3.6/dist-packages/tensorflow_core/python/ops/init_ops.py:97: calling GlorotUniform.__init__ (from tensorflow.python.ops.init_ops) with dtype is deprecated and will be removed in a future version.\n",
            "Instructions for updating:\n",
            "Call initializer instance with the dtype argument instead of passing it to the constructor\n",
            "WARNING:tensorflow:From /usr/local/lib/python3.6/dist-packages/tensorflow_core/python/ops/init_ops.py:97: calling Orthogonal.__init__ (from tensorflow.python.ops.init_ops) with dtype is deprecated and will be removed in a future version.\n",
            "Instructions for updating:\n",
            "Call initializer instance with the dtype argument instead of passing it to the constructor\n",
            "WARNING:tensorflow:From /usr/local/lib/python3.6/dist-packages/tensorflow_core/python/ops/init_ops.py:97: calling Zeros.__init__ (from tensorflow.python.ops.init_ops) with dtype is deprecated and will be removed in a future version.\n",
            "Instructions for updating:\n",
            "Call initializer instance with the dtype argument instead of passing it to the constructor\n",
            "Model: \"sequential_7\"\n",
            "_________________________________________________________________\n",
            "Layer (type)                 Output Shape              Param #   \n",
            "=================================================================\n",
            "embedding_7 (Embedding)      (None, 1000, 128)         3414016   \n",
            "_________________________________________________________________\n",
            "bidirectional (Bidirectional (None, 128)               98816     \n",
            "_________________________________________________________________\n",
            "dense_12 (Dense)             (None, 64)                8256      \n",
            "_________________________________________________________________\n",
            "dense_13 (Dense)             (None, 1)                 65        \n",
            "=================================================================\n",
            "Total params: 3,521,153\n",
            "Trainable params: 3,521,153\n",
            "Non-trainable params: 0\n",
            "_________________________________________________________________\n"
          ],
          "name": "stdout"
        }
      ]
    },
    {
      "cell_type": "code",
      "metadata": {
        "id": "DK7auM1KNTBn",
        "colab_type": "code",
        "outputId": "124c7b01-18aa-41e1-a764-4432c98744d5",
        "colab": {
          "base_uri": "https://localhost:8080/",
          "height": 179
        }
      },
      "source": [
        "mname='BiLSTM_v6_ep3_'+format(time.time(),'.0f')\n",
        "\n",
        "history = model.fit(X_train, train_y, epochs=5, batch_size=128, validation_split=0.3)\n",
        "model_json = model.to_json()\n",
        "with open(path+'model/'+mname+'.json', 'w') as json_file : \n",
        "    json_file.write(model_json)\n",
        "model.save_weights(path+'model/'+mname+'.h5')\n",
        "\n",
        "# 여기서 submission\n",
        "y_pred = model.predict(X_test, batch_size=128)\n",
        "submission['smishing'] = y_pred\n",
        "submission.to_csv(path+'submission/'+mname+'.csv',index=False)"
      ],
      "execution_count": 0,
      "outputs": [
        {
          "output_type": "stream",
          "text": [
            "Train on 130920 samples, validate on 56110 samples\n",
            "Epoch 1/5\n",
            "130920/130920 [==============================] - 4549s 35ms/sample - loss: 0.0137 - auc: 0.9996 - val_loss: 0.0014 - val_auc: 1.0000\n",
            "Epoch 2/5\n",
            "130920/130920 [==============================] - 4528s 35ms/sample - loss: 0.0016 - auc: 1.0000 - val_loss: 0.0010 - val_auc: 1.0000\n",
            "Epoch 3/5\n",
            "130920/130920 [==============================] - 4434s 34ms/sample - loss: 7.2616e-04 - auc: 1.0000 - val_loss: 0.0023 - val_auc: 1.0000\n",
            "Epoch 4/5\n",
            " 78080/130920 [================>.............] - ETA: 27:13 - loss: 5.5418e-04 - auc: 1.0000"
          ],
          "name": "stdout"
        }
      ]
    },
    {
      "cell_type": "code",
      "metadata": {
        "id": "u2ZnhYGpNcR8",
        "colab_type": "code",
        "colab": {}
      },
      "source": [
        ""
      ],
      "execution_count": 0,
      "outputs": []
    }
  ]
}