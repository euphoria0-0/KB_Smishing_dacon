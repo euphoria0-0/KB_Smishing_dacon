{
  "nbformat": 4,
  "nbformat_minor": 0,
  "metadata": {
    "colab": {
      "name": "Modeling_1.ipynb",
      "provenance": [],
      "collapsed_sections": [],
      "machine_shape": "hm",
      "include_colab_link": true
    },
    "kernelspec": {
      "name": "python3",
      "display_name": "Python 3"
    },
    "accelerator": "TPU"
  },
  "cells": [
    {
      "cell_type": "markdown",
      "metadata": {
        "id": "view-in-github",
        "colab_type": "text"
      },
      "source": [
        "<a href=\"https://colab.research.google.com/github/euphoria96/KB_Smishing_dacon/blob/master/Modeling_1.ipynb\" target=\"_parent\"><img src=\"https://colab.research.google.com/assets/colab-badge.svg\" alt=\"Open In Colab\"/></a>"
      ]
    },
    {
      "cell_type": "markdown",
      "metadata": {
        "id": "uU8TE6MvgKLJ",
        "colab_type": "text"
      },
      "source": [
        "## Setting\n",
        "### Mounting google drive"
      ]
    },
    {
      "cell_type": "code",
      "metadata": {
        "id": "B0T35SVtgHaw",
        "colab_type": "code",
        "colab": {}
      },
      "source": [
        "from google.colab import drive\n",
        "\n",
        "drive.mount('/content/gdrive')"
      ],
      "execution_count": 0,
      "outputs": []
    },
    {
      "cell_type": "markdown",
      "metadata": {
        "id": "GamuwYZroZbz",
        "colab_type": "text"
      },
      "source": [
        "### Download Mecab\n",
        "현재 다양한 자연어 처리 패키지 중에서 mecab는 윈도우에서는 설치가 힘든 패키지 중 하나이다.\n",
        "\n",
        "이를 극복하기 위해, colab에서 mecab를 설치하고 활용할 수 있도록 colab 파일을 공유하고자 한다."
      ]
    },
    {
      "cell_type": "code",
      "metadata": {
        "id": "WFVbCaja0qHT",
        "colab_type": "code",
        "outputId": "44367820-03a8-47b1-bf60-cd4a6fcff889",
        "colab": {
          "base_uri": "https://localhost:8080/",
          "height": 35
        }
      },
      "source": [
        "cd /content/gdrive/My Drive/Colab Notebooks/smishing/Mecab-ko-for-Google-Colab"
      ],
      "execution_count": 0,
      "outputs": [
        {
          "output_type": "stream",
          "text": [
            "/content/gdrive/My Drive/Colab Notebooks/smishing/Mecab-ko-for-Google-Colab\n"
          ],
          "name": "stdout"
        }
      ]
    },
    {
      "cell_type": "code",
      "metadata": {
        "id": "z_1v1nRQ0sT1",
        "colab_type": "code",
        "colab": {}
      },
      "source": [
        "! bash install_mecab-ko_on_colab190912.sh"
      ],
      "execution_count": 0,
      "outputs": []
    },
    {
      "cell_type": "markdown",
      "metadata": {
        "id": "HHvFvXcDfzk4",
        "colab_type": "text"
      },
      "source": [
        "### Import packages"
      ]
    },
    {
      "cell_type": "code",
      "metadata": {
        "id": "NRTiNhErfhVy",
        "colab_type": "code",
        "colab": {}
      },
      "source": [
        "# data preprocessing\n",
        "import pandas as pd\n",
        "import numpy as np\n",
        "import random\n",
        "from collections import Counter\n",
        "import matplotlib.pyplot as plt\n",
        "from tqdm import tqdm # for checking time\n",
        "import warnings\n",
        "warnings.filterwarnings(action='ignore') "
      ],
      "execution_count": 0,
      "outputs": []
    },
    {
      "cell_type": "markdown",
      "metadata": {
        "id": "J67chBIQCrTW",
        "colab_type": "text"
      },
      "source": [
        "### Load Data"
      ]
    },
    {
      "cell_type": "code",
      "metadata": {
        "id": "kFavEyYyEZ4X",
        "colab_type": "code",
        "outputId": "71a41175-ed5c-4064-ee06-6bba46827740",
        "colab": {
          "base_uri": "https://localhost:8080/",
          "height": 35
        }
      },
      "source": [
        "cd /content/gdrive/My Drive/Colab Notebooks/smishing/"
      ],
      "execution_count": 0,
      "outputs": [
        {
          "output_type": "stream",
          "text": [
            "/content/gdrive/My Drive/Colab Notebooks/smishing\n"
          ],
          "name": "stdout"
        }
      ]
    },
    {
      "cell_type": "code",
      "metadata": {
        "id": "2arA7qSIgtGt",
        "colab_type": "code",
        "outputId": "f1aea9a2-1a99-4c19-f35f-c6e93763c7c5",
        "colab": {
          "base_uri": "https://localhost:8080/",
          "height": 35
        }
      },
      "source": [
        "train = pd.read_csv(\"train.csv\")\n",
        "test = pd.read_csv(\"public_test.csv\")\n",
        "submission=pd.read_csv(\"submission_제출양식.csv\")\n",
        "train.shape, test.shape, submission.shape"
      ],
      "execution_count": 0,
      "outputs": [
        {
          "output_type": "execute_result",
          "data": {
            "text/plain": [
              "((295945, 4), (8105, 3), (8105, 2))"
            ]
          },
          "metadata": {
            "tags": []
          },
          "execution_count": 25
        }
      ]
    },
    {
      "cell_type": "code",
      "metadata": {
        "id": "0ZbRdWzmErX-",
        "colab_type": "code",
        "outputId": "e9267e31-31d3-45ef-da35-6898e6c386d1",
        "colab": {
          "base_uri": "https://localhost:8080/",
          "height": 204
        }
      },
      "source": [
        "train.head()"
      ],
      "execution_count": 0,
      "outputs": [
        {
          "output_type": "execute_result",
          "data": {
            "text/html": [
              "<div>\n",
              "<style scoped>\n",
              "    .dataframe tbody tr th:only-of-type {\n",
              "        vertical-align: middle;\n",
              "    }\n",
              "\n",
              "    .dataframe tbody tr th {\n",
              "        vertical-align: top;\n",
              "    }\n",
              "\n",
              "    .dataframe thead th {\n",
              "        text-align: right;\n",
              "    }\n",
              "</style>\n",
              "<table border=\"1\" class=\"dataframe\">\n",
              "  <thead>\n",
              "    <tr style=\"text-align: right;\">\n",
              "      <th></th>\n",
              "      <th>id</th>\n",
              "      <th>year_month</th>\n",
              "      <th>text</th>\n",
              "      <th>smishing</th>\n",
              "    </tr>\n",
              "  </thead>\n",
              "  <tbody>\n",
              "    <tr>\n",
              "      <th>0</th>\n",
              "      <td>0</td>\n",
              "      <td>2017-01</td>\n",
              "      <td>XXX은행성산XXX팀장입니다.행복한주말되세요</td>\n",
              "      <td>0</td>\n",
              "    </tr>\n",
              "    <tr>\n",
              "      <th>1</th>\n",
              "      <td>1</td>\n",
              "      <td>2017-01</td>\n",
              "      <td>오늘도많이웃으시는하루시작하세요XXX은행 진월동VIP라운지 XXX올림</td>\n",
              "      <td>0</td>\n",
              "    </tr>\n",
              "    <tr>\n",
              "      <th>2</th>\n",
              "      <td>2</td>\n",
              "      <td>2017-01</td>\n",
              "      <td>안녕하십니까 고객님. XXX은행입니다.금일 납부하셔야 할 금액은 153600원 입니...</td>\n",
              "      <td>0</td>\n",
              "    </tr>\n",
              "    <tr>\n",
              "      <th>3</th>\n",
              "      <td>4</td>\n",
              "      <td>2017-01</td>\n",
              "      <td>XXX 고객님안녕하세요XXX은행 XXX지점입니다지난 한 해 동안 저희 XXX지점에 ...</td>\n",
              "      <td>0</td>\n",
              "    </tr>\n",
              "    <tr>\n",
              "      <th>4</th>\n",
              "      <td>5</td>\n",
              "      <td>2017-01</td>\n",
              "      <td>1월은 새로움이 가득XXX입니다.올 한해 더 많이행복한 한해되시길바랍니다</td>\n",
              "      <td>0</td>\n",
              "    </tr>\n",
              "  </tbody>\n",
              "</table>\n",
              "</div>"
            ],
            "text/plain": [
              "   id year_month                                               text  smishing\n",
              "0   0    2017-01                           XXX은행성산XXX팀장입니다.행복한주말되세요         0\n",
              "1   1    2017-01              오늘도많이웃으시는하루시작하세요XXX은행 진월동VIP라운지 XXX올림         0\n",
              "2   2    2017-01  안녕하십니까 고객님. XXX은행입니다.금일 납부하셔야 할 금액은 153600원 입니...         0\n",
              "3   4    2017-01  XXX 고객님안녕하세요XXX은행 XXX지점입니다지난 한 해 동안 저희 XXX지점에 ...         0\n",
              "4   5    2017-01           1월은 새로움이 가득XXX입니다.올 한해 더 많이행복한 한해되시길바랍니다         0"
            ]
          },
          "metadata": {
            "tags": []
          },
          "execution_count": 26
        }
      ]
    },
    {
      "cell_type": "markdown",
      "metadata": {
        "id": "0mDdNNUrhAxu",
        "colab_type": "text"
      },
      "source": [
        "총 train data의 행은 약 29만개, test data의 행은 약 8천개로 되어있다."
      ]
    },
    {
      "cell_type": "markdown",
      "metadata": {
        "id": "WvpIMFkuhEm-",
        "colab_type": "text"
      },
      "source": [
        "## Data Preparation\n",
        "### Sampling\n",
        "1. Under Sampling : smishing 수에 맞추기\n",
        "2. Over Sampling : non-smishing 수에 맞추기\n",
        "3. mixed Sampling : "
      ]
    },
    {
      "cell_type": "code",
      "metadata": {
        "id": "j2Vauy7eg-XX",
        "colab_type": "code",
        "outputId": "577c3e33-7896-43e9-d0a1-00a2caa3866d",
        "colab": {
          "base_uri": "https://localhost:8080/",
          "height": 35
        }
      },
      "source": [
        "Counter(train['smishing'])  # 0.0631975535994864"
      ],
      "execution_count": 0,
      "outputs": [
        {
          "output_type": "execute_result",
          "data": {
            "text/plain": [
              "Counter({0: 277242, 1: 18703})"
            ]
          },
          "metadata": {
            "tags": []
          },
          "execution_count": 27
        }
      ]
    },
    {
      "cell_type": "code",
      "metadata": {
        "id": "Q-RW3wMwhv1H",
        "colab_type": "code",
        "colab": {}
      },
      "source": [
        "RANDOM_SEED = 1234"
      ],
      "execution_count": 0,
      "outputs": []
    },
    {
      "cell_type": "code",
      "metadata": {
        "id": "qmxPnLg2vjcH",
        "colab_type": "code",
        "colab": {}
      },
      "source": [
        "## for train data\n",
        "# index\n",
        "train_nsm_idx=list(train[train['smishing']==0].index)\n",
        "train_sm_idx=list(train[train['smishing']==1].index)\n",
        "# 3. Mixed Sampling\n",
        "random.seed(RANDOM_SEED)\n",
        "train_nsm_idx = random.sample(train_nsm_idx, k=18703*3)\n",
        "random.seed(RANDOM_SEED)\n",
        "train_sm_idx = random.choices(train_sm_idx, k=18703*3)"
      ],
      "execution_count": 0,
      "outputs": []
    },
    {
      "cell_type": "code",
      "metadata": {
        "id": "1pwKAtO9pw1O",
        "colab_type": "code",
        "outputId": "572baa87-8b20-4593-d109-a92dd0bea2f2",
        "colab": {
          "base_uri": "https://localhost:8080/",
          "height": 53
        }
      },
      "source": [
        "# Merge\n",
        "train_idx = train_nsm_idx + train_sm_idx\n",
        "print(train_idx[:5])\n",
        "random.shuffle(train_idx)\n",
        "print(train_idx[:5])"
      ],
      "execution_count": 0,
      "outputs": [
        {
          "output_type": "stream",
          "text": [
            "[242186, 63505, 4255, 49550, 19561]\n",
            "[187347, 140625, 240425, 47135, 243703]\n"
          ],
          "name": "stdout"
        }
      ]
    },
    {
      "cell_type": "code",
      "metadata": {
        "id": "e_qMhkqup-Rq",
        "colab_type": "code",
        "colab": {}
      },
      "source": [
        "# Merge\n",
        "train_X = pd.DataFrame(train['text'], columns=['text']).iloc[train_idx].reset_index(drop=True)\n",
        "train_y = pd.DataFrame(train['smishing'], columns=['smishing']).iloc[train_idx].reset_index(drop=True)"
      ],
      "execution_count": 0,
      "outputs": []
    },
    {
      "cell_type": "code",
      "metadata": {
        "id": "Vr7NRt5Ktoir",
        "colab_type": "code",
        "outputId": "0dafff5c-7cff-420c-baa0-56e40c31ec43",
        "colab": {
          "base_uri": "https://localhost:8080/",
          "height": 35
        }
      },
      "source": [
        "## for test data\n",
        "test['smishing'] = 2 # train data와 동일한 형태 생성을 위해 임의의 숫자를 추가 #이후 스미싱 여부 확률 값으로 덮어 씌워짐\n",
        "test_X = pd.DataFrame(test['text'])\n",
        "test_y = pd.DataFrame(test['smishing'])\n",
        "train_X.shape, train_y.shape, test_X.shape, test_y.shape"
      ],
      "execution_count": 0,
      "outputs": [
        {
          "output_type": "execute_result",
          "data": {
            "text/plain": [
              "((112218, 1), (112218, 1), (8105, 1), (8105, 1))"
            ]
          },
          "metadata": {
            "tags": []
          },
          "execution_count": 73
        }
      ]
    },
    {
      "cell_type": "markdown",
      "metadata": {
        "colab_type": "text",
        "id": "MTCw7aPKbla_"
      },
      "source": [
        "### Tokenizing"
      ]
    },
    {
      "cell_type": "code",
      "metadata": {
        "id": "8KksYY1zborm",
        "colab_type": "code",
        "outputId": "a6b4a7c2-37a9-4a29-b360-9b21092160d9",
        "colab": {
          "base_uri": "https://localhost:8080/",
          "height": 53
        }
      },
      "source": [
        "tmp = [len(x) for x in X_train_text]\n",
        "print('문자최대길이: ',max(tmp))\n",
        "print('문자평균길이: ',sum(tmp)/len(tmp))"
      ],
      "execution_count": 0,
      "outputs": [
        {
          "output_type": "stream",
          "text": [
            "문자최대길이:  1478\n",
            "문자평균길이:  467.7582027838671\n"
          ],
          "name": "stdout"
        }
      ]
    },
    {
      "cell_type": "code",
      "metadata": {
        "id": "t8CMW6L0bmC9",
        "colab_type": "code",
        "colab": {}
      },
      "source": [
        "from tensorflow.keras.preprocessing.text import Tokenizer\n",
        "from tensorflow.keras.preprocessing.sequence import pad_sequences"
      ],
      "execution_count": 0,
      "outputs": []
    },
    {
      "cell_type": "code",
      "metadata": {
        "id": "QCIEjuYerSdC",
        "colab_type": "code",
        "colab": {}
      },
      "source": [
        "X_train_text = train_X.text"
      ],
      "execution_count": 0,
      "outputs": []
    },
    {
      "cell_type": "code",
      "metadata": {
        "id": "oeNj0fAMrBnc",
        "colab_type": "code",
        "colab": {}
      },
      "source": [
        "tokenizer = Tokenizer()\n",
        "tokenizer.fit_on_texts(X_train_text) #5572개의 행을 가진 X의 각 행에 토큰화를 수행\n",
        "X_train_seq = tokenizer.texts_to_sequences(X_train_text) #단어를 숫자값, 인덱스로 변환하여 저장\n",
        "word_to_index = tokenizer.word_index"
      ],
      "execution_count": 0,
      "outputs": []
    },
    {
      "cell_type": "code",
      "metadata": {
        "id": "Ke5sAUcqtyDq",
        "colab_type": "code",
        "outputId": "d1da45c7-9e4e-45d0-eecd-4f2ea60678ba",
        "colab": {
          "base_uri": "https://localhost:8080/",
          "height": 35
        }
      },
      "source": [
        "vocab_size = len(word_to_index) + 1\n",
        "print(vocab_size)"
      ],
      "execution_count": 0,
      "outputs": [
        {
          "output_type": "stream",
          "text": [
            "173343\n"
          ],
          "name": "stdout"
        }
      ]
    },
    {
      "cell_type": "code",
      "metadata": {
        "id": "-ULPfQXybpV2",
        "colab_type": "code",
        "outputId": "76bfc6de-ab3d-4d6d-d5c5-9bc42d67b84d",
        "colab": {
          "base_uri": "https://localhost:8080/",
          "height": 35
        }
      },
      "source": [
        "max_len = 500 # 전체 데이터셋의 길이 맞추기\n",
        "X_train = pad_sequences(X_train_seq, maxlen=max_len)\n",
        "print(\"data shape: \", X_train.shape)"
      ],
      "execution_count": 0,
      "outputs": [
        {
          "output_type": "stream",
          "text": [
            "data shape:  (112218, 500)\n"
          ],
          "name": "stdout"
        }
      ]
    },
    {
      "cell_type": "code",
      "metadata": {
        "id": "Z_5KXmWdAIpJ",
        "colab_type": "code",
        "outputId": "c11d04ed-0d9c-46b4-baee-d832afe923d2",
        "colab": {
          "base_uri": "https://localhost:8080/",
          "height": 35
        }
      },
      "source": [
        "X_test_text = test_X.text\n",
        "\n",
        "tokenizer = Tokenizer()\n",
        "tokenizer.fit_on_texts(X_test_text) #5572개의 행을 가진 X의 각 행에 토큰화를 수행\n",
        "X_test_seq = tokenizer.texts_to_sequences(X_test_text) #단어를 숫자값, 인덱스로 변환하여 저장\n",
        "WordIndex_test = tokenizer.word_index\n",
        "vocab_size_test = len(word_to_index) + 1\n",
        "\n",
        "X_test = pad_sequences(X_test_seq, maxlen=max_len)\n",
        "print(\"data shape: \", X_test.shape)"
      ],
      "execution_count": 0,
      "outputs": [
        {
          "output_type": "stream",
          "text": [
            "data shape:  (8105, 500)\n"
          ],
          "name": "stdout"
        }
      ]
    },
    {
      "cell_type": "markdown",
      "metadata": {
        "id": "AW0S5Nalpg5N",
        "colab_type": "text"
      },
      "source": [
        "## Modeling"
      ]
    },
    {
      "cell_type": "code",
      "metadata": {
        "id": "Il2HPYblI76d",
        "colab_type": "code",
        "colab": {}
      },
      "source": [
        "from tensorflow.keras.layers import Embedding, Dense, SimpleRNN, LSTM\n",
        "from tensorflow.keras.models import Sequential\n",
        "from sklearn.metrics import roc_auc_score\n",
        "import tensorflow as tf"
      ],
      "execution_count": 0,
      "outputs": []
    },
    {
      "cell_type": "code",
      "metadata": {
        "id": "JY49FyLN39Lm",
        "colab_type": "code",
        "colab": {}
      },
      "source": [
        "def auc_score(y_true, y_pred):\n",
        "  try:\n",
        "    auc = roc_auc_score( y_true, y_pred, average='macro', sample_weight=None).astype('float32')\n",
        "  except ValueError:\n",
        "    pass\n",
        "  return auc"
      ],
      "execution_count": 0,
      "outputs": []
    },
    {
      "cell_type": "code",
      "metadata": {
        "id": "IQWP3U-puYjK",
        "colab_type": "code",
        "colab": {}
      },
      "source": [
        "def auc( y_true, y_pred ) :\n",
        "    score = tf.py_func( lambda y_true, y_pred : auc_score(y_true, y_pred) , [y_true, y_pred], 'float32', stateful=False, name='sklearnAUC' )\n",
        "    return score"
      ],
      "execution_count": 0,
      "outputs": []
    },
    {
      "cell_type": "markdown",
      "metadata": {
        "id": "Ex2Oo9uFjB-r",
        "colab_type": "text"
      },
      "source": [
        "### 1. VanillaRNN\n",
        "##### (a) train"
      ]
    },
    {
      "cell_type": "code",
      "metadata": {
        "id": "DJ-e_AGIbrJ1",
        "colab_type": "code",
        "outputId": "64ae72e0-4783-47e3-8337-b70e4ae2c8a7",
        "colab": {
          "base_uri": "https://localhost:8080/",
          "height": 269
        }
      },
      "source": [
        "model1 = Sequential()\n",
        "model1.add(Embedding(vocab_size, 32)) # 임베딩 벡터의 차원은 32\n",
        "model1.add(SimpleRNN(32)) # RNN 셀의 hidden_size는 32\n",
        "model1.add(Dense(1, activation='sigmoid'))\n",
        "\n",
        "model1.compile(optimizer='rmsprop', loss='binary_crossentropy', metrics=[auc])\n",
        "model1.summary()"
      ],
      "execution_count": 0,
      "outputs": [
        {
          "output_type": "stream",
          "text": [
            "Model: \"sequential_9\"\n",
            "_________________________________________________________________\n",
            "Layer (type)                 Output Shape              Param #   \n",
            "=================================================================\n",
            "embedding_8 (Embedding)      (None, None, 32)          5546976   \n",
            "_________________________________________________________________\n",
            "simple_rnn_8 (SimpleRNN)     (None, 32)                2080      \n",
            "_________________________________________________________________\n",
            "dense_8 (Dense)              (None, 1)                 33        \n",
            "=================================================================\n",
            "Total params: 5,549,089\n",
            "Trainable params: 5,549,089\n",
            "Non-trainable params: 0\n",
            "_________________________________________________________________\n"
          ],
          "name": "stdout"
        }
      ]
    },
    {
      "cell_type": "code",
      "metadata": {
        "id": "ebLXGwA5vlR8",
        "colab_type": "code",
        "colab": {}
      },
      "source": [
        "X_train = data"
      ],
      "execution_count": 0,
      "outputs": []
    },
    {
      "cell_type": "code",
      "metadata": {
        "id": "75ZdvYP_ja_f",
        "colab_type": "code",
        "outputId": "2afbbf89-c952-44ef-9f71-edb9c0a380fa",
        "colab": {
          "base_uri": "https://localhost:8080/",
          "height": 215
        }
      },
      "source": [
        "history = model1.fit(X_train, train_y, epochs=5, batch_size=64, validation_split=0.2)"
      ],
      "execution_count": 0,
      "outputs": [
        {
          "output_type": "stream",
          "text": [
            "Train on 89774 samples, validate on 22444 samples\n",
            "Epoch 1/5\n",
            "89774/89774 [==============================] - 175s 2ms/sample - loss: 0.0226 - auc: 0.9991 - val_loss: 0.0045 - val_auc: 1.0000\n",
            "Epoch 2/5\n",
            "89774/89774 [==============================] - 177s 2ms/sample - loss: 0.0026 - auc: 1.0000 - val_loss: 0.0029 - val_auc: 1.0000\n",
            "Epoch 3/5\n",
            "89774/89774 [==============================] - 176s 2ms/sample - loss: 0.0012 - auc: 1.0000 - val_loss: 0.0054 - val_auc: 1.0000\n",
            "Epoch 4/5\n",
            "89774/89774 [==============================] - 176s 2ms/sample - loss: 0.0012 - auc: 1.0000 - val_loss: 0.0029 - val_auc: 1.0000\n",
            "Epoch 5/5\n",
            "89774/89774 [==============================] - 183s 2ms/sample - loss: 9.2640e-04 - auc: 1.0000 - val_loss: 0.0019 - val_auc: 1.0000\n"
          ],
          "name": "stdout"
        }
      ]
    },
    {
      "cell_type": "markdown",
      "metadata": {
        "id": "UFTL0XYgb4J4",
        "colab_type": "text"
      },
      "source": [
        "##### (b) validation"
      ]
    },
    {
      "cell_type": "code",
      "metadata": {
        "id": "KeFzk8JZbxMo",
        "colab_type": "code",
        "outputId": "6f7e4719-c6ef-4e9e-a54b-70c7767ce561",
        "colab": {
          "base_uri": "https://localhost:8080/",
          "height": 71
        }
      },
      "source": [
        "print(\"\\n 테스트 정확도: %.4f\" % (model.evaluate(X_train, train_y)[1]))"
      ],
      "execution_count": 0,
      "outputs": [
        {
          "output_type": "stream",
          "text": [
            "112218/112218 [==============================] - 84s 749us/sample - loss: 0.6571 - auc: 0.7376\n",
            "\n",
            " 테스트 정확도: 0.7376\n"
          ],
          "name": "stdout"
        }
      ]
    },
    {
      "cell_type": "code",
      "metadata": {
        "id": "w5gJwTjFb2VE",
        "colab_type": "code",
        "outputId": "f74e740a-0974-4410-a85d-934f5a2c80f8",
        "colab": {
          "base_uri": "https://localhost:8080/",
          "height": 295
        }
      },
      "source": [
        "epochs = range(1, len(history.history['auc']) + 1)\n",
        "plt.plot(epochs, history.history['loss'])\n",
        "plt.plot(epochs, history.history['val_loss'])\n",
        "plt.title('model loss')\n",
        "plt.ylabel('loss')\n",
        "plt.xlabel('epoch')\n",
        "plt.legend(['train', 'val'], loc='upper left')\n",
        "plt.show()"
      ],
      "execution_count": 0,
      "outputs": [
        {
          "output_type": "display_data",
          "data": {
            "image/png": "[encoded data removed]",
            "text/plain": [
              "<Figure size 432x288 with 1 Axes>"
            ]
          },
          "metadata": {
            "tags": []
          }
        }
      ]
    },
    {
      "cell_type": "markdown",
      "metadata": {
        "id": "l15auqtMG9Uh",
        "colab_type": "text"
      },
      "source": [
        "##### (c) Fit the best one"
      ]
    },
    {
      "cell_type": "code",
      "metadata": {
        "id": "7naj-jXx_-9J",
        "colab_type": "code",
        "colab": {}
      },
      "source": [
        "model1.compile(optimizer='rmsprop', loss='binary_crossentropy', metrics=[auc])\n",
        "history1 = model1.fit(X_train, train_y, epochs=5, batch_size=64, validation_split=0.2)"
      ],
      "execution_count": 0,
      "outputs": []
    },
    {
      "cell_type": "code",
      "metadata": {
        "id": "ua1dZ4eXzIlz",
        "colab_type": "code",
        "outputId": "914165fb-113e-4b20-8d5e-bbdf88f51a6b",
        "colab": {
          "base_uri": "https://localhost:8080/",
          "height": 35
        }
      },
      "source": [
        "y_pred_1 = model1.predict(X_test, batch_size=64)\n",
        "print(y_pred_1.shape)"
      ],
      "execution_count": 0,
      "outputs": [
        {
          "output_type": "stream",
          "text": [
            "(8105, 1)\n"
          ],
          "name": "stdout"
        }
      ]
    },
    {
      "cell_type": "markdown",
      "metadata": {
        "id": "nyd-gDcNpkdJ",
        "colab_type": "text"
      },
      "source": [
        "### Submission\n",
        "test data에서 각 text당 스미싱 확률을 구할 수 있으니 이를 제출양식의 smishing 변수에 넣고 csv 파일로 내보낸다"
      ]
    },
    {
      "cell_type": "code",
      "metadata": {
        "id": "Yv8vAFdMpoT3",
        "colab_type": "code",
        "outputId": "79fcbb35-938b-4ab8-f4ec-d78bec2e0527",
        "colab": {
          "base_uri": "https://localhost:8080/",
          "height": 35
        }
      },
      "source": [
        "cd /content/gdrive/My Drive/Colab Notebooks/smishing/submission"
      ],
      "execution_count": 0,
      "outputs": [
        {
          "output_type": "stream",
          "text": [
            "/content/gdrive/My Drive/Colab Notebooks/smishing/submission\n"
          ],
          "name": "stdout"
        }
      ]
    },
    {
      "cell_type": "code",
      "metadata": {
        "id": "NFfXlBzrpqjk",
        "colab_type": "code",
        "colab": {}
      },
      "source": [
        "submission['smishing'] = y_pred_1\n",
        "\n",
        "submission.to_csv(\"simpleRNN_1.csv\",index=False)"
      ],
      "execution_count": 0,
      "outputs": []
    },
    {
      "cell_type": "code",
      "metadata": {
        "id": "xpBAwTKgpvVM",
        "colab_type": "code",
        "colab": {}
      },
      "source": [
        ""
      ],
      "execution_count": 0,
      "outputs": []
    }
  ]
}