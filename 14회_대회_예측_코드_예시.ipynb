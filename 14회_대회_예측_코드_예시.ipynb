{
 "cells": [
  {
   "cell_type": "markdown",
   "metadata": {},
   "source": [
    "# 1. 필요한 패키지 불러오기"
   ]
  },
  {
   "cell_type": "code",
   "execution_count": 1,
   "metadata": {
    "ExecuteTime": {
     "end_time": "2019-12-24T07:43:41.169308Z",
     "start_time": "2019-12-24T07:43:36.169554Z"
    }
   },
   "outputs": [],
   "source": [
    "import numpy as np\n",
    "import pandas as pd\n",
    "import time\n",
    "import re\n",
    "import random\n",
    "import joblib\n",
    "import warnings\n",
    "warnings.filterwarnings(action='ignore')\n",
    "\n",
    "from tqdm import tqdm\n",
    "from collections import namedtuple, Counter\n",
    "from gensim.models import doc2vec\n",
    "from konlpy.tag import Okt\n",
    "from gensim.models.doc2vec import Doc2Vec, TaggedDocument"
   ]
  },
  {
   "cell_type": "markdown",
   "metadata": {},
   "source": [
    "# 2. get_prediction 함수"
   ]
  },
  {
   "cell_type": "markdown",
   "metadata": {},
   "source": [
    "1. 이 함수는 테스트에 해당하는 csv 파일 경로를 매개변수로 가집니다.\n",
    "2. 이 함수는 미리 만들어진 모델을 불러와 예측을 수행합니다. \n",
    "3. 이 함수는 예측치를 불러온 csv 파일에 넣습니다. 이 때 예측치에 해당하는 column name은 smishing 입니다.\n",
    "4. 이 함수는 데이터프레임을 리턴합니다."
   ]
  },
  {
   "cell_type": "code",
   "execution_count": 2,
   "metadata": {
    "ExecuteTime": {
     "end_time": "2019-12-24T07:44:04.927607Z",
     "start_time": "2019-12-24T07:44:04.909602Z"
    }
   },
   "outputs": [],
   "source": [
    "def get_prediction(test_file_path):\n",
    "    '''\n",
    "    Args: String\n",
    "    Return: Pandas DataFrame    \n",
    "    '''\n",
    "    \n",
    "    '''1. 테스트 파일 불러오기'''\n",
    "    test_data=pd.read_csv(test_file_path)\n",
    "    \n",
    "    \n",
    "    '''2. 모델 불러오기'''\n",
    "    lgb = joblib.load('../1_Model/lgb.pkl')\n",
    "    doc_init = Doc2Vec.load('../1_Model/seven.doc2vec')\n",
    "    \n",
    "    '''3. 예측 전 필요한 사항 진행하기'''\n",
    "    okt = Okt()\n",
    "\n",
    "    removeword=['[Web발신]', \"(광고)\", \"\\n\", \"\\r\",'X','XX','XXX','XXXX','XXXXX','XXXXXX','XXXXXXX',\n",
    "                '.', '을', '를', '이', '가', '-', '(', ')', ':', '!', '?', ')-', '.-', 'ㅡ','..', '.(', '은', '는'] #그냥 사용시 토큰으로 같이 인식됨\n",
    "    # X를 추가한 이유 : 제거 안하니까 kbXXX이런식으로 같이 인식해버림, 굳이 그렇게 인식 될 이유가 전혀 없어보였음\n",
    "\n",
    "    def ishangul(text):\n",
    "        \"\"\"해당 글자가 한글인지 찾아주는 함수입니다.\"\"\"\n",
    "        hanCount = len(re.findall(u'[\\u3130-\\u318F\\uAC00-\\uD7A3]+', text))\n",
    "        return hanCount > 0\n",
    "\n",
    "    def blank(text):\n",
    "        \"\"\"한글과 한글이 아닌 단어사이에 공백을 삽입합니다.\"\"\"\n",
    "        return_doc = []\n",
    "        pre_hangul = True\n",
    "        for i in text:\n",
    "            hangul = ishangul(i)\n",
    "            if pre_hangul != hangul:\n",
    "                return_doc.append(\" \")\n",
    "                return_doc.append(i)\n",
    "            else:\n",
    "                return_doc.append(i)\n",
    "            pre_hangul = hangul\n",
    "        return \"\".join(return_doc)\n",
    "\n",
    "    def tokenize(doc, norm=True, stem=True, removeword=None):\n",
    "        \"\"\"\n",
    "        공백 삽입을 찾아내고, 이후 doc2vec 을 하기위한 데이터로 바꾸줍니다.\n",
    "        특수문자를 'Punctuation' 으로 바꿉니다.\n",
    "        외국어와 숫자를 제거합니다.\n",
    "        \"\"\"\n",
    "        if removeword:\n",
    "            for word in removeword:\n",
    "                doc = doc.replace(word, \" \") #없앨 단어 대체\n",
    "        toekns = [\"/\".join(word) for word in okt.pos(doc)] #토큰 화\n",
    "        doc = blank(doc)  # 해당 문자에서 영어와 한글 사이에 공백을 넣는 함수\n",
    "\n",
    "        adj_toekns = []\n",
    "        for t in toekns:\n",
    "            if \"Punctuation\" in t:\n",
    "                adj_toekns.append(\"Punctuation\")\n",
    "            elif \"Foreign\" in t: # 외국어 제거\n",
    "                pass\n",
    "            elif \"Number\" in t:  # 숫자 제거\n",
    "                pass\n",
    "            else:\n",
    "                adj_toekns.append(t) \n",
    "        return adj_toekns #외국어, 숫자 제거하고 특수문자는 Punctuation 자체로 바꾸고, url도 해당 url 특징에 맞게 바꾸는 함수\n",
    "\n",
    "\n",
    "    #위에 주어진 함수를돌리기 위해서 array화 실행\n",
    "\n",
    "    test_data['smishing']=2\n",
    "    test_data_list = np.array(test_data[[\"text\",\"smishing\"]].values.tolist())\n",
    "    test_docs = [ ( tokenize(row[0],  removeword=removeword ), row[1] ) for row in tqdm(test_data_list) ]\n",
    "    \n",
    "    TaggedDocument = namedtuple('TaggedDocument', 'words tags')\n",
    "\n",
    "    tagged_pred_docs = [TaggedDocument(d, [c]) for d, c in test_docs] # d는 단어랑 타입, c는 스미싱 여부 라벨링(test에서는 없으니 임의로 설정된 것)\n",
    "\n",
    "    def t1(tt):\n",
    "        doc_init.random.seed(0) #동일한 시드를 놔둬서 같은 array의 값이 나오게 설정해둠\n",
    "        return doc_init.infer_vector(tt.words) #단어를 vector화 시킴\n",
    "\n",
    "    pred_x=[ t1(i) for i in tagged_pred_docs ]\n",
    "\n",
    "    pred_tf = pd.DataFrame(pred_x)\n",
    "    \n",
    "    '''4. 예측 진행하기'''\n",
    "    \n",
    "    proba= [ i[1] for i in lgb.predict_proba(pred_tf) ]    \n",
    "    \n",
    "    '''5. 예측치 데이터프레임에 합치기'''\n",
    "    \n",
    "    test_data['smishing']=proba\n",
    "    \n",
    "    return test_data"
   ]
  },
  {
   "cell_type": "code",
   "execution_count": 3,
   "metadata": {},
   "outputs": [
    {
     "name": "stderr",
     "output_type": "stream",
     "text": [
      "100%|██████████████████████████████████████████████████████████████████████████████| 1626/1626 [00:23<00:00, 69.28it/s]\n"
     ]
    },
    {
     "data": {
      "text/html": [
       "<div>\n",
       "<style scoped>\n",
       "    .dataframe tbody tr th:only-of-type {\n",
       "        vertical-align: middle;\n",
       "    }\n",
       "\n",
       "    .dataframe tbody tr th {\n",
       "        vertical-align: top;\n",
       "    }\n",
       "\n",
       "    .dataframe thead th {\n",
       "        text-align: right;\n",
       "    }\n",
       "</style>\n",
       "<table border=\"1\" class=\"dataframe\">\n",
       "  <thead>\n",
       "    <tr style=\"text-align: right;\">\n",
       "      <th></th>\n",
       "      <th>id</th>\n",
       "      <th>year_month</th>\n",
       "      <th>text</th>\n",
       "      <th>smishing</th>\n",
       "    </tr>\n",
       "  </thead>\n",
       "  <tbody>\n",
       "    <tr>\n",
       "      <th>0</th>\n",
       "      <td>340000</td>\n",
       "      <td>2019-01</td>\n",
       "      <td>XXX고객님! 안녕하세요? 새롭게 시작하는 한 주 행복 가득하시길 기원합니다. 지난...</td>\n",
       "      <td>6.175360e-05</td>\n",
       "    </tr>\n",
       "    <tr>\n",
       "      <th>1</th>\n",
       "      <td>340001</td>\n",
       "      <td>2019-01</td>\n",
       "      <td>긴급 안내  XXX은행 가락동 지점  - 헬리오XXX 기본XXX    대출이자를 ...</td>\n",
       "      <td>8.922148e-07</td>\n",
       "    </tr>\n",
       "    <tr>\n",
       "      <th>2</th>\n",
       "      <td>340002</td>\n",
       "      <td>2019-01</td>\n",
       "      <td>XXX 고객님 안녕하세요올해는 미세먼지가 유난인거 같습니다.엊그제 새해가 시작된거같...</td>\n",
       "      <td>8.816719e-05</td>\n",
       "    </tr>\n",
       "    <tr>\n",
       "      <th>3</th>\n",
       "      <td>340003</td>\n",
       "      <td>2019-01</td>\n",
       "      <td>XXX 고객님찾아온 행운을 잡으셨나요? 못잡으셨다면 이번에 다시 잡으시길 기원합니다...</td>\n",
       "      <td>3.139068e-06</td>\n",
       "    </tr>\n",
       "    <tr>\n",
       "      <th>4</th>\n",
       "      <td>340004</td>\n",
       "      <td>2019-01</td>\n",
       "      <td>XXX 고객님새해 복 많이 받으세요 XXX은행 코스트코 퇴직연금 담당자입니다.  고...</td>\n",
       "      <td>1.406295e-05</td>\n",
       "    </tr>\n",
       "  </tbody>\n",
       "</table>\n",
       "</div>"
      ],
      "text/plain": [
       "       id year_month                                               text  \\\n",
       "0  340000    2019-01  XXX고객님! 안녕하세요? 새롭게 시작하는 한 주 행복 가득하시길 기원합니다. 지난...   \n",
       "1  340001    2019-01   긴급 안내  XXX은행 가락동 지점  - 헬리오XXX 기본XXX    대출이자를 ...   \n",
       "2  340002    2019-01  XXX 고객님 안녕하세요올해는 미세먼지가 유난인거 같습니다.엊그제 새해가 시작된거같...   \n",
       "3  340003    2019-01  XXX 고객님찾아온 행운을 잡으셨나요? 못잡으셨다면 이번에 다시 잡으시길 기원합니다...   \n",
       "4  340004    2019-01  XXX 고객님새해 복 많이 받으세요 XXX은행 코스트코 퇴직연금 담당자입니다.  고...   \n",
       "\n",
       "       smishing  \n",
       "0  6.175360e-05  \n",
       "1  8.922148e-07  \n",
       "2  8.816719e-05  \n",
       "3  3.139068e-06  \n",
       "4  1.406295e-05  "
      ]
     },
     "execution_count": 3,
     "metadata": {},
     "output_type": "execute_result"
    }
   ],
   "source": [
    "# get_prediction 함수의 return 형식을 보여주기 위한 예제 입니다. 작성하지 않으셔도 무관합니다.\n",
    "get_prediction('../0_Data/public_test.csv').head()"
   ]
  }
 ],
 "metadata": {
  "hide_input": false,
  "kernelspec": {
   "display_name": "Python 3",
   "language": "python",
   "name": "python3"
  },
  "language_info": {
   "codemirror_mode": {
    "name": "ipython",
    "version": 3
   },
   "file_extension": ".py",
   "mimetype": "text/x-python",
   "name": "python",
   "nbconvert_exporter": "python",
   "pygments_lexer": "ipython3",
   "version": "3.7.4"
  },
  "toc": {
   "base_numbering": 1,
   "nav_menu": {},
   "number_sections": true,
   "sideBar": true,
   "skip_h1_title": false,
   "title_cell": "Table of Contents",
   "title_sidebar": "Contents",
   "toc_cell": false,
   "toc_position": {},
   "toc_section_display": true,
   "toc_window_display": false
  },
  "varInspector": {
   "cols": {
    "lenName": 16,
    "lenType": 16,
    "lenVar": 40
   },
   "kernels_config": {
    "python": {
     "delete_cmd_postfix": "",
     "delete_cmd_prefix": "del ",
     "library": "var_list.py",
     "varRefreshCmd": "print(var_dic_list())"
    },
    "r": {
     "delete_cmd_postfix": ") ",
     "delete_cmd_prefix": "rm(",
     "library": "var_list.r",
     "varRefreshCmd": "cat(var_dic_list()) "
    }
   },
   "types_to_exclude": [
    "module",
    "function",
    "builtin_function_or_method",
    "instance",
    "_Feature"
   ],
   "window_display": false
  }
 },
 "nbformat": 4,
 "nbformat_minor": 2
}
