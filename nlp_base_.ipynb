{
  "nbformat": 4,
  "nbformat_minor": 0,
  "metadata": {
    "colab": {
      "name": "nlp_base_.ipynb",
      "provenance": [],
      "collapsed_sections": [],
      "authorship_tag": "ABX9TyOhoZrJXna+fullYm/WzVPo"
    },
    "kernelspec": {
      "name": "python3",
      "display_name": "Python 3"
    }
  },
  "cells": [
    {
      "cell_type": "markdown",
      "metadata": {
        "id": "h4Ig8aky6h8d",
        "colab_type": "text"
      },
      "source": [
        "### Settings"
      ]
    },
    {
      "cell_type": "code",
      "metadata": {
        "id": "VdJr7Fdf57FB",
        "colab_type": "code",
        "colab": {}
      },
      "source": [
        "# data preprocessing\n",
        "import os\n",
        "import pandas as pd\n",
        "import numpy as np\n",
        "import random\n",
        "import warnings\n",
        "warnings.filterwarnings(action='ignore')\n",
        "import pickle\n",
        "from datetime import datetime, timedelta\n",
        "# tokenizer\n",
        "import re\n",
        "from konlpy.tag import Mecab\n",
        "# model setting\n",
        "from sklearn.feature_extraction.text import TfidfVectorizer, CountVectorizer\n",
        "from sklearn.model_selection import train_test_split, cross_val_score, KFold, RandomizedSearchCV\n",
        "from sklearn.pipeline import Pipeline\n",
        "from sklearn.metrics import accuracy_score\n",
        "# models\n",
        "from sklearn.naive_bayes import MultinomialNB\n",
        "from sklearn.ensemble import RandomForestClassifier, AdaBoostClassifier\n",
        "from sklearn.linear_model import SGDClassifier, LogisticRegression\n",
        "from sklearn.neighbors import KNeighborsClassifier\n",
        "from lightgbm import LGBMClassifier"
      ],
      "execution_count": 0,
      "outputs": []
    },
    {
      "cell_type": "markdown",
      "metadata": {
        "id": "ZZ4eMwz66lIZ",
        "colab_type": "text"
      },
      "source": [
        "### load data"
      ]
    },
    {
      "cell_type": "code",
      "metadata": {
        "id": "XIWj9eBzNcpI",
        "colab_type": "code",
        "colab": {}
      },
      "source": [
        "os.chdir('/content/gdrive/My Drive/Colab Notebooks/programmers/')\n",
        "train = pd.read_csv('data/hashcode_classification2020_train.csv')\n",
        "test = pd.read_csv('data/hashcode_classification2020_test.csv')\n",
        "submission=pd.read_csv('data/hashcode_classification2020_sample.csv')\n",
        "print(train.shape, test.shape, submission.shape)"
      ],
      "execution_count": 0,
      "outputs": []
    },
    {
      "cell_type": "markdown",
      "metadata": {
        "id": "Jqu3yQrK6m0-",
        "colab_type": "text"
      },
      "source": [
        "### text preprocessing"
      ]
    },
    {
      "cell_type": "code",
      "metadata": {
        "id": "2W22pD1z598I",
        "colab_type": "code",
        "colab": {}
      },
      "source": [
        "def text_process(data):\n",
        "    X_data = []\n",
        "    tokenizer = Mecab()\n",
        "    for i in range(len(data)):\n",
        "        X = []\n",
        "        try:\n",
        "            txt = data['title'][i]+' '+data['content'][i]\n",
        "        except TypeError: \n",
        "            txt = data['title'][i]\n",
        "        txt = re.sub('[^가-힣a-zA-Z0-9]',' ',txt)\n",
        "        txt = re.sub('  +',' ',txt).split()\n",
        "        for x in txt:\n",
        "            isHangul = bool(re.search('[가-힣]',x))\n",
        "            isEng = bool(re.match('[A-Za-z]',x))\n",
        "            if isHangul:\n",
        "                xx = re.split('([가-힣])+',x) if isEng else tokenizer.nouns(x)\n",
        "                X.extend([x for x in xx if x != '' and len(x)>1])\n",
        "            else:\n",
        "                X.append(x)\n",
        "        X_data.append(' '.join(X))\n",
        "    return pd.Series(X_data)"
      ],
      "execution_count": 0,
      "outputs": []
    },
    {
      "cell_type": "code",
      "metadata": {
        "id": "14N_zDkV5_YP",
        "colab_type": "code",
        "colab": {}
      },
      "source": [
        "X_train = text_process(train)\n",
        "X_test = text_process(test)"
      ],
      "execution_count": 0,
      "outputs": []
    },
    {
      "cell_type": "code",
      "metadata": {
        "id": "zUeVlffb6Awv",
        "colab_type": "code",
        "colab": {}
      },
      "source": [
        "def bigram(data):\n",
        "    bigram_list = []\n",
        "    for text in data:\n",
        "        token = text.split()\n",
        "        bigram = [token[i]+'.'+token[i+1] for i in range(len(token)-1)]  # bi-gram\n",
        "        bigram_list.append(' '.join(bigram))\n",
        "    return bigram_list"
      ],
      "execution_count": 0,
      "outputs": []
    },
    {
      "cell_type": "code",
      "metadata": {
        "id": "Rdvln35A6Dn3",
        "colab_type": "code",
        "colab": {}
      },
      "source": [
        "X_train2 = bigram(X_train)\n",
        "X_test2 = bigram(X_test)"
      ],
      "execution_count": 0,
      "outputs": []
    },
    {
      "cell_type": "code",
      "metadata": {
        "id": "tHY9pExc6XuG",
        "colab_type": "code",
        "colab": {}
      },
      "source": [
        "y_train = train['label']"
      ],
      "execution_count": 0,
      "outputs": []
    },
    {
      "cell_type": "code",
      "metadata": {
        "id": "WJFZhtGE6EEV",
        "colab_type": "code",
        "outputId": "8de8bba7-6ef9-47d9-ad47-8024aa88f555",
        "colab": {
          "base_uri": "https://localhost:8080/",
          "height": 35
        }
      },
      "source": [
        "v = CountVectorizer()\n",
        "v.fit(X_train)\n",
        "vec_train_count = v.transform(X_train).toarray()\n",
        "vec_test_count = v.transform(X_test).toarray()\n",
        "vec_train_count.shape"
      ],
      "execution_count": 0,
      "outputs": [
        {
          "output_type": "execute_result",
          "data": {
            "text/plain": [
              "(2592, 19851)"
            ]
          },
          "metadata": {
            "tags": []
          },
          "execution_count": 11
        }
      ]
    },
    {
      "cell_type": "code",
      "metadata": {
        "id": "r7CbZW0G6UCu",
        "colab_type": "code",
        "outputId": "4447cc15-968d-4af4-99ed-9223d5724f2d",
        "colab": {
          "base_uri": "https://localhost:8080/",
          "height": 35
        }
      },
      "source": [
        "v2 = TfidfVectorizer()\n",
        "v2.fit(X_train)\n",
        "vec_train_TFIDF = v2.transform(X_train).toarray()\n",
        "vec_test_TFIDF = v2.transform(X_test).toarray()\n",
        "vec_train_TFIDF.shape"
      ],
      "execution_count": 0,
      "outputs": [
        {
          "output_type": "execute_result",
          "data": {
            "text/plain": [
              "(2592, 19851)"
            ]
          },
          "metadata": {
            "tags": []
          },
          "execution_count": 12
        }
      ]
    },
    {
      "cell_type": "markdown",
      "metadata": {
        "id": "YrLUy4Yp6qbu",
        "colab_type": "text"
      },
      "source": [
        "### modeling"
      ]
    },
    {
      "cell_type": "code",
      "metadata": {
        "id": "ju6njImo3Cec",
        "colab_type": "code",
        "colab": {}
      },
      "source": [
        "RANDOM_SEED = 2486"
      ],
      "execution_count": 0,
      "outputs": []
    },
    {
      "cell_type": "code",
      "metadata": {
        "id": "WrEF3aTn6UdI",
        "colab_type": "code",
        "colab": {}
      },
      "source": [
        "model1 = Pipeline([\n",
        "    ('model', MultinomialNB()),\n",
        "])\n",
        "model2 = Pipeline([\n",
        "    ('model', RandomForestClassifier(random_state=RANDOM_SEED)),\n",
        "])\n",
        "model3 = Pipeline([\n",
        "    ('model', SGDClassifier(random_state=RANDOM_SEED, loss='hinge')),\n",
        "])\n",
        "model4 = Pipeline([\n",
        "    ('model', LogisticRegression(random_state=RANDOM_SEED)),\n",
        "])\n",
        "model5 = Pipeline([\n",
        "    ('model', AdaBoostClassifier(random_state=RANDOM_SEED)),\n",
        "])\n",
        "model6 = Pipeline([\n",
        "    ('model', LGBMClassifier(n_estimators=400, random_state=RANDOM_SEED))\n",
        "])\n",
        "'''model7 = Pipeline([\n",
        "    ('model', SVC(random_state=RANDOM_SEED)), # probability=True\n",
        "])'''\n",
        "\n",
        "models = [model1, model2, model3, model4, model5, model6]"
      ],
      "execution_count": 0,
      "outputs": []
    },
    {
      "cell_type": "code",
      "metadata": {
        "id": "yUiaZkkR6Vmt",
        "colab_type": "code",
        "outputId": "fe53b97f-314b-4f1f-e437-efbbe83510b6",
        "colab": {
          "base_uri": "https://localhost:8080/",
          "height": 125
        }
      },
      "source": [
        "for i, model in enumerate(models):\n",
        "    scores = cross_val_score(model, vec_train_count, y_train, cv=5, scoring = 'accuracy')\n",
        "    print((\"Model{0:d}: Mean score: {1:.4f}\").format(i + 1, np.mean(scores))) # AUC 평균"
      ],
      "execution_count": 0,
      "outputs": [
        {
          "output_type": "stream",
          "text": [
            "Model1: Mean score: 0.7751\n",
            "Model2: Mean score: 0.7824\n",
            "Model3: Mean score: 0.7685\n",
            "Model4: Mean score: 0.7727\n",
            "Model5: Mean score: 0.7284\n",
            "Model6: Mean score: 0.6308\n"
          ],
          "name": "stdout"
        }
      ]
    },
    {
      "cell_type": "markdown",
      "metadata": {
        "id": "anF4mL1R2rwP",
        "colab_type": "text"
      },
      "source": [
        "### find the best parameter"
      ]
    },
    {
      "cell_type": "code",
      "metadata": {
        "id": "wpwbpGdB39Vj",
        "colab_type": "code",
        "colab": {}
      },
      "source": [
        ""
      ],
      "execution_count": 0,
      "outputs": []
    },
    {
      "cell_type": "code",
      "metadata": {
        "id": "OVKchW5t2rKN",
        "colab_type": "code",
        "colab": {}
      },
      "source": [
        "def RandomSearch_lgbm(X, y):\n",
        "    clf = Pipeline([\n",
        "            (\"lgbm\", LGBMClassifier(random_state=RANDOM_SEED)),\n",
        "        ])\n",
        "\n",
        "    param_grid = [{\n",
        "        'lgbm__n_estimators': [x for x in range(100,1000,100)],\n",
        "        'lgbm__num_leaves': [x for x in range(10,100,10)],\n",
        "        'lgbm__max_depth': [x for x in range(2,10)],\n",
        "        }]\n",
        "\n",
        "    random_search = RandomizedSearchCV(clf, param_grid, cv=5, scoring='accuracy')\n",
        "\n",
        "    random_search.fit(X, y)\n",
        "\n",
        "    pm = random_search.best_params_\n",
        "    print(pm)\n",
        "\n",
        "    clf = LGBMClassifier(n_estimators=pm['lgbm__n_estimators'], num_leaves=pm['lgbm__num_leaves'], max_depth=pm['lgbm__max_depth'], random_state=RANDOM_SEED)\n",
        "    print('Mean acc: ', np.mean(cross_val_score(clf, X, y, cv=5, scoring = 'accuracy')))"
      ],
      "execution_count": 0,
      "outputs": []
    },
    {
      "cell_type": "code",
      "metadata": {
        "id": "1j4lKCP34-Ey",
        "colab_type": "code",
        "outputId": "74ae474a-ee64-4ceb-ba4f-81e9683c5d8a",
        "colab": {
          "base_uri": "https://localhost:8080/",
          "height": 53
        }
      },
      "source": [
        "RandomSearch_lgbm(vec_train_count, y_train)"
      ],
      "execution_count": 0,
      "outputs": [
        {
          "output_type": "stream",
          "text": [
            "{'lgbm__num_leaves': 80, 'lgbm__n_estimators': 300, 'lgbm__max_depth': 4}\n",
            "Mean acc:  [0.81117534 0.82080925 0.80694981 0.8011583  0.77799228]\n"
          ],
          "name": "stdout"
        }
      ]
    },
    {
      "cell_type": "markdown",
      "metadata": {
        "id": "R1ThuWx-6tX8",
        "colab_type": "text"
      },
      "source": [
        "### prediction"
      ]
    },
    {
      "cell_type": "code",
      "metadata": {
        "id": "S8HRb_zL6aX9",
        "colab_type": "code",
        "outputId": "6bb5ab04-3b91-4343-885d-44cf4c6507d2",
        "colab": {
          "base_uri": "https://localhost:8080/",
          "height": 35
        }
      },
      "source": [
        "clf = LGBMClassifier(n_estimators=50, num_leaves=500, max_depth=4, random_state=RANDOM_SEED)\n",
        "clf.fit(vec_train_count2, y_train)\n",
        "y_pred = clf.predict(vec_test_count2)\n",
        "y_pred[:5]"
      ],
      "execution_count": 0,
      "outputs": [
        {
          "output_type": "execute_result",
          "data": {
            "text/plain": [
              "array([5, 4, 1, 3, 5])"
            ]
          },
          "metadata": {
            "tags": []
          },
          "execution_count": 49
        }
      ]
    },
    {
      "cell_type": "code",
      "metadata": {
        "id": "V3eYc9I86dG7",
        "colab_type": "code",
        "colab": {}
      },
      "source": [
        "y_pred = ['label'] + y_pred.tolist()\n",
        "pd.Series(y_pred).to_csv('submission/LGBM_c2_'+(datetime.now()+timedelta(hours=9)).isoformat()[5:-10]+'.csv',index=False)"
      ],
      "execution_count": 0,
      "outputs": []
    },
    {
      "cell_type": "code",
      "metadata": {
        "id": "3uS1aRbi-kAX",
        "colab_type": "code",
        "colab": {}
      },
      "source": [
        ""
      ],
      "execution_count": 0,
      "outputs": []
    }
  ]
}