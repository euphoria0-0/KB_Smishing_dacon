{
  "nbformat": 4,
  "nbformat_minor": 0,
  "metadata": {
    "colab": {
      "name": "Model4_BiLSTM_v2.ipynb",
      "provenance": [],
      "collapsed_sections": [],
      "machine_shape": "hm",
      "include_colab_link": true
    },
    "kernelspec": {
      "name": "python3",
      "display_name": "Python 3"
    },
    "accelerator": "TPU"
  },
  "cells": [
    {
      "cell_type": "markdown",
      "metadata": {
        "id": "view-in-github",
        "colab_type": "text"
      },
      "source": [
        "<a href=\"https://colab.research.google.com/github/euphoria96/KB_Smishing_dacon/blob/master/Model4_BiLSTM_v2.ipynb\" target=\"_parent\"><img src=\"https://colab.research.google.com/assets/colab-badge.svg\" alt=\"Open In Colab\"/></a>"
      ]
    },
    {
      "cell_type": "markdown",
      "metadata": {
        "id": "uU8TE6MvgKLJ",
        "colab_type": "text"
      },
      "source": [
        "## Setting\n",
        "Mounting google drive"
      ]
    },
    {
      "cell_type": "code",
      "metadata": {
        "id": "B0T35SVtgHaw",
        "colab_type": "code",
        "colab": {
          "base_uri": "https://localhost:8080/",
          "height": 127
        },
        "outputId": "890e0da7-5258-43e5-9b7b-6b9a33e932d8"
      },
      "source": [
        "from google.colab import drive\n",
        "drive.mount('/content/gdrive')"
      ],
      "execution_count": 1,
      "outputs": [
        {
          "output_type": "stream",
          "text": [
            "Go to this URL in a browser: ...\n",
            "\n",
            "Enter your authorization code:\n",
            "··········\n",
            "Mounted at /content/gdrive\n"
          ],
          "name": "stdout"
        }
      ]
    },
    {
      "cell_type": "markdown",
      "metadata": {
        "id": "GamuwYZroZbz",
        "colab_type": "text"
      },
      "source": [
        "### Download Mecab\n",
        "Mecab for colab by dacon.io"
      ]
    },
    {
      "cell_type": "code",
      "metadata": {
        "id": "cI4LMAuS243Q",
        "colab_type": "code",
        "colab": {
          "base_uri": "https://localhost:8080/",
          "height": 35
        },
        "outputId": "1bba7d0a-bdf1-48a1-db9b-575d9688c158"
      },
      "source": [
        "cd /content/gdrive/My Drive/Colab Notebooks/smishing/Mecab-ko-for-Google-Colab"
      ],
      "execution_count": 3,
      "outputs": [
        {
          "output_type": "stream",
          "text": [
            "/content/gdrive/My Drive/Colab Notebooks/smishing/Mecab-ko-for-Google-Colab\n"
          ],
          "name": "stdout"
        }
      ]
    },
    {
      "cell_type": "code",
      "metadata": {
        "id": "WFVbCaja0qHT",
        "colab_type": "code",
        "colab": {}
      },
      "source": [
        "! bash install_mecab-ko_on_colab190912.sh"
      ],
      "execution_count": 0,
      "outputs": []
    },
    {
      "cell_type": "markdown",
      "metadata": {
        "id": "HHvFvXcDfzk4",
        "colab_type": "text"
      },
      "source": [
        "### Import packages"
      ]
    },
    {
      "cell_type": "code",
      "metadata": {
        "id": "kOY7wsx_LKCj",
        "colab_type": "code",
        "colab": {}
      },
      "source": [
        "# data preprocessing\n",
        "import pandas as pd\n",
        "import numpy as np\n",
        "import random\n",
        "import matplotlib.pyplot as plt\n",
        "# tokenizer\n",
        "import re\n",
        "from konlpy.tag import Mecab\n",
        "# modeling\n",
        "import tensorflow as tf\n",
        "from tensorflow.keras.preprocessing.text import Tokenizer\n",
        "from tensorflow.keras.preprocessing.sequence import pad_sequences\n",
        "from tensorflow.keras.layers import Embedding, Dense, LSTM, GRU, Bidirectional, Dropout\n",
        "from tensorflow.keras.models import Sequential, model_from_json\n",
        "from sklearn.metrics import roc_auc_score\n",
        "import pickle\n",
        "from datetime import datetime\n",
        "from datetime import timedelta\n",
        "import warnings\n",
        "warnings.filterwarnings(action='ignore') "
      ],
      "execution_count": 0,
      "outputs": []
    },
    {
      "cell_type": "markdown",
      "metadata": {
        "id": "J67chBIQCrTW",
        "colab_type": "text"
      },
      "source": [
        "### Load Data"
      ]
    },
    {
      "cell_type": "code",
      "metadata": {
        "id": "KGErwNtdgu8n",
        "colab_type": "code",
        "outputId": "0d561ca5-cb13-447f-cd3d-4be46cc6997f",
        "colab": {
          "base_uri": "https://localhost:8080/",
          "height": 35
        }
      },
      "source": [
        "cd /content/gdrive/My Drive/Colab Notebooks/smishing/"
      ],
      "execution_count": 6,
      "outputs": [
        {
          "output_type": "stream",
          "text": [
            "/content/gdrive/My Drive/Colab Notebooks/smishing\n"
          ],
          "name": "stdout"
        }
      ]
    },
    {
      "cell_type": "code",
      "metadata": {
        "id": "2arA7qSIgtGt",
        "colab_type": "code",
        "outputId": "a87d8b8b-eacf-4e61-dce1-9888166bf94e",
        "colab": {
          "base_uri": "https://localhost:8080/",
          "height": 160
        }
      },
      "source": [
        "train = pd.read_csv('data/train.csv')\n",
        "test = pd.read_csv('data/public_test.csv')\n",
        "submission=pd.read_csv('data/submission_제출양식.csv')\n",
        "print(train.shape, test.shape, submission.shape)\n",
        "train.head(3)"
      ],
      "execution_count": 7,
      "outputs": [
        {
          "output_type": "stream",
          "text": [
            "(295945, 4) (1626, 3) (1626, 2)\n"
          ],
          "name": "stdout"
        },
        {
          "output_type": "execute_result",
          "data": {
            "text/html": [
              "<div>\n",
              "<style scoped>\n",
              "    .dataframe tbody tr th:only-of-type {\n",
              "        vertical-align: middle;\n",
              "    }\n",
              "\n",
              "    .dataframe tbody tr th {\n",
              "        vertical-align: top;\n",
              "    }\n",
              "\n",
              "    .dataframe thead th {\n",
              "        text-align: right;\n",
              "    }\n",
              "</style>\n",
              "<table border=\"1\" class=\"dataframe\">\n",
              "  <thead>\n",
              "    <tr style=\"text-align: right;\">\n",
              "      <th></th>\n",
              "      <th>id</th>\n",
              "      <th>year_month</th>\n",
              "      <th>text</th>\n",
              "      <th>smishing</th>\n",
              "    </tr>\n",
              "  </thead>\n",
              "  <tbody>\n",
              "    <tr>\n",
              "      <th>0</th>\n",
              "      <td>0</td>\n",
              "      <td>2017-01</td>\n",
              "      <td>XXX은행성산XXX팀장입니다.행복한주말되세요</td>\n",
              "      <td>0</td>\n",
              "    </tr>\n",
              "    <tr>\n",
              "      <th>1</th>\n",
              "      <td>1</td>\n",
              "      <td>2017-01</td>\n",
              "      <td>오늘도많이웃으시는하루시작하세요XXX은행 진월동VIP라운지 XXX올림</td>\n",
              "      <td>0</td>\n",
              "    </tr>\n",
              "    <tr>\n",
              "      <th>2</th>\n",
              "      <td>2</td>\n",
              "      <td>2017-01</td>\n",
              "      <td>안녕하십니까 고객님. XXX은행입니다.금일 납부하셔야 할 금액은 153600원 입니...</td>\n",
              "      <td>0</td>\n",
              "    </tr>\n",
              "  </tbody>\n",
              "</table>\n",
              "</div>"
            ],
            "text/plain": [
              "   id year_month                                               text  smishing\n",
              "0   0    2017-01                           XXX은행성산XXX팀장입니다.행복한주말되세요         0\n",
              "1   1    2017-01              오늘도많이웃으시는하루시작하세요XXX은행 진월동VIP라운지 XXX올림         0\n",
              "2   2    2017-01  안녕하십니까 고객님. XXX은행입니다.금일 납부하셔야 할 금액은 153600원 입니...         0"
            ]
          },
          "metadata": {
            "tags": []
          },
          "execution_count": 7
        }
      ]
    },
    {
      "cell_type": "markdown",
      "metadata": {
        "id": "WvpIMFkuhEm-",
        "colab_type": "text"
      },
      "source": [
        "## Data Preparation\n"
      ]
    },
    {
      "cell_type": "code",
      "metadata": {
        "id": "uVLBtcSahzN2",
        "colab_type": "code",
        "colab": {}
      },
      "source": [
        "def text_preprocessing(text_list):\n",
        "    stopwords = ['을', '를', '이', '가', '은', '는', 'null']\n",
        "    tokenizer = Mecab()\n",
        "    token_list = []\n",
        "    for text in text_list:\n",
        "        tokens = []\n",
        "        txt = re.sub('[^가-힣a-z]',' ',text.lower())\n",
        "        txt = re.sub('x{1,}',' ',txt)\n",
        "        token = tokenizer.morphs(txt)\n",
        "        for t in token:\n",
        "            if t not in stopwords:\n",
        "                tokens.append(t)\n",
        "        token_list.append(' '.join(tokens))\n",
        "    return token_list"
      ],
      "execution_count": 0,
      "outputs": []
    },
    {
      "cell_type": "code",
      "metadata": {
        "id": "akYjBvn8wFHp",
        "colab_type": "code",
        "colab": {}
      },
      "source": [
        "train['text_'] = text_preprocessing(train.text)\n",
        "test['text_'] = text_preprocessing(test.text)"
      ],
      "execution_count": 0,
      "outputs": []
    },
    {
      "cell_type": "markdown",
      "metadata": {
        "id": "m7cxxNAtwEXj",
        "colab_type": "text"
      },
      "source": [
        "### Sampling\n",
        "- Counter({0: 277242, 1: 18703}) #0.0631975535994864\n",
        "- mixed sampling"
      ]
    },
    {
      "cell_type": "code",
      "metadata": {
        "id": "uMesNE1BmU1U",
        "colab_type": "code",
        "colab": {}
      },
      "source": [
        "def data_sampling(seed=1234, k=3):\n",
        "    train_nsm_idx=list(train[train['smishing']==0].index)\n",
        "    train_sm_idx=list(train[train['smishing']==1].index)\n",
        "    random.seed(seed)\n",
        "    train_nsm_idx = random.sample(train_nsm_idx, k=18703*k)\n",
        "    random.seed(seed)\n",
        "    train_sm_idx = random.choices(train_sm_idx, k=18703*k)\n",
        "    train_idx = train_nsm_idx + train_sm_idx\n",
        "    print(train_idx[:5])\n",
        "    random.shuffle(train_idx)\n",
        "    print(train_idx[:5])\n",
        "    train_X = pd.DataFrame(train['text_'], columns=['text_']).iloc[train_idx].reset_index(drop=True)\n",
        "    train_y = pd.DataFrame(train['smishing'], columns=['smishing']).iloc[train_idx].reset_index(drop=True)\n",
        "    print(train_X.shape, train_y.shape)\n",
        "    return train_X, train_y"
      ],
      "execution_count": 0,
      "outputs": []
    },
    {
      "cell_type": "markdown",
      "metadata": {
        "colab_type": "text",
        "id": "MTCw7aPKbla_"
      },
      "source": [
        "### Tokenizing"
      ]
    },
    {
      "cell_type": "code",
      "metadata": {
        "id": "0EzqvOqSlkrO",
        "colab_type": "code",
        "colab": {}
      },
      "source": [
        "def data_preparation(train_text, test_text, max_len=1000):\n",
        "    tokenizer = Tokenizer()\n",
        "    tokenizer.fit_on_texts(train_text)\n",
        "    train_X_seq = tokenizer.texts_to_sequences(train_text)\n",
        "    vocab_size = len(tokenizer.word_index) + 1\n",
        "    print('vocab size: ', vocab_size)\n",
        "    X_train = pad_sequences(train_X_seq, maxlen=max_len)\n",
        "    test_X_seq = tokenizer.texts_to_sequences(test_text)\n",
        "    X_test = pad_sequences(test_X_seq, maxlen=max_len)\n",
        "    print(\"train & test shape: \", X_train.shape, X_test.shape)\n",
        "    return X_train, X_test, vocab_size"
      ],
      "execution_count": 0,
      "outputs": []
    },
    {
      "cell_type": "code",
      "metadata": {
        "id": "JY49FyLN39Lm",
        "colab_type": "code",
        "colab": {}
      },
      "source": [
        "auc_=0\n",
        "def auc_score(y_true, y_pred):\n",
        "  global auc_\n",
        "  try:\n",
        "    auc_ = roc_auc_score( y_true, y_pred, average='macro', sample_weight=None).astype('float32')\n",
        "  except ValueError:\n",
        "    pass\n",
        "  return auc_\n",
        "\n",
        "def auc( y_true, y_pred ) :\n",
        "    score = tf.py_func( lambda y_true, y_pred : auc_score(y_true, y_pred) , [y_true, y_pred], 'float32', stateful=False, name='sklearnAUC' )\n",
        "    return score"
      ],
      "execution_count": 0,
      "outputs": []
    },
    {
      "cell_type": "code",
      "metadata": {
        "id": "bpJnBvgClEhA",
        "colab_type": "code",
        "colab": {}
      },
      "source": [
        "def model_save(model, mname):\n",
        "  model_json = model.to_json()\n",
        "  with open('model/'+mname+'.json', 'w') as json_file : \n",
        "      json_file.write(model_json)\n",
        "  model.save_weights('model/'+mname+'.h5')"
      ],
      "execution_count": 0,
      "outputs": []
    },
    {
      "cell_type": "markdown",
      "metadata": {
        "id": "AW0S5Nalpg5N",
        "colab_type": "text"
      },
      "source": [
        "## Modeling"
      ]
    },
    {
      "cell_type": "markdown",
      "metadata": {
        "id": "_u_k2CJ5ivkU",
        "colab_type": "text"
      },
      "source": [
        "### 2. LSTM\n",
        "##### (1) train"
      ]
    },
    {
      "cell_type": "code",
      "metadata": {
        "id": "e4Kzam2On2QF",
        "colab_type": "code",
        "outputId": "5ea5183e-94d3-44fe-f1a7-21d683e39a0d",
        "colab": {
          "base_uri": "https://localhost:8080/",
          "height": 71
        }
      },
      "source": [
        "train_X, train_y = data_sampling(seed=14, k=3)"
      ],
      "execution_count": 31,
      "outputs": [
        {
          "output_type": "stream",
          "text": [
            "[58166, 294810, 133868, 146944, 138654]\n",
            "[20507, 291834, 220048, 288135, 117900]\n",
            "(112218, 1) (112218, 1)\n"
          ],
          "name": "stdout"
        }
      ]
    },
    {
      "cell_type": "code",
      "metadata": {
        "id": "9PxK2NeymFVf",
        "colab_type": "code",
        "outputId": "e586d049-4007-4591-8f6d-3763eae148bc",
        "colab": {
          "base_uri": "https://localhost:8080/",
          "height": 53
        }
      },
      "source": [
        "X_train, X_test, vocab_size = data_preparation(train_X.text_, test.text_, max_len=800)"
      ],
      "execution_count": 35,
      "outputs": [
        {
          "output_type": "stream",
          "text": [
            "vocab size:  22741\n",
            "train & test shape:  (112218, 800) (1626, 800)\n"
          ],
          "name": "stdout"
        }
      ]
    },
    {
      "cell_type": "code",
      "metadata": {
        "id": "gYrB44HUXbWm",
        "colab_type": "code",
        "colab": {}
      },
      "source": [
        "def build_model():\n",
        "    model = Sequential()\n",
        "    model.add(Embedding(vocab_size, 128, input_length = 800))\n",
        "    model.add(Bidirectional(LSTM(64)))\n",
        "    model.add(Dropout(0.5))\n",
        "    model.add(Dense(64, activation='relu'))\n",
        "    model.add(Dense(1, activation='sigmoid'))\n",
        "\n",
        "    model.compile(optimizer='adam', loss='binary_crossentropy', metrics=[auc])\n",
        "    model.summary()\n",
        "    return model"
      ],
      "execution_count": 0,
      "outputs": []
    },
    {
      "cell_type": "code",
      "metadata": {
        "id": "syLSqXQOEwKG",
        "colab_type": "code",
        "outputId": "f691e722-cf4d-451b-eb1c-dc76fe710e03",
        "colab": {
          "base_uri": "https://localhost:8080/",
          "height": 143
        }
      },
      "source": [
        "mname = 'BiLSTM_v6_ep3_'+(datetime.now() + timedelta(hours=9) ).isoformat()[:-7]\n",
        "\n",
        "history = model.fit(X_train, train_y, epochs=3, batch_size=128, validation_split=0.2)\n",
        "model_save(model, mname)\n",
        "\n",
        "y_pred = model.predict(X_test, batch_size=128)\n",
        "submission['smishing'] = y_pred\n",
        "submission.to_csv('submission/'+mname+'.csv',index=False)"
      ],
      "execution_count": 38,
      "outputs": [
        {
          "output_type": "stream",
          "text": [
            "Train on 89774 samples, validate on 22444 samples\n",
            "Epoch 1/3\n",
            "89774/89774 [==============================] - 1784s 20ms/sample - loss: 0.0213 - auc: 0.9973 - val_loss: 0.0012 - val_auc: 1.0000\n",
            "Epoch 2/3\n",
            "89774/89774 [==============================] - 1777s 20ms/sample - loss: 2.8228e-04 - auc: 1.0000 - val_loss: 6.9778e-05 - val_auc: 1.0000\n",
            "Epoch 3/3\n",
            "89774/89774 [==============================] - 1735s 19ms/sample - loss: 6.0473e-05 - auc: 1.0000 - val_loss: 1.1175e-05 - val_auc: 1.0000\n"
          ],
          "name": "stdout"
        }
      ]
    },
    {
      "cell_type": "markdown",
      "metadata": {
        "id": "eXpPSYbce6V-",
        "colab_type": "text"
      },
      "source": [
        "---"
      ]
    },
    {
      "cell_type": "code",
      "metadata": {
        "id": "83Hhqdxnos9o",
        "colab_type": "code",
        "colab": {
          "base_uri": "https://localhost:8080/",
          "height": 557
        },
        "outputId": "12b9ce16-8e03-4c21-8158-7c6e79f19c72"
      },
      "source": [
        "train_X, train_y = data_sampling(seed=1414, k=3)\n",
        "X_train, X_test, vocab_size = data_preparation(train_X.text_, test.text_, max_len=800)\n",
        "\n",
        "mname = 'BiLSTM_v6_ep3_v2_'+(datetime.now() + timedelta(hours=9) ).isoformat()[:-7]\n",
        "\n",
        "model1 = build_model()\n",
        "history = model1.fit(X_train, train_y, epochs=3, batch_size=128, validation_split=0.2)\n",
        "model_save(model1, mname)\n",
        "\n",
        "y_pred2 = model1.predict(X_test, batch_size=128)\n",
        "submission['smishing'] = (y_pred + y_pred2)/2\n",
        "submission.to_csv('submission/'+mname+'.csv',index=False)"
      ],
      "execution_count": 40,
      "outputs": [
        {
          "output_type": "stream",
          "text": [
            "[75290, 110818, 51127, 260254, 45739]\n",
            "[114583, 161102, 95488, 237237, 112813]\n",
            "(112218, 1) (112218, 1)\n",
            "vocab size:  22783\n",
            "train & test shape:  (112218, 800) (1626, 800)\n",
            "Model: \"sequential_2\"\n",
            "_________________________________________________________________\n",
            "Layer (type)                 Output Shape              Param #   \n",
            "=================================================================\n",
            "embedding_2 (Embedding)      (None, 800, 128)          2916224   \n",
            "_________________________________________________________________\n",
            "bidirectional_2 (Bidirection (None, 128)               98816     \n",
            "_________________________________________________________________\n",
            "dropout_2 (Dropout)          (None, 128)               0         \n",
            "_________________________________________________________________\n",
            "dense_4 (Dense)              (None, 64)                8256      \n",
            "_________________________________________________________________\n",
            "dense_5 (Dense)              (None, 1)                 65        \n",
            "=================================================================\n",
            "Total params: 3,023,361\n",
            "Trainable params: 3,023,361\n",
            "Non-trainable params: 0\n",
            "_________________________________________________________________\n",
            "Train on 89774 samples, validate on 22444 samples\n",
            "Epoch 1/3\n",
            "89774/89774 [==============================] - 1822s 20ms/sample - loss: 0.0259 - auc: 0.9977 - val_loss: 0.0022 - val_auc: 1.0000\n",
            "Epoch 2/3\n",
            "89774/89774 [==============================] - 1810s 20ms/sample - loss: 7.7114e-04 - auc: 1.0000 - val_loss: 5.5568e-04 - val_auc: 1.0000\n",
            "Epoch 3/3\n",
            "89774/89774 [==============================] - 1850s 21ms/sample - loss: 0.0011 - auc: 1.0000 - val_loss: 6.7665e-04 - val_auc: 1.0000\n"
          ],
          "name": "stdout"
        }
      ]
    },
    {
      "cell_type": "code",
      "metadata": {
        "id": "RB4AwNnA1x7c",
        "colab_type": "code",
        "colab": {
          "base_uri": "https://localhost:8080/",
          "height": 35
        },
        "outputId": "9ca4fec9-a98b-49f9-c083-a13cf36ba45e"
      },
      "source": [
        "random.randint(0,99999999)"
      ],
      "execution_count": 45,
      "outputs": [
        {
          "output_type": "execute_result",
          "data": {
            "text/plain": [
              "15026912"
            ]
          },
          "metadata": {
            "tags": []
          },
          "execution_count": 45
        }
      ]
    },
    {
      "cell_type": "code",
      "metadata": {
        "id": "4mZFhMKI1WkV",
        "colab_type": "code",
        "colab": {
          "base_uri": "https://localhost:8080/",
          "height": 557
        },
        "outputId": "d24d455b-c349-4f88-d4d3-d5e04582efd4"
      },
      "source": [
        "train_X, train_y = data_sampling(seed=15026912, k=3)\n",
        "X_train, X_test, vocab_size = data_preparation(train_X.text_, test.text_, max_len=800)\n",
        "\n",
        "model1 = build_model()\n",
        "history = model1.fit(X_train, train_y, epochs=3, batch_size=128, validation_split=0.2)\n",
        "\n",
        "mname = 'BiLSTM_v6_ep3_v3_'+(datetime.now() + timedelta(hours=9) ).isoformat()[:-7]\n",
        "model_save(model1, mname)\n",
        "\n",
        "y_pred = model1.predict(X_test, batch_size=128)\n",
        "submission['smishing'] = y_pred\n",
        "submission.to_csv('submission/'+mname+'.csv',index=False)"
      ],
      "execution_count": 46,
      "outputs": [
        {
          "output_type": "stream",
          "text": [
            "[206864, 218560, 111768, 152524, 170588]\n",
            "[215521, 255764, 240035, 194395, 282623]\n",
            "(112218, 1) (112218, 1)\n",
            "vocab size:  22656\n",
            "train & test shape:  (112218, 800) (1626, 800)\n",
            "Model: \"sequential_3\"\n",
            "_________________________________________________________________\n",
            "Layer (type)                 Output Shape              Param #   \n",
            "=================================================================\n",
            "embedding_3 (Embedding)      (None, 800, 128)          2899968   \n",
            "_________________________________________________________________\n",
            "bidirectional_3 (Bidirection (None, 128)               98816     \n",
            "_________________________________________________________________\n",
            "dropout_3 (Dropout)          (None, 128)               0         \n",
            "_________________________________________________________________\n",
            "dense_6 (Dense)              (None, 64)                8256      \n",
            "_________________________________________________________________\n",
            "dense_7 (Dense)              (None, 1)                 65        \n",
            "=================================================================\n",
            "Total params: 3,007,105\n",
            "Trainable params: 3,007,105\n",
            "Non-trainable params: 0\n",
            "_________________________________________________________________\n",
            "Train on 89774 samples, validate on 22444 samples\n",
            "Epoch 1/3\n",
            "89774/89774 [==============================] - 1720s 19ms/sample - loss: 0.0228 - auc: 0.9974 - val_loss: 6.7121e-04 - val_auc: 1.0000\n",
            "Epoch 2/3\n",
            "89774/89774 [==============================] - 1618s 18ms/sample - loss: 0.0046 - auc: 1.0000 - val_loss: 0.0014 - val_auc: 1.0000\n",
            "Epoch 3/3\n",
            "89774/89774 [==============================] - 1611s 18ms/sample - loss: 4.2615e-04 - auc: 1.0000 - val_loss: 0.0013 - val_auc: 1.0000\n"
          ],
          "name": "stdout"
        }
      ]
    },
    {
      "cell_type": "code",
      "metadata": {
        "id": "mpmOUO1YJQB_",
        "colab_type": "code",
        "colab": {}
      },
      "source": [
        ""
      ],
      "execution_count": 0,
      "outputs": []
    }
  ]
}
