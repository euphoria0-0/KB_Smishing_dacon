{
  "nbformat": 4,
  "nbformat_minor": 0,
  "metadata": {
    "colab": {
      "name": "Model4_BiLSTM_ngram.ipynb",
      "provenance": [],
      "collapsed_sections": [],
      "machine_shape": "hm",
      "include_colab_link": true
    },
    "kernelspec": {
      "name": "python3",
      "display_name": "Python 3"
    },
    "accelerator": "TPU"
  },
  "cells": [
    {
      "cell_type": "markdown",
      "metadata": {
        "id": "view-in-github",
        "colab_type": "text"
      },
      "source": [
        "<a href=\"https://colab.research.google.com/github/euphoria96/KB_Smishing_dacon/blob/master/Model4_BiLSTM_ngram.ipynb\" target=\"_parent\"><img src=\"https://colab.research.google.com/assets/colab-badge.svg\" alt=\"Open In Colab\"/></a>"
      ]
    },
    {
      "cell_type": "markdown",
      "metadata": {
        "id": "uU8TE6MvgKLJ",
        "colab_type": "text"
      },
      "source": [
        "## Setting\n",
        "Mounting google drive"
      ]
    },
    {
      "cell_type": "code",
      "metadata": {
        "id": "B0T35SVtgHaw",
        "colab_type": "code",
        "colab": {}
      },
      "source": [
        "from google.colab import drive\n",
        "drive.mount('/content/gdrive')"
      ],
      "execution_count": 0,
      "outputs": []
    },
    {
      "cell_type": "markdown",
      "metadata": {
        "id": "GamuwYZroZbz",
        "colab_type": "text"
      },
      "source": [
        "### Download Mecab\n",
        "Mecab for colab by dacon.io"
      ]
    },
    {
      "cell_type": "code",
      "metadata": {
        "id": "cI4LMAuS243Q",
        "colab_type": "code",
        "outputId": "a1b580dc-427c-4bea-afec-b3799221a0cd",
        "colab": {
          "base_uri": "https://localhost:8080/",
          "height": 35
        }
      },
      "source": [
        "cd /content/gdrive/My Drive/Colab Notebooks/smishing/Mecab-ko-for-Google-Colab"
      ],
      "execution_count": 0,
      "outputs": [
        {
          "output_type": "stream",
          "text": [
            "/content/gdrive/My Drive/Colab Notebooks/smishing/Mecab-ko-for-Google-Colab\n"
          ],
          "name": "stdout"
        }
      ]
    },
    {
      "cell_type": "code",
      "metadata": {
        "id": "WFVbCaja0qHT",
        "colab_type": "code",
        "colab": {}
      },
      "source": [
        "! bash install_mecab-ko_on_colab190912.sh"
      ],
      "execution_count": 0,
      "outputs": []
    },
    {
      "cell_type": "markdown",
      "metadata": {
        "id": "HHvFvXcDfzk4",
        "colab_type": "text"
      },
      "source": [
        "### Import packages"
      ]
    },
    {
      "cell_type": "code",
      "metadata": {
        "id": "kOY7wsx_LKCj",
        "colab_type": "code",
        "colab": {}
      },
      "source": [
        "# data preprocessing\n",
        "import pandas as pd\n",
        "import numpy as np\n",
        "import random\n",
        "import matplotlib.pyplot as plt\n",
        "# tokenizer\n",
        "import re\n",
        "from konlpy.tag import Mecab\n",
        "# modeling\n",
        "import tensorflow as tf\n",
        "from tensorflow.keras.preprocessing.text import Tokenizer\n",
        "from tensorflow.keras.preprocessing.sequence import pad_sequences\n",
        "from tensorflow.keras.layers import Embedding, Dense, LSTM, Bidirectional, Flatten, Input, SpatialDropout1D, Conv1D, MaxPooling1D, GRU, Dropout\n",
        "from tensorflow.keras.models import Sequential\n",
        "from tensorflow.keras import regularizers\n",
        "from sklearn.metrics import roc_auc_score\n",
        "import pickle\n",
        "from datetime import datetime, timedelta\n",
        "import warnings\n",
        "warnings.filterwarnings(action='ignore')"
      ],
      "execution_count": 0,
      "outputs": []
    },
    {
      "cell_type": "markdown",
      "metadata": {
        "id": "J67chBIQCrTW",
        "colab_type": "text"
      },
      "source": [
        "### Load Data"
      ]
    },
    {
      "cell_type": "code",
      "metadata": {
        "id": "KGErwNtdgu8n",
        "colab_type": "code",
        "outputId": "27f726f8-fcc1-4d25-8fdd-c15e60fdd0e1",
        "colab": {
          "base_uri": "https://localhost:8080/",
          "height": 35
        }
      },
      "source": [
        "cd /content/gdrive/My Drive/Colab Notebooks/smishing/"
      ],
      "execution_count": 0,
      "outputs": [
        {
          "output_type": "stream",
          "text": [
            "/content/gdrive/My Drive/Colab Notebooks/smishing\n"
          ],
          "name": "stdout"
        }
      ]
    },
    {
      "cell_type": "code",
      "metadata": {
        "id": "2arA7qSIgtGt",
        "colab_type": "code",
        "outputId": "2f687396-ce31-49a6-a479-f33a22b74ef8",
        "colab": {
          "base_uri": "https://localhost:8080/",
          "height": 160
        }
      },
      "source": [
        "train = pd.read_csv('data/train.csv')\n",
        "test = pd.read_csv('data/public_test.csv')\n",
        "submission=pd.read_csv('data/submission_제출양식.csv')\n",
        "print(train.shape, test.shape, submission.shape)\n",
        "train.head(3)"
      ],
      "execution_count": 0,
      "outputs": [
        {
          "output_type": "stream",
          "text": [
            "(295945, 4) (1626, 3) (1626, 2)\n"
          ],
          "name": "stdout"
        },
        {
          "output_type": "execute_result",
          "data": {
            "text/html": [
              "<div>\n",
              "<style scoped>\n",
              "    .dataframe tbody tr th:only-of-type {\n",
              "        vertical-align: middle;\n",
              "    }\n",
              "\n",
              "    .dataframe tbody tr th {\n",
              "        vertical-align: top;\n",
              "    }\n",
              "\n",
              "    .dataframe thead th {\n",
              "        text-align: right;\n",
              "    }\n",
              "</style>\n",
              "<table border=\"1\" class=\"dataframe\">\n",
              "  <thead>\n",
              "    <tr style=\"text-align: right;\">\n",
              "      <th></th>\n",
              "      <th>id</th>\n",
              "      <th>year_month</th>\n",
              "      <th>text</th>\n",
              "      <th>smishing</th>\n",
              "    </tr>\n",
              "  </thead>\n",
              "  <tbody>\n",
              "    <tr>\n",
              "      <th>0</th>\n",
              "      <td>0</td>\n",
              "      <td>2017-01</td>\n",
              "      <td>XXX은행성산XXX팀장입니다.행복한주말되세요</td>\n",
              "      <td>0</td>\n",
              "    </tr>\n",
              "    <tr>\n",
              "      <th>1</th>\n",
              "      <td>1</td>\n",
              "      <td>2017-01</td>\n",
              "      <td>오늘도많이웃으시는하루시작하세요XXX은행 진월동VIP라운지 XXX올림</td>\n",
              "      <td>0</td>\n",
              "    </tr>\n",
              "    <tr>\n",
              "      <th>2</th>\n",
              "      <td>2</td>\n",
              "      <td>2017-01</td>\n",
              "      <td>안녕하십니까 고객님. XXX은행입니다.금일 납부하셔야 할 금액은 153600원 입니...</td>\n",
              "      <td>0</td>\n",
              "    </tr>\n",
              "  </tbody>\n",
              "</table>\n",
              "</div>"
            ],
            "text/plain": [
              "   id year_month                                               text  smishing\n",
              "0   0    2017-01                           XXX은행성산XXX팀장입니다.행복한주말되세요         0\n",
              "1   1    2017-01              오늘도많이웃으시는하루시작하세요XXX은행 진월동VIP라운지 XXX올림         0\n",
              "2   2    2017-01  안녕하십니까 고객님. XXX은행입니다.금일 납부하셔야 할 금액은 153600원 입니...         0"
            ]
          },
          "metadata": {
            "tags": []
          },
          "execution_count": 6
        }
      ]
    },
    {
      "cell_type": "markdown",
      "metadata": {
        "id": "WvpIMFkuhEm-",
        "colab_type": "text"
      },
      "source": [
        "## Data Preparation\n"
      ]
    },
    {
      "cell_type": "markdown",
      "metadata": {
        "id": "NNLLwnt1bCm-",
        "colab_type": "text"
      },
      "source": [
        "### Tokenizing"
      ]
    },
    {
      "cell_type": "code",
      "metadata": {
        "id": "uVLBtcSahzN2",
        "colab_type": "code",
        "colab": {}
      },
      "source": [
        "def text_preprocessing(text_list):\n",
        "    stopwords = ['을', '를', '이', '가', '은', '는', 'null']\n",
        "    tokenizer = Mecab()\n",
        "    token_list, ngram_list = [], []\n",
        "    for text in text_list:\n",
        "        txt = re.sub('[^가-힣a-z]',' ',text.lower())\n",
        "        txt = re.sub('x{1,}',' ',txt)\n",
        "        token = tokenizer.morphs(txt)\n",
        "        token = [t for t in token if t not in stopwords]\n",
        "        token_list.append(' '.join(token))\n",
        "        ngram = [token[i]+'.'+token[i+1] for i in range(len(token)-1)]\n",
        "        ngram_list.append(' '.join(ngram))\n",
        "    return token_list, ngram_list"
      ],
      "execution_count": 0,
      "outputs": []
    },
    {
      "cell_type": "markdown",
      "metadata": {
        "id": "m7cxxNAtwEXj",
        "colab_type": "text"
      },
      "source": [
        "### Sampling\n",
        "- Counter({0: 277242, 1: 18703}) #0.0631975535994864\n",
        "- mixed sampling"
      ]
    },
    {
      "cell_type": "code",
      "metadata": {
        "id": "uMesNE1BmU1U",
        "colab_type": "code",
        "colab": {}
      },
      "source": [
        "def data_sampling(col='text_', seed=1234, a=3, b=3):\n",
        "    train_nsm_idx=list(train[train['smishing']==0].index)\n",
        "    train_sm_idx=list(train[train['smishing']==1].index)\n",
        "    random.seed(seed)\n",
        "    train_nsm_idx = random.sample(train_nsm_idx, k=18703*a)\n",
        "    random.seed(seed)\n",
        "    train_sm_idx = random.choices(train_sm_idx, k=18703*b)\n",
        "    train_idx = train_nsm_idx + train_sm_idx\n",
        "    print(train_idx[:5])\n",
        "    random.shuffle(train_idx)\n",
        "    print(train_idx[:5])\n",
        "    train_X = pd.DataFrame(train[col], columns=[col]).iloc[train_idx].reset_index(drop=True)\n",
        "    train_y = pd.DataFrame(train['smishing'], columns=['smishing']).iloc[train_idx].reset_index(drop=True)\n",
        "    print(train_X.shape, train_y.shape)\n",
        "    return train_X, train_y"
      ],
      "execution_count": 0,
      "outputs": []
    },
    {
      "cell_type": "markdown",
      "metadata": {
        "colab_type": "text",
        "id": "MTCw7aPKbla_"
      },
      "source": [
        "### Word Embedding"
      ]
    },
    {
      "cell_type": "code",
      "metadata": {
        "id": "0EzqvOqSlkrO",
        "colab_type": "code",
        "colab": {}
      },
      "source": [
        "def data_preparation(train_text, test_text, max_len=1000):\n",
        "    tokenizer = Tokenizer()\n",
        "    tokenizer.fit_on_texts(train_text)\n",
        "    train_X_seq = tokenizer.texts_to_sequences(train_text)\n",
        "    vocab_size = len(tokenizer.word_index) + 1\n",
        "    print('vocab size: ', vocab_size)\n",
        "    X_train = pad_sequences(train_X_seq, maxlen=max_len)\n",
        "    test_X_seq = tokenizer.texts_to_sequences(test_text)\n",
        "    X_test = pad_sequences(test_X_seq, maxlen=max_len)\n",
        "    print(\"train & test shape: \", X_train.shape, X_test.shape)\n",
        "    return X_train, X_test, vocab_size"
      ],
      "execution_count": 0,
      "outputs": []
    },
    {
      "cell_type": "markdown",
      "metadata": {
        "id": "BtTVC1F0bLnN",
        "colab_type": "text"
      },
      "source": [
        "### scoring for modeling"
      ]
    },
    {
      "cell_type": "code",
      "metadata": {
        "id": "JY49FyLN39Lm",
        "colab_type": "code",
        "colab": {}
      },
      "source": [
        "auc_=0\n",
        "def auc_score(y_true, y_pred):\n",
        "    global auc_\n",
        "    try:\n",
        "        auc_ = roc_auc_score( y_true, y_pred, average='macro', sample_weight=None).astype('float32')\n",
        "    except ValueError:\n",
        "        pass\n",
        "    return auc_\n",
        "\n",
        "def auc( y_true, y_pred ) :\n",
        "    score = tf.py_func( lambda y_true, y_pred : auc_score(y_true, y_pred) , [y_true, y_pred], 'float32', stateful=False, name='sklearnAUC' )\n",
        "    return score"
      ],
      "execution_count": 0,
      "outputs": []
    },
    {
      "cell_type": "code",
      "metadata": {
        "id": "bpJnBvgClEhA",
        "colab_type": "code",
        "colab": {}
      },
      "source": [
        "def model_save(model, mname):\n",
        "    model_json = model.to_json()\n",
        "    with open('model/'+mname+'.json', 'w') as json_file : \n",
        "        json_file.write(model_json)\n",
        "    model.save_weights('model/'+mname+'.h5')"
      ],
      "execution_count": 0,
      "outputs": []
    },
    {
      "cell_type": "markdown",
      "metadata": {
        "id": "AW0S5Nalpg5N",
        "colab_type": "text"
      },
      "source": [
        "## Modeling"
      ]
    },
    {
      "cell_type": "code",
      "metadata": {
        "id": "hGvn2xcfs-zh",
        "colab_type": "code",
        "colab": {}
      },
      "source": [
        "train['text_'], train['ngram'] = text_preprocessing(train.text)\n",
        "test['text_'], test['ngram'] = text_preprocessing(test.text)"
      ],
      "execution_count": 0,
      "outputs": []
    },
    {
      "cell_type": "code",
      "metadata": {
        "id": "m1HgBHDjNxl_",
        "colab_type": "code",
        "outputId": "2a985560-afc2-429b-8920-1e4fbfd3b02d",
        "colab": {
          "base_uri": "https://localhost:8080/",
          "height": 71
        }
      },
      "source": [
        "train_X_n, train_y_n = data_sampling(col='ngram', seed=15026912, a=3, b=2)"
      ],
      "execution_count": 0,
      "outputs": [
        {
          "output_type": "stream",
          "text": [
            "[206864, 218560, 111768, 152524, 170588]\n",
            "[25559, 185452, 293634, 175839, 247866]\n",
            "(93515, 1) (93515, 1)\n"
          ],
          "name": "stdout"
        }
      ]
    },
    {
      "cell_type": "code",
      "metadata": {
        "id": "T0-lKlufOF1O",
        "colab_type": "code",
        "outputId": "e92df07b-f35b-496a-9b1c-76d1cc8b8b65",
        "colab": {
          "base_uri": "https://localhost:8080/",
          "height": 53
        }
      },
      "source": [
        "X_train_n, X_test_n, vocab_size_n = data_preparation(train_X_n.ngram, test.text_, max_len=800)"
      ],
      "execution_count": 0,
      "outputs": [
        {
          "output_type": "stream",
          "text": [
            "vocab size:  22607\n",
            "train & test shape:  (93515, 800) (1626, 800)\n"
          ],
          "name": "stdout"
        }
      ]
    },
    {
      "cell_type": "markdown",
      "metadata": {
        "id": "_u_k2CJ5ivkU",
        "colab_type": "text"
      },
      "source": [
        "### 1. BiLSTM - 2gram"
      ]
    },
    {
      "cell_type": "code",
      "metadata": {
        "id": "gYrB44HUXbWm",
        "colab_type": "code",
        "colab": {}
      },
      "source": [
        "def BiLSTM(vocab_size, max_len=800):\n",
        "    model = Sequential()\n",
        "    model.add(Embedding(vocab_size, 128, input_length = max_len))\n",
        "    model.add(Dropout(0.3))\n",
        "    model.add(Bidirectional(LSTM(64)))\n",
        "    model.add(Dropout(0.5))\n",
        "    model.add(Dense(64, activation='tanh', kernel_regularizer = regularizers.l2(0.001)))\n",
        "    model.add(Dense(1, activation='sigmoid'))\n",
        "\n",
        "    model.compile(optimizer='adam', loss='binary_crossentropy', metrics=[auc])\n",
        "    model.summary()\n",
        "    return model"
      ],
      "execution_count": 0,
      "outputs": []
    },
    {
      "cell_type": "code",
      "metadata": {
        "id": "fULSvCnRmfep",
        "colab_type": "code",
        "outputId": "2f210a2a-d587-42b4-89da-58848a09851c",
        "colab": {
          "base_uri": "https://localhost:8080/",
          "height": 647
        }
      },
      "source": [
        "model1 = BiLSTM(vocab_size_n)\n",
        "history = model1.fit(X_train_n, train_y_n, epochs=7, batch_size=128, validation_split=0.2)\n",
        "\n",
        "mname = (datetime.now() + timedelta(hours=9) ).isoformat()[5:-10]+'_BiLSTM_2gram_ep7'\n",
        "model_save(model1, mname)\n",
        "\n",
        "y_pred = model1.predict(X_test_n, batch_size=128)\n",
        "submission['smishing'] = y_pred\n",
        "submission.to_csv('submission/'+mname+'.csv',index=False)"
      ],
      "execution_count": 0,
      "outputs": [
        {
          "output_type": "stream",
          "text": [
            "Model: \"sequential_1\"\n",
            "_________________________________________________________________\n",
            "Layer (type)                 Output Shape              Param #   \n",
            "=================================================================\n",
            "embedding_1 (Embedding)      (None, 800, 128)          2893696   \n",
            "_________________________________________________________________\n",
            "dropout_2 (Dropout)          (None, 800, 128)          0         \n",
            "_________________________________________________________________\n",
            "bidirectional_1 (Bidirection (None, 128)               98816     \n",
            "_________________________________________________________________\n",
            "dropout_3 (Dropout)          (None, 128)               0         \n",
            "_________________________________________________________________\n",
            "dense_2 (Dense)              (None, 64)                8256      \n",
            "_________________________________________________________________\n",
            "dense_3 (Dense)              (None, 1)                 65        \n",
            "=================================================================\n",
            "Total params: 3,000,833\n",
            "Trainable params: 3,000,833\n",
            "Non-trainable params: 0\n",
            "_________________________________________________________________\n",
            "Train on 74812 samples, validate on 18703 samples\n",
            "Epoch 1/7\n",
            "74812/74812 [==============================] - 1644s 22ms/sample - loss: 0.0588 - auc: 0.9959 - val_loss: 0.0068 - val_auc: 0.9999\n",
            "Epoch 2/7\n",
            "74812/74812 [==============================] - 1641s 22ms/sample - loss: 0.0038 - auc: 1.0000 - val_loss: 0.0045 - val_auc: 1.0000\n",
            "Epoch 3/7\n",
            "74812/74812 [==============================] - 1666s 22ms/sample - loss: 0.0038 - auc: 1.0000 - val_loss: 0.0028 - val_auc: 1.0000\n",
            "Epoch 4/7\n",
            "74812/74812 [==============================] - 1669s 22ms/sample - loss: 0.0019 - auc: 1.0000 - val_loss: 0.0024 - val_auc: 1.0000\n",
            "Epoch 5/7\n",
            "74812/74812 [==============================] - 1680s 22ms/sample - loss: 0.0011 - auc: 1.0000 - val_loss: 0.0036 - val_auc: 1.0000\n",
            "Epoch 6/7\n",
            "74812/74812 [==============================] - 1686s 23ms/sample - loss: 0.0018 - auc: 1.0000 - val_loss: 0.0022 - val_auc: 1.0000\n",
            "Epoch 7/7\n",
            "74812/74812 [==============================] - 1692s 23ms/sample - loss: 0.0011 - auc: 1.0000 - val_loss: 0.0017 - val_auc: 1.0000\n"
          ],
          "name": "stdout"
        }
      ]
    },
    {
      "cell_type": "code",
      "metadata": {
        "id": "zD8qZErVOPSV",
        "colab_type": "code",
        "outputId": "5b5980d7-a05f-4cd8-d987-054246e8116f",
        "colab": {
          "base_uri": "https://localhost:8080/",
          "height": 71
        }
      },
      "source": [
        "model1.fit(X_train_n, train_y_n, epochs=3, batch_size=128, validation_split=0.2)\n",
        "mname = (datetime.now() + timedelta(hours=9) ).isoformat()[5:-10]+'_BiLSTM_2gram_ep10'\n",
        "model_save(model1, mname)\n",
        "\n",
        "y_pred = model1.predict(X_test_n, batch_size=128)\n",
        "submission['smishing'] = y_pred\n",
        "submission.to_csv('submission/'+mname+'.csv',index=False)"
      ],
      "execution_count": 0,
      "outputs": [
        {
          "output_type": "stream",
          "text": [
            "Train on 74812 samples, validate on 18703 samples\n",
            "Epoch 1/3\n",
            "66176/74812 [=========================>....] - ETA: 3:09 - loss: 6.7458e-04 - auc: 1.0000"
          ],
          "name": "stdout"
        }
      ]
    },
    {
      "cell_type": "code",
      "metadata": {
        "id": "gbMpaLM7ZWsx",
        "colab_type": "code",
        "outputId": "88c799a1-14f2-491d-ac14-af88d73bac18",
        "colab": {
          "base_uri": "https://localhost:8080/",
          "height": 53
        }
      },
      "source": [
        "model1.fit(X_train_n, train_y_n, epochs=1, batch_size=128, validation_split=0.2)\n",
        "\n",
        "mname = (datetime.now() + timedelta(hours=9) ).isoformat()[5:-10]+'_BiLSTM_2gram_ep7'\n",
        "model_save(model1, mname)\n",
        "\n",
        "y_pred = model1.predict(X_test_n, batch_size=128)\n",
        "submission['smishing'] = y_pred\n",
        "submission.to_csv('submission/'+mname+'.csv',index=False)"
      ],
      "execution_count": 0,
      "outputs": [
        {
          "output_type": "stream",
          "text": [
            "Train on 119699 samples, validate on 29925 samples\n",
            "119699/119699 [==============================] - 2269s 19ms/sample - loss: 0.0014 - auc: 1.0000 - val_loss: 0.0105 - val_auc: 1.0000\n"
          ],
          "name": "stdout"
        }
      ]
    },
    {
      "cell_type": "code",
      "metadata": {
        "id": "TdDGS8f1idSO",
        "colab_type": "code",
        "outputId": "c5494fd1-8321-4cb1-d409-5af3f8d76e3c",
        "colab": {
          "base_uri": "https://localhost:8080/",
          "height": 448
        }
      },
      "source": [
        "model1.fit(X_train_n, train_y_n, epochs=3, batch_size=128, validation_split=0.2)\n",
        "\n",
        "mname = (datetime.now() + timedelta(hours=9) ).isoformat()[5:-10]+'_BiLSTM_2gram_ep10'\n",
        "model_save(model1, mname)\n",
        "\n",
        "y_pred = model1.predict(X_test_n, batch_size=128)\n",
        "submission['smishing'] = y_pred\n",
        "submission.to_csv('submission/'+mname+'.csv',index=False)"
      ],
      "execution_count": 0,
      "outputs": [
        {
          "output_type": "stream",
          "text": [
            "Train on 119699 samples, validate on 29925 samples\n",
            "Epoch 1/3\n",
            " 74624/119699 [=================>............] - ETA: 13:49 - loss: 0.0024 - auc: 1.0000"
          ],
          "name": "stdout"
        },
        {
          "output_type": "error",
          "ename": "KeyboardInterrupt",
          "evalue": "ignored",
          "traceback": [
            "\u001b[0;31m---------------------------------------------------------------------------\u001b[0m",
            "\u001b[0;31mKeyboardInterrupt\u001b[0m                         Traceback (most recent call last)",
            "\u001b[0;32m<ipython-input-26-66614812e84d>\u001b[0m in \u001b[0;36m<module>\u001b[0;34m()\u001b[0m\n\u001b[0;32m----> 1\u001b[0;31m \u001b[0mmodel1\u001b[0m\u001b[0;34m.\u001b[0m\u001b[0mfit\u001b[0m\u001b[0;34m(\u001b[0m\u001b[0mX_train_n\u001b[0m\u001b[0;34m,\u001b[0m \u001b[0mtrain_y_n\u001b[0m\u001b[0;34m,\u001b[0m \u001b[0mepochs\u001b[0m\u001b[0;34m=\u001b[0m\u001b[0;36m3\u001b[0m\u001b[0;34m,\u001b[0m \u001b[0mbatch_size\u001b[0m\u001b[0;34m=\u001b[0m\u001b[0;36m128\u001b[0m\u001b[0;34m,\u001b[0m \u001b[0mvalidation_split\u001b[0m\u001b[0;34m=\u001b[0m\u001b[0;36m0.2\u001b[0m\u001b[0;34m)\u001b[0m\u001b[0;34m\u001b[0m\u001b[0;34m\u001b[0m\u001b[0m\n\u001b[0m\u001b[1;32m      2\u001b[0m \u001b[0;34m\u001b[0m\u001b[0m\n\u001b[1;32m      3\u001b[0m \u001b[0mmname\u001b[0m \u001b[0;34m=\u001b[0m \u001b[0;34m(\u001b[0m\u001b[0mdatetime\u001b[0m\u001b[0;34m.\u001b[0m\u001b[0mnow\u001b[0m\u001b[0;34m(\u001b[0m\u001b[0;34m)\u001b[0m \u001b[0;34m+\u001b[0m \u001b[0mtimedelta\u001b[0m\u001b[0;34m(\u001b[0m\u001b[0mhours\u001b[0m\u001b[0;34m=\u001b[0m\u001b[0;36m9\u001b[0m\u001b[0;34m)\u001b[0m \u001b[0;34m)\u001b[0m\u001b[0;34m.\u001b[0m\u001b[0misoformat\u001b[0m\u001b[0;34m(\u001b[0m\u001b[0;34m)\u001b[0m\u001b[0;34m[\u001b[0m\u001b[0;36m5\u001b[0m\u001b[0;34m:\u001b[0m\u001b[0;34m-\u001b[0m\u001b[0;36m10\u001b[0m\u001b[0;34m]\u001b[0m\u001b[0;34m+\u001b[0m\u001b[0;34m'_BiLSTM_2gram_ep10'\u001b[0m\u001b[0;34m\u001b[0m\u001b[0;34m\u001b[0m\u001b[0m\n\u001b[1;32m      4\u001b[0m \u001b[0mmodel_save\u001b[0m\u001b[0;34m(\u001b[0m\u001b[0mmodel1\u001b[0m\u001b[0;34m,\u001b[0m \u001b[0mmname\u001b[0m\u001b[0;34m)\u001b[0m\u001b[0;34m\u001b[0m\u001b[0;34m\u001b[0m\u001b[0m\n\u001b[1;32m      5\u001b[0m \u001b[0;34m\u001b[0m\u001b[0m\n",
            "\u001b[0;32m/usr/local/lib/python3.6/dist-packages/tensorflow_core/python/keras/engine/training.py\u001b[0m in \u001b[0;36mfit\u001b[0;34m(self, x, y, batch_size, epochs, verbose, callbacks, validation_split, validation_data, shuffle, class_weight, sample_weight, initial_epoch, steps_per_epoch, validation_steps, validation_freq, max_queue_size, workers, use_multiprocessing, **kwargs)\u001b[0m\n\u001b[1;32m    725\u001b[0m         \u001b[0mmax_queue_size\u001b[0m\u001b[0;34m=\u001b[0m\u001b[0mmax_queue_size\u001b[0m\u001b[0;34m,\u001b[0m\u001b[0;34m\u001b[0m\u001b[0;34m\u001b[0m\u001b[0m\n\u001b[1;32m    726\u001b[0m         \u001b[0mworkers\u001b[0m\u001b[0;34m=\u001b[0m\u001b[0mworkers\u001b[0m\u001b[0;34m,\u001b[0m\u001b[0;34m\u001b[0m\u001b[0;34m\u001b[0m\u001b[0m\n\u001b[0;32m--> 727\u001b[0;31m         use_multiprocessing=use_multiprocessing)\n\u001b[0m\u001b[1;32m    728\u001b[0m \u001b[0;34m\u001b[0m\u001b[0m\n\u001b[1;32m    729\u001b[0m   def evaluate(self,\n",
            "\u001b[0;32m/usr/local/lib/python3.6/dist-packages/tensorflow_core/python/keras/engine/training_arrays.py\u001b[0m in \u001b[0;36mfit\u001b[0;34m(self, model, x, y, batch_size, epochs, verbose, callbacks, validation_split, validation_data, shuffle, class_weight, sample_weight, initial_epoch, steps_per_epoch, validation_steps, validation_freq, **kwargs)\u001b[0m\n\u001b[1;32m    673\u001b[0m         \u001b[0mvalidation_steps\u001b[0m\u001b[0;34m=\u001b[0m\u001b[0mvalidation_steps\u001b[0m\u001b[0;34m,\u001b[0m\u001b[0;34m\u001b[0m\u001b[0;34m\u001b[0m\u001b[0m\n\u001b[1;32m    674\u001b[0m         \u001b[0mvalidation_freq\u001b[0m\u001b[0;34m=\u001b[0m\u001b[0mvalidation_freq\u001b[0m\u001b[0;34m,\u001b[0m\u001b[0;34m\u001b[0m\u001b[0;34m\u001b[0m\u001b[0m\n\u001b[0;32m--> 675\u001b[0;31m         steps_name='steps_per_epoch')\n\u001b[0m\u001b[1;32m    676\u001b[0m \u001b[0;34m\u001b[0m\u001b[0m\n\u001b[1;32m    677\u001b[0m   def evaluate(self,\n",
            "\u001b[0;32m/usr/local/lib/python3.6/dist-packages/tensorflow_core/python/keras/engine/training_arrays.py\u001b[0m in \u001b[0;36mmodel_iteration\u001b[0;34m(model, inputs, targets, sample_weights, batch_size, epochs, verbose, callbacks, val_inputs, val_targets, val_sample_weights, shuffle, initial_epoch, steps_per_epoch, validation_steps, validation_freq, mode, validation_in_fit, prepared_feed_values_from_dataset, steps_name, **kwargs)\u001b[0m\n\u001b[1;32m    392\u001b[0m \u001b[0;34m\u001b[0m\u001b[0m\n\u001b[1;32m    393\u001b[0m         \u001b[0;31m# Get outputs.\u001b[0m\u001b[0;34m\u001b[0m\u001b[0;34m\u001b[0m\u001b[0;34m\u001b[0m\u001b[0m\n\u001b[0;32m--> 394\u001b[0;31m         \u001b[0mbatch_outs\u001b[0m \u001b[0;34m=\u001b[0m \u001b[0mf\u001b[0m\u001b[0;34m(\u001b[0m\u001b[0mins_batch\u001b[0m\u001b[0;34m)\u001b[0m\u001b[0;34m\u001b[0m\u001b[0;34m\u001b[0m\u001b[0m\n\u001b[0m\u001b[1;32m    395\u001b[0m         \u001b[0;32mif\u001b[0m \u001b[0;32mnot\u001b[0m \u001b[0misinstance\u001b[0m\u001b[0;34m(\u001b[0m\u001b[0mbatch_outs\u001b[0m\u001b[0;34m,\u001b[0m \u001b[0mlist\u001b[0m\u001b[0;34m)\u001b[0m\u001b[0;34m:\u001b[0m\u001b[0;34m\u001b[0m\u001b[0;34m\u001b[0m\u001b[0m\n\u001b[1;32m    396\u001b[0m           \u001b[0mbatch_outs\u001b[0m \u001b[0;34m=\u001b[0m \u001b[0;34m[\u001b[0m\u001b[0mbatch_outs\u001b[0m\u001b[0;34m]\u001b[0m\u001b[0;34m\u001b[0m\u001b[0;34m\u001b[0m\u001b[0m\n",
            "\u001b[0;32m/usr/local/lib/python3.6/dist-packages/tensorflow_core/python/keras/backend.py\u001b[0m in \u001b[0;36m__call__\u001b[0;34m(self, inputs)\u001b[0m\n\u001b[1;32m   3474\u001b[0m \u001b[0;34m\u001b[0m\u001b[0m\n\u001b[1;32m   3475\u001b[0m     fetched = self._callable_fn(*array_vals,\n\u001b[0;32m-> 3476\u001b[0;31m                                 run_metadata=self.run_metadata)\n\u001b[0m\u001b[1;32m   3477\u001b[0m     \u001b[0mself\u001b[0m\u001b[0;34m.\u001b[0m\u001b[0m_call_fetch_callbacks\u001b[0m\u001b[0;34m(\u001b[0m\u001b[0mfetched\u001b[0m\u001b[0;34m[\u001b[0m\u001b[0;34m-\u001b[0m\u001b[0mlen\u001b[0m\u001b[0;34m(\u001b[0m\u001b[0mself\u001b[0m\u001b[0;34m.\u001b[0m\u001b[0m_fetches\u001b[0m\u001b[0;34m)\u001b[0m\u001b[0;34m:\u001b[0m\u001b[0;34m]\u001b[0m\u001b[0;34m)\u001b[0m\u001b[0;34m\u001b[0m\u001b[0;34m\u001b[0m\u001b[0m\n\u001b[1;32m   3478\u001b[0m     output_structure = nest.pack_sequence_as(\n",
            "\u001b[0;32m/usr/local/lib/python3.6/dist-packages/tensorflow_core/python/client/session.py\u001b[0m in \u001b[0;36m__call__\u001b[0;34m(self, *args, **kwargs)\u001b[0m\n\u001b[1;32m   1470\u001b[0m         ret = tf_session.TF_SessionRunCallable(self._session._session,\n\u001b[1;32m   1471\u001b[0m                                                \u001b[0mself\u001b[0m\u001b[0;34m.\u001b[0m\u001b[0m_handle\u001b[0m\u001b[0;34m,\u001b[0m \u001b[0margs\u001b[0m\u001b[0;34m,\u001b[0m\u001b[0;34m\u001b[0m\u001b[0;34m\u001b[0m\u001b[0m\n\u001b[0;32m-> 1472\u001b[0;31m                                                run_metadata_ptr)\n\u001b[0m\u001b[1;32m   1473\u001b[0m         \u001b[0;32mif\u001b[0m \u001b[0mrun_metadata\u001b[0m\u001b[0;34m:\u001b[0m\u001b[0;34m\u001b[0m\u001b[0;34m\u001b[0m\u001b[0m\n\u001b[1;32m   1474\u001b[0m           \u001b[0mproto_data\u001b[0m \u001b[0;34m=\u001b[0m \u001b[0mtf_session\u001b[0m\u001b[0;34m.\u001b[0m\u001b[0mTF_GetBuffer\u001b[0m\u001b[0;34m(\u001b[0m\u001b[0mrun_metadata_ptr\u001b[0m\u001b[0;34m)\u001b[0m\u001b[0;34m\u001b[0m\u001b[0;34m\u001b[0m\u001b[0m\n",
            "\u001b[0;31mKeyboardInterrupt\u001b[0m: "
          ]
        }
      ]
    },
    {
      "cell_type": "code",
      "metadata": {
        "id": "g_fnY54eJgsN",
        "colab_type": "code",
        "outputId": "ffb00b65-9886-49a8-8d86-2ce4bb0832cb",
        "colab": {
          "base_uri": "https://localhost:8080/",
          "height": 197
        }
      },
      "source": [
        "history2 = model1.fit(X_train_n, train_y_n, epochs=2, batch_size=128, validation_split=0.2)\n",
        "\n",
        "mname = (datetime.now() + timedelta(hours=9) ).isoformat()[5:-10]+'_BiLSTM_2gram_ep5'\n",
        "model_save(model1, mname)\n",
        "\n",
        "y_pred = model1.predict(X_test_n, batch_size=128)\n",
        "submission['smishing'] = y_pred\n",
        "submission.to_csv('submission/'+mname+'.csv',index=False)"
      ],
      "execution_count": 0,
      "outputs": [
        {
          "output_type": "stream",
          "text": [
            "Train on 119699 samples, validate on 29925 samples\n",
            "Epoch 1/2\n",
            "119699/119699 [==============================] - 2765s 23ms/sample - loss: 1.7451e-04 - auc: 1.0000 - val_loss: 3.6584e-04 - val_auc: 1.0000\n",
            "Epoch 2/2\n",
            " 18048/119699 [===>..........................] - ETA: 37:44 - loss: 1.2393e-05 - auc: 1.0000Train on 119699 samples, validate on 29925 samples\n",
            "Epoch 1/2\n",
            "119699/119699 [==============================] - 2765s 23ms/sample - loss: 1.7451e-04 - auc: 1.0000 - val_loss: 3.6584e-04 - val_auc: 1.0000\n",
            "Epoch 2/2\n",
            "119699/119699 [==============================] - 2752s 23ms/sample - loss: 5.4479e-05 - auc: 1.0000 - val_loss: 4.2336e-04 - val_auc: 1.0000\n",
            "119699/119699 [==============================] - 2752s 23ms/sample - loss: 5.4479e-05 - auc: 1.0000 - val_loss: 4.2336e-04 - val_auc: 1.0000\n"
          ],
          "name": "stdout"
        }
      ]
    },
    {
      "cell_type": "code",
      "metadata": {
        "id": "ymr751n7ThZh",
        "colab_type": "code",
        "outputId": "d763f958-1378-4118-b240-3fdd20f9d689",
        "colab": {
          "base_uri": "https://localhost:8080/",
          "height": 208
        }
      },
      "source": [
        "y_pred = model1.predict(X_test_n, batch_size=128)\n",
        "submission['smishing'] = y_pred\n",
        "submission.to_csv('submission/'+mname+'.csv',index=False)"
      ],
      "execution_count": 0,
      "outputs": [
        {
          "output_type": "error",
          "ename": "NameError",
          "evalue": "ignored",
          "traceback": [
            "\u001b[0;31m---------------------------------------------------------------------------\u001b[0m",
            "\u001b[0;31mNameError\u001b[0m                                 Traceback (most recent call last)",
            "\u001b[0;32m<ipython-input-1-32b6714fbce9>\u001b[0m in \u001b[0;36m<module>\u001b[0;34m()\u001b[0m\n\u001b[0;32m----> 1\u001b[0;31m \u001b[0my_pred\u001b[0m \u001b[0;34m=\u001b[0m \u001b[0mmodel1\u001b[0m\u001b[0;34m.\u001b[0m\u001b[0mpredict\u001b[0m\u001b[0;34m(\u001b[0m\u001b[0mX_test_n\u001b[0m\u001b[0;34m,\u001b[0m \u001b[0mbatch_size\u001b[0m\u001b[0;34m=\u001b[0m\u001b[0;36m128\u001b[0m\u001b[0;34m)\u001b[0m\u001b[0;34m\u001b[0m\u001b[0;34m\u001b[0m\u001b[0m\n\u001b[0m\u001b[1;32m      2\u001b[0m \u001b[0msubmission\u001b[0m\u001b[0;34m[\u001b[0m\u001b[0;34m'smishing'\u001b[0m\u001b[0;34m]\u001b[0m \u001b[0;34m=\u001b[0m \u001b[0my_pred\u001b[0m\u001b[0;34m\u001b[0m\u001b[0;34m\u001b[0m\u001b[0m\n\u001b[1;32m      3\u001b[0m \u001b[0msubmission\u001b[0m\u001b[0;34m.\u001b[0m\u001b[0mto_csv\u001b[0m\u001b[0;34m(\u001b[0m\u001b[0;34m'submission/'\u001b[0m\u001b[0;34m+\u001b[0m\u001b[0mmname\u001b[0m\u001b[0;34m+\u001b[0m\u001b[0;34m'.csv'\u001b[0m\u001b[0;34m,\u001b[0m\u001b[0mindex\u001b[0m\u001b[0;34m=\u001b[0m\u001b[0;32mFalse\u001b[0m\u001b[0;34m)\u001b[0m\u001b[0;34m\u001b[0m\u001b[0;34m\u001b[0m\u001b[0m\n",
            "\u001b[0;31mNameError\u001b[0m: name 'model1' is not defined"
          ]
        }
      ]
    },
    {
      "cell_type": "code",
      "metadata": {
        "id": "2J0B_Cyzlw_h",
        "colab_type": "code",
        "outputId": "cde07cd7-7e98-4ac9-812f-524440a373dd",
        "colab": {
          "base_uri": "https://localhost:8080/",
          "height": 53
        }
      },
      "source": [
        "model1 = BiLSTM(vocab_size_n)\n",
        "history = model1.fit(X_train_n, train_y_n, epochs=10, batch_size=64, validation_split=0.2)\n",
        "\n",
        "mname = (datetime.now() + timedelta(hours=9) ).isoformat()[5:-10]+'_BiLSTM_2gram_ep10_b64'\n",
        "model_save(model1, mname)\n",
        "\n",
        "y_pred = model1.predict(X_test_n, batch_size=64)\n",
        "submission['smishing'] = y_pred\n",
        "submission.to_csv('submission/'+mname+'.csv',index=False)"
      ],
      "execution_count": 0,
      "outputs": [
        {
          "output_type": "stream",
          "text": [
            "Train on 119699 samples, validate on 29925 samples\n",
            "119699/119699 [==============================] - 3526s 29ms/sample - loss: 9.6420e-04 - auc: 1.0000 - val_loss: 0.0014 - val_auc: 1.0000\n"
          ],
          "name": "stdout"
        }
      ]
    },
    {
      "cell_type": "markdown",
      "metadata": {
        "id": "MbxdkqsZZ6Ry",
        "colab_type": "text"
      },
      "source": [
        "### 2. ConvLSTM - 2gram"
      ]
    },
    {
      "cell_type": "code",
      "metadata": {
        "id": "Lc3WjepSZ5cN",
        "colab_type": "code",
        "colab": {}
      },
      "source": [
        "def ConvLSTM(vocab_size, max_len=800):\n",
        "    model= Sequential()\n",
        "    model.add(Embedding(vocab_size, 128, input_length=max_len))\n",
        "    model.add(Conv1D(64, kernel_size=3, activation='relu'))\n",
        "    model.add(MaxPooling1D(pool_size=2))\n",
        "    model.add(Dropout(0.2))\n",
        "    model.add(Bidirectional(LSTM(128)))\n",
        "    model.add(Dropout(0.2))\n",
        "    model.add(Flatten())\n",
        "    model.add(Dense(64,activation='relu'))\n",
        "    model.add(Dropout(0.5))\n",
        "    model.add(Dense(1,activation='sigmoid'))\n",
        "\n",
        "    model.compile(loss='binary_crossentropy',optimizer='rmsprop',metrics=[auc])\n",
        "    model.summary()"
      ],
      "execution_count": 0,
      "outputs": []
    },
    {
      "cell_type": "code",
      "metadata": {
        "id": "U8Ab1w2CaTRC",
        "colab_type": "code",
        "colab": {}
      },
      "source": [
        "model1 = ConvLSTM(vocab_size_n)\n",
        "history = model1.fit(X_train_n, train_y_n, epochs=5, batch_size=128, validation_split=0.2)\n",
        "\n",
        "mname = (datetime.now() + timedelta(hours=9) ).isoformat()[5:-10]+'_ConvLSTM_2gram_v1_ep5_'\n",
        "model_save(model1, mname)\n",
        "\n",
        "y_pred = model1.predict(X_test_n, batch_size=128)\n",
        "submission['smishing'] = y_pred\n",
        "submission.to_csv('submission/'+mname+'.csv',index=False)"
      ],
      "execution_count": 0,
      "outputs": []
    },
    {
      "cell_type": "code",
      "metadata": {
        "id": "t-yOWVcyKOQ6",
        "colab_type": "code",
        "colab": {}
      },
      "source": [
        ""
      ],
      "execution_count": 0,
      "outputs": []
    }
  ]
}