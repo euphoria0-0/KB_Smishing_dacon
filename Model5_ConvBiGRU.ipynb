{
  "nbformat": 4,
  "nbformat_minor": 0,
  "metadata": {
    "colab": {
      "name": "Modeling_5.ipynb",
      "provenance": [],
      "collapsed_sections": [],
      "machine_shape": "hm"
    },
    "kernelspec": {
      "name": "python3",
      "display_name": "Python 3"
    },
    "accelerator": "TPU"
  },
  "cells": [
    {
      "cell_type": "markdown",
      "metadata": {
        "id": "uU8TE6MvgKLJ",
        "colab_type": "text"
      },
      "source": [
        "## Setting\n",
        "### Mounting google drive"
      ]
    },
    {
      "cell_type": "code",
      "metadata": {
        "id": "B0T35SVtgHaw",
        "colab_type": "code",
        "colab": {}
      },
      "source": [
        "from google.colab import drive\n",
        "\n",
        "drive.mount('/content/gdrive')"
      ],
      "execution_count": 0,
      "outputs": []
    },
    {
      "cell_type": "markdown",
      "metadata": {
        "id": "GamuwYZroZbz",
        "colab_type": "text"
      },
      "source": [
        "### Download Mecab\n",
        "Dacon에서 공개한(?) Window Mecab version"
      ]
    },
    {
      "cell_type": "code",
      "metadata": {
        "id": "WFVbCaja0qHT",
        "colab_type": "code",
        "outputId": "f391f037-9ca0-4de7-bd07-09d5ddcaf693",
        "colab": {
          "base_uri": "https://localhost:8080/",
          "height": 35
        }
      },
      "source": [
        "cd /content/gdrive/My Drive/Colab Notebooks/smishing/Mecab-ko-for-Google-Colab"
      ],
      "execution_count": 0,
      "outputs": [
        {
          "output_type": "stream",
          "text": [
            "/content/gdrive/My Drive/Colab Notebooks/smishing/Mecab-ko-for-Google-Colab\n"
          ],
          "name": "stdout"
        }
      ]
    },
    {
      "cell_type": "code",
      "metadata": {
        "id": "z_1v1nRQ0sT1",
        "colab_type": "code",
        "colab": {}
      },
      "source": [
        "! bash install_mecab-ko_on_colab190912.sh"
      ],
      "execution_count": 0,
      "outputs": []
    },
    {
      "cell_type": "markdown",
      "metadata": {
        "id": "HHvFvXcDfzk4",
        "colab_type": "text"
      },
      "source": [
        "### Import packages"
      ]
    },
    {
      "cell_type": "code",
      "metadata": {
        "id": "kOY7wsx_LKCj",
        "colab_type": "code",
        "colab": {}
      },
      "source": [
        "# data preprocessing\n",
        "import pandas as pd\n",
        "import numpy as np\n",
        "import random\n",
        "import matplotlib.pyplot as plt\n",
        "# tokenizer\n",
        "import re\n",
        "from konlpy.tag import Mecab\n",
        "# modeling\n",
        "import tensorflow as tf\n",
        "from tensorflow.keras.preprocessing.text import Tokenizer\n",
        "from tensorflow.keras.preprocessing.sequence import pad_sequences\n",
        "from tensorflow.keras.layers import Embedding, Dense, SimpleRNN, LSTM, Bidirectional, Flatten, Input, SpatialDropout1D, Conv1D, MaxPooling1D, GRU, Dropout\n",
        "from tensorflow.keras.models import Sequential\n",
        "from sklearn.metrics import roc_auc_score\n",
        "import pickle\n",
        "import warnings\n",
        "warnings.filterwarnings(action='ignore') "
      ],
      "execution_count": 0,
      "outputs": []
    },
    {
      "cell_type": "markdown",
      "metadata": {
        "id": "J67chBIQCrTW",
        "colab_type": "text"
      },
      "source": [
        "### Load Data"
      ]
    },
    {
      "cell_type": "code",
      "metadata": {
        "id": "Vkic_LamNAuQ",
        "colab_type": "code",
        "colab": {}
      },
      "source": [
        "path = '/content/gdrive/My Drive/Colab Notebooks/smishing/'\n",
        "train = pd.read_csv(path+'data/train.csv')\n",
        "test = pd.read_csv(path+'data/public_test.csv')\n",
        "submission=pd.read_csv(path+'data/submission_제출양식.csv')\n",
        "print(train.shape, test.shape, submission.shape)"
      ],
      "execution_count": 0,
      "outputs": []
    },
    {
      "cell_type": "markdown",
      "metadata": {
        "id": "WvpIMFkuhEm-",
        "colab_type": "text"
      },
      "source": [
        "## Data Preparation\n",
        "### Sampling\n",
        "- Counter({0: 277242, 1: 18703}) #0.0631975535994864\n",
        "- mixed sampling"
      ]
    },
    {
      "cell_type": "code",
      "metadata": {
        "id": "qmxPnLg2vjcH",
        "colab_type": "code",
        "outputId": "25cebff0-17de-4f10-b1c9-3a4054653f5b",
        "colab": {
          "base_uri": "https://localhost:8080/",
          "height": 71
        }
      },
      "source": [
        "RANDOM_SEED = 1234\n",
        "\n",
        "## for train data\n",
        "# index\n",
        "train_nsm_idx=list(train[train['smishing']==0].index)\n",
        "train_sm_idx=list(train[train['smishing']==1].index)\n",
        "# 3. Mixed Sampling\n",
        "random.seed(RANDOM_SEED)\n",
        "train_nsm_idx = random.sample(train_nsm_idx, k=18703*6)\n",
        "random.seed(RANDOM_SEED)\n",
        "train_sm_idx = random.choices(train_sm_idx, k=18703*3)\n",
        "# index shuffle\n",
        "train_idx = train_nsm_idx + train_sm_idx\n",
        "print(train_idx[:5])\n",
        "random.shuffle(train_idx)\n",
        "print(train_idx[:5])\n",
        "# Merge\n",
        "train_X = pd.DataFrame(train['text'], columns=['text']).iloc[train_idx].reset_index(drop=True)\n",
        "train_y = pd.DataFrame(train['smishing'], columns=['smishing']).iloc[train_idx].reset_index(drop=True)\n",
        "print(train_X.shape, train_y.shape)"
      ],
      "execution_count": 0,
      "outputs": [
        {
          "output_type": "stream",
          "text": [
            "[242186, 63505, 4255, 49550, 19561]\n",
            "[96380, 19368, 145827, 73965, 10314]\n",
            "(168327, 1) (168327, 1)\n"
          ],
          "name": "stdout"
        }
      ]
    },
    {
      "cell_type": "code",
      "metadata": {
        "id": "Vr7NRt5Ktoir",
        "colab_type": "code",
        "outputId": "140fff99-24a8-4c08-d0f7-73db2b974bd4",
        "colab": {
          "base_uri": "https://localhost:8080/",
          "height": 35
        }
      },
      "source": [
        "## for test data\n",
        "test['smishing'] = 2 # train data와 동일한 형태 생성을 위해 임의의 숫자를 추가 #이후 스미싱 여부 확률 값으로 덮어 씌워짐\n",
        "test_X = pd.DataFrame(test['text'])\n",
        "test_y = pd.DataFrame(test['smishing'])\n",
        "print(test_X.shape, test_y.shape)"
      ],
      "execution_count": 0,
      "outputs": [
        {
          "output_type": "stream",
          "text": [
            "(1626, 1) (1626, 1)\n"
          ],
          "name": "stdout"
        }
      ]
    },
    {
      "cell_type": "markdown",
      "metadata": {
        "colab_type": "text",
        "id": "MTCw7aPKbla_"
      },
      "source": [
        "### Tokenizing"
      ]
    },
    {
      "cell_type": "code",
      "metadata": {
        "id": "yCHCCUOGQDG7",
        "colab_type": "code",
        "outputId": "0cd98fe7-4766-46c1-a7c1-b711539fc125",
        "colab": {
          "base_uri": "https://localhost:8080/",
          "height": 80
        }
      },
      "source": [
        "tmp = [len(x) for x in train_X.text]\n",
        "pd.DataFrame(tmp).describe().transpose()"
      ],
      "execution_count": 0,
      "outputs": [
        {
          "output_type": "execute_result",
          "data": {
            "text/html": [
              "<div>\n",
              "<style scoped>\n",
              "    .dataframe tbody tr th:only-of-type {\n",
              "        vertical-align: middle;\n",
              "    }\n",
              "\n",
              "    .dataframe tbody tr th {\n",
              "        vertical-align: top;\n",
              "    }\n",
              "\n",
              "    .dataframe thead th {\n",
              "        text-align: right;\n",
              "    }\n",
              "</style>\n",
              "<table border=\"1\" class=\"dataframe\">\n",
              "  <thead>\n",
              "    <tr style=\"text-align: right;\">\n",
              "      <th></th>\n",
              "      <th>count</th>\n",
              "      <th>mean</th>\n",
              "      <th>std</th>\n",
              "      <th>min</th>\n",
              "      <th>25%</th>\n",
              "      <th>50%</th>\n",
              "      <th>75%</th>\n",
              "      <th>max</th>\n",
              "    </tr>\n",
              "  </thead>\n",
              "  <tbody>\n",
              "    <tr>\n",
              "      <th>0</th>\n",
              "      <td>168327.0</td>\n",
              "      <td>355.887047</td>\n",
              "      <td>357.894367</td>\n",
              "      <td>2.0</td>\n",
              "      <td>42.0</td>\n",
              "      <td>171.0</td>\n",
              "      <td>739.0</td>\n",
              "      <td>1478.0</td>\n",
              "    </tr>\n",
              "  </tbody>\n",
              "</table>\n",
              "</div>"
            ],
            "text/plain": [
              "      count        mean         std  min   25%    50%    75%     max\n",
              "0  168327.0  355.887047  357.894367  2.0  42.0  171.0  739.0  1478.0"
            ]
          },
          "metadata": {
            "tags": []
          },
          "execution_count": 11
        }
      ]
    },
    {
      "cell_type": "code",
      "metadata": {
        "id": "uVLBtcSahzN2",
        "colab_type": "code",
        "colab": {}
      },
      "source": [
        "stopwords = ['을', '를', '이', '가', '은', '는', 'null']\n",
        "\n",
        "def tokenizing(text_list):\n",
        "  tokenizer = Mecab()\n",
        "  token_list = []\n",
        "  for text in text_list:\n",
        "    tokens = []\n",
        "    txt = re.sub('[^가-힣a-zA-Z]',' ',text)\n",
        "    txt = re.sub('X{1,}',' ',txt)\n",
        "    token = tokenizer.morphs(txt)\n",
        "    for t in token:\n",
        "      if t not in stopwords:\n",
        "        tokens.append(t)\n",
        "    token_list.append(' '.join(tokens))\n",
        "  return token_list"
      ],
      "execution_count": 0,
      "outputs": []
    },
    {
      "cell_type": "code",
      "metadata": {
        "id": "RhStMRBMh1ue",
        "colab_type": "code",
        "colab": {}
      },
      "source": [
        "train_X_txt = tokenizing(train_X.text)\n",
        "test_X_txt = tokenizing(test_X.text)"
      ],
      "execution_count": 0,
      "outputs": []
    },
    {
      "cell_type": "code",
      "metadata": {
        "id": "oeNj0fAMrBnc",
        "colab_type": "code",
        "outputId": "eea6c88b-26c0-4dbf-cfc6-202e80bc88c9",
        "colab": {
          "base_uri": "https://localhost:8080/",
          "height": 71
        }
      },
      "source": [
        "tokenizer = Tokenizer()\n",
        "tokenizer.fit_on_texts(train_X_txt)  # _개의 행을 가진 X의 각 행에 토큰화를 수행\n",
        "train_X_seq = tokenizer.texts_to_sequences(train_X_txt) #단어를 숫자값, 인덱스로 변환하여 저장\n",
        "word_to_index = tokenizer.word_index\n",
        "vocab_size = len(word_to_index) + 1\n",
        "print('vocab size: ', vocab_size)\n",
        "max_len = 1000 # 전체 데이터셋의 길이 맞추기\n",
        "X_train = pad_sequences(train_X_seq, maxlen=max_len)\n",
        "print(\"train data shape: \", X_train.shape)\n",
        "test_X_seq = tokenizer.texts_to_sequences(test_X_txt) #단어를 숫자값, 인덱스로 변환하여 저장\n",
        "X_test = pad_sequences(test_X_seq, maxlen=max_len)\n",
        "print(\"test data shape: \", X_test.shape)"
      ],
      "execution_count": 0,
      "outputs": [
        {
          "output_type": "stream",
          "text": [
            "vocab size:  28084\n",
            "train data shape:  (168327, 1000)\n",
            "test data shape:  (1626, 1000)\n"
          ],
          "name": "stdout"
        }
      ]
    },
    {
      "cell_type": "markdown",
      "metadata": {
        "id": "AW0S5Nalpg5N",
        "colab_type": "text"
      },
      "source": [
        "## Modeling"
      ]
    },
    {
      "cell_type": "code",
      "metadata": {
        "id": "JY49FyLN39Lm",
        "colab_type": "code",
        "colab": {}
      },
      "source": [
        "auc_score_=1\n",
        "def auc_score(y_true, y_pred):\n",
        "  global auc_score_\n",
        "  try:\n",
        "    auc_score_ = roc_auc_score( y_true, y_pred, average='macro', sample_weight=None).astype('float32')\n",
        "  except ValueError:\n",
        "    pass\n",
        "  return auc_score_\n",
        "\n",
        "def auc( y_true, y_pred ) :\n",
        "    score = tf.py_func( lambda y_true, y_pred : auc_score(y_true, y_pred) , [y_true, y_pred], 'float32', stateful=False, name='sklearnAUC' )\n",
        "    return score"
      ],
      "execution_count": 0,
      "outputs": []
    },
    {
      "cell_type": "markdown",
      "metadata": {
        "id": "_u_k2CJ5ivkU",
        "colab_type": "text"
      },
      "source": [
        "### Conv Bi GRU\n",
        "##### (1) train"
      ]
    },
    {
      "cell_type": "code",
      "metadata": {
        "id": "Y1Fjn5D4HFYq",
        "colab_type": "code",
        "outputId": "7e141bf3-df87-4beb-fc30-1bb43729ef72",
        "colab": {
          "base_uri": "https://localhost:8080/",
          "height": 521
        }
      },
      "source": [
        "model= Sequential()\n",
        "model.add(Embedding(vocab_size,128,input_length=max_len))\n",
        "model.add(Conv1D(64,kernel_size=3,activation='relu'))\n",
        "model.add(MaxPooling1D(pool_size=2))\n",
        "model.add(Dropout(0.2))\n",
        "model.add(Bidirectional(GRU(128,return_sequences=True)))\n",
        "model.add(Dropout(0.2))\n",
        "model.add(Flatten())\n",
        "model.add(Dense(64,activation='relu'))\n",
        "model.add(Dropout(0.5))\n",
        "model.add(Dense(1,activation='sigmoid'))\n",
        "\n",
        "model.compile(loss='binary_crossentropy',optimizer='rmsprop',metrics=[auc])\n",
        "model.summary()"
      ],
      "execution_count": 0,
      "outputs": [
        {
          "output_type": "stream",
          "text": [
            "Model: \"sequential_2\"\n",
            "_________________________________________________________________\n",
            "Layer (type)                 Output Shape              Param #   \n",
            "=================================================================\n",
            "embedding_2 (Embedding)      (None, 1000, 128)         3594752   \n",
            "_________________________________________________________________\n",
            "conv1d_2 (Conv1D)            (None, 998, 64)           24640     \n",
            "_________________________________________________________________\n",
            "max_pooling1d_2 (MaxPooling1 (None, 499, 64)           0         \n",
            "_________________________________________________________________\n",
            "dropout_6 (Dropout)          (None, 499, 64)           0         \n",
            "_________________________________________________________________\n",
            "bidirectional_2 (Bidirection (None, 499, 256)          148224    \n",
            "_________________________________________________________________\n",
            "dropout_7 (Dropout)          (None, 499, 256)          0         \n",
            "_________________________________________________________________\n",
            "flatten_2 (Flatten)          (None, 127744)            0         \n",
            "_________________________________________________________________\n",
            "dense_4 (Dense)              (None, 64)                8175680   \n",
            "_________________________________________________________________\n",
            "dropout_8 (Dropout)          (None, 64)                0         \n",
            "_________________________________________________________________\n",
            "dense_5 (Dense)              (None, 1)                 65        \n",
            "=================================================================\n",
            "Total params: 11,943,361\n",
            "Trainable params: 11,943,361\n",
            "Non-trainable params: 0\n",
            "_________________________________________________________________\n"
          ],
          "name": "stdout"
        }
      ]
    },
    {
      "cell_type": "code",
      "metadata": {
        "id": "syLSqXQOEwKG",
        "colab_type": "code",
        "outputId": "666d8d9e-4b38-4e19-fe59-63c2f323bc70",
        "colab": {
          "base_uri": "https://localhost:8080/",
          "height": 143
        }
      },
      "source": [
        "history = model.fit(X_train, train_y, epochs=3, batch_size=128, validation_split=0.2)\n",
        "model_json = model.to_json()\n",
        "with open(path+'model/'+'ConvBiGRU_v3.json', 'w') as json_file : \n",
        "    json_file.write(model_json)"
      ],
      "execution_count": 0,
      "outputs": [
        {
          "output_type": "stream",
          "text": [
            "Train on 134661 samples, validate on 33666 samples\n",
            "Epoch 1/3\n",
            "134661/134661 [==============================] - 2147s 16ms/sample - loss: 0.0126 - auc: 0.9988 - val_loss: 0.0014 - val_auc: 1.0000\n",
            "Epoch 2/3\n",
            "134661/134661 [==============================] - 2139s 16ms/sample - loss: 0.0012 - auc: 1.0000 - val_loss: 6.8427e-04 - val_auc: 1.0000\n",
            "Epoch 3/3\n",
            " 36736/134661 [=======>......................] - ETA: 25:36 - loss: 5.2580e-04 - auc: 1.0000"
          ],
          "name": "stdout"
        }
      ]
    },
    {
      "cell_type": "code",
      "metadata": {
        "id": "9zc-amzxQCPU",
        "colab_type": "code",
        "colab": {}
      },
      "source": [
        "# 귀찮\n",
        "y_pred = model.predict(X_test, batch_size=128)\n",
        "print(y_pred[:4])\n",
        "submission['smishing'] = y_pred\n",
        "submission.to_csv(path+'submission/'+'ConvBiGRU_v3.csv',index=False)"
      ],
      "execution_count": 0,
      "outputs": []
    },
    {
      "cell_type": "code",
      "metadata": {
        "id": "y_QydGe9zj3T",
        "colab_type": "code",
        "outputId": "cc213b86-2985-4972-b34d-ed1abb9ea6d3",
        "colab": {
          "base_uri": "https://localhost:8080/",
          "height": 419
        }
      },
      "source": [
        " v submission.iloc[np.where(submission.smishing>0.8)]"
      ],
      "execution_count": 0,
      "outputs": [
        {
          "output_type": "execute_result",
          "data": {
            "text/html": [
              "<div>\n",
              "<style scoped>\n",
              "    .dataframe tbody tr th:only-of-type {\n",
              "        vertical-align: middle;\n",
              "    }\n",
              "\n",
              "    .dataframe tbody tr th {\n",
              "        vertical-align: top;\n",
              "    }\n",
              "\n",
              "    .dataframe thead th {\n",
              "        text-align: right;\n",
              "    }\n",
              "</style>\n",
              "<table border=\"1\" class=\"dataframe\">\n",
              "  <thead>\n",
              "    <tr style=\"text-align: right;\">\n",
              "      <th></th>\n",
              "      <th>id</th>\n",
              "      <th>smishing</th>\n",
              "    </tr>\n",
              "  </thead>\n",
              "  <tbody>\n",
              "    <tr>\n",
              "      <th>192</th>\n",
              "      <td>340192</td>\n",
              "      <td>0.999518</td>\n",
              "    </tr>\n",
              "    <tr>\n",
              "      <th>259</th>\n",
              "      <td>340259</td>\n",
              "      <td>1.000000</td>\n",
              "    </tr>\n",
              "    <tr>\n",
              "      <th>261</th>\n",
              "      <td>340261</td>\n",
              "      <td>1.000000</td>\n",
              "    </tr>\n",
              "    <tr>\n",
              "      <th>267</th>\n",
              "      <td>340267</td>\n",
              "      <td>1.000000</td>\n",
              "    </tr>\n",
              "    <tr>\n",
              "      <th>268</th>\n",
              "      <td>340268</td>\n",
              "      <td>1.000000</td>\n",
              "    </tr>\n",
              "    <tr>\n",
              "      <th>...</th>\n",
              "      <td>...</td>\n",
              "      <td>...</td>\n",
              "    </tr>\n",
              "    <tr>\n",
              "      <th>1609</th>\n",
              "      <td>341609</td>\n",
              "      <td>1.000000</td>\n",
              "    </tr>\n",
              "    <tr>\n",
              "      <th>1610</th>\n",
              "      <td>341610</td>\n",
              "      <td>1.000000</td>\n",
              "    </tr>\n",
              "    <tr>\n",
              "      <th>1611</th>\n",
              "      <td>341611</td>\n",
              "      <td>1.000000</td>\n",
              "    </tr>\n",
              "    <tr>\n",
              "      <th>1612</th>\n",
              "      <td>341612</td>\n",
              "      <td>1.000000</td>\n",
              "    </tr>\n",
              "    <tr>\n",
              "      <th>1620</th>\n",
              "      <td>341620</td>\n",
              "      <td>1.000000</td>\n",
              "    </tr>\n",
              "  </tbody>\n",
              "</table>\n",
              "<p>118 rows × 2 columns</p>\n",
              "</div>"
            ],
            "text/plain": [
              "          id  smishing\n",
              "192   340192  0.999518\n",
              "259   340259  1.000000\n",
              "261   340261  1.000000\n",
              "267   340267  1.000000\n",
              "268   340268  1.000000\n",
              "...      ...       ...\n",
              "1609  341609  1.000000\n",
              "1610  341610  1.000000\n",
              "1611  341611  1.000000\n",
              "1612  341612  1.000000\n",
              "1620  341620  1.000000\n",
              "\n",
              "[118 rows x 2 columns]"
            ]
          },
          "metadata": {
            "tags": []
          },
          "execution_count": 19
        }
      ]
    },
    {
      "cell_type": "markdown",
      "metadata": {
        "id": "IaVqPTZvjig-",
        "colab_type": "text"
      },
      "source": [
        "##### (2) validation"
      ]
    },
    {
      "cell_type": "code",
      "metadata": {
        "id": "8-XtO--Djh4F",
        "colab_type": "code",
        "colab": {}
      },
      "source": [
        "scores = model.evaluate(X_test, y_test, verbose=0) # 테스트 데이터에 대해서 정확도 평가\n",
        "print(\"정확도: %.2f%%\" % (scores[1]*100))"
      ],
      "execution_count": 0,
      "outputs": []
    },
    {
      "cell_type": "code",
      "metadata": {
        "id": "ZUaPjLmDjo21",
        "colab_type": "code",
        "colab": {}
      },
      "source": [
        "epochs = range(1, len(history.history['accuracy']) + 1)\n",
        "plt.plot(epochs, history.history['loss'])\n",
        "plt.plot(epochs, history.history['val_loss'])\n",
        "plt.title('model loss')\n",
        "plt.ylabel('loss')\n",
        "plt.xlabel('epoch')\n",
        "plt.legend(['train', 'test'], loc='upper left')\n",
        "plt.show()"
      ],
      "execution_count": 0,
      "outputs": []
    },
    {
      "cell_type": "markdown",
      "metadata": {
        "id": "oaEZ19knjlyr",
        "colab_type": "text"
      },
      "source": [
        "##### (3) find the best"
      ]
    },
    {
      "cell_type": "code",
      "metadata": {
        "id": "ZbHfspppjlAq",
        "colab_type": "code",
        "colab": {}
      },
      "source": [
        "y_pred = model.predict(X_test, batch_size=64)\n",
        "print(y_pred.shape)"
      ],
      "execution_count": 0,
      "outputs": []
    },
    {
      "cell_type": "markdown",
      "metadata": {
        "id": "nyd-gDcNpkdJ",
        "colab_type": "text"
      },
      "source": [
        "### Submission\n",
        "test data에서 각 text당 스미싱 확률을 구할 수 있으니 이를 제출양식의 smishing 변수에 넣고 csv 파일로 내보낸다"
      ]
    },
    {
      "cell_type": "code",
      "metadata": {
        "id": "xpBAwTKgpvVM",
        "colab_type": "code",
        "colab": {}
      },
      "source": [
        "submission['smishing'] = y_pred\n",
        "submission.to_csv(path+'submission/'+\"LSTM_1.csv\",index=False)"
      ],
      "execution_count": 0,
      "outputs": []
    },
    {
      "cell_type": "code",
      "metadata": {
        "id": "nbQzCsD0KXIb",
        "colab_type": "code",
        "outputId": "8ec55b58-6f10-41f8-e493-89a84ec31768",
        "colab": {
          "base_uri": "https://localhost:8080/",
          "height": 204
        }
      },
      "source": [
        "s = pd.read_csv(spath+'LSTM_1.csv')\n",
        "s.head()"
      ],
      "execution_count": 0,
      "outputs": [
        {
          "output_type": "execute_result",
          "data": {
            "text/html": [
              "<div>\n",
              "<style scoped>\n",
              "    .dataframe tbody tr th:only-of-type {\n",
              "        vertical-align: middle;\n",
              "    }\n",
              "\n",
              "    .dataframe tbody tr th {\n",
              "        vertical-align: top;\n",
              "    }\n",
              "\n",
              "    .dataframe thead th {\n",
              "        text-align: right;\n",
              "    }\n",
              "</style>\n",
              "<table border=\"1\" class=\"dataframe\">\n",
              "  <thead>\n",
              "    <tr style=\"text-align: right;\">\n",
              "      <th></th>\n",
              "      <th>id</th>\n",
              "      <th>smishing</th>\n",
              "    </tr>\n",
              "  </thead>\n",
              "  <tbody>\n",
              "    <tr>\n",
              "      <th>0</th>\n",
              "      <td>340000</td>\n",
              "      <td>0.0</td>\n",
              "    </tr>\n",
              "    <tr>\n",
              "      <th>1</th>\n",
              "      <td>340001</td>\n",
              "      <td>0.0</td>\n",
              "    </tr>\n",
              "    <tr>\n",
              "      <th>2</th>\n",
              "      <td>340002</td>\n",
              "      <td>0.0</td>\n",
              "    </tr>\n",
              "    <tr>\n",
              "      <th>3</th>\n",
              "      <td>340003</td>\n",
              "      <td>0.0</td>\n",
              "    </tr>\n",
              "    <tr>\n",
              "      <th>4</th>\n",
              "      <td>340004</td>\n",
              "      <td>0.0</td>\n",
              "    </tr>\n",
              "  </tbody>\n",
              "</table>\n",
              "</div>"
            ],
            "text/plain": [
              "       id  smishing\n",
              "0  340000       0.0\n",
              "1  340001       0.0\n",
              "2  340002       0.0\n",
              "3  340003       0.0\n",
              "4  340004       0.0"
            ]
          },
          "metadata": {
            "tags": []
          },
          "execution_count": 75
        }
      ]
    },
    {
      "cell_type": "code",
      "metadata": {
        "id": "XGjAl3DRR-3r",
        "colab_type": "code",
        "colab": {}
      },
      "source": [
        ""
      ],
      "execution_count": 0,
      "outputs": []
    }
  ]
}