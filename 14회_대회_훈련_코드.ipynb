{
  "nbformat": 4,
  "nbformat_minor": 0,
  "metadata": {
    "colab": {
      "name": "14회_대회_훈련_코드.ipynb",
      "provenance": [],
      "collapsed_sections": [],
      "machine_shape": "hm",
      "include_colab_link": true
    },
    "kernelspec": {
      "name": "python3",
      "display_name": "Python 3"
    },
    "accelerator": "TPU"
  },
  "cells": [
    {
      "cell_type": "markdown",
      "metadata": {
        "id": "view-in-github",
        "colab_type": "text"
      },
      "source": [
        "<a href=\"https://colab.research.google.com/github/euphoria96/KB_Smishing_dacon/blob/master/14%ED%9A%8C_%EB%8C%80%ED%9A%8C_%ED%9B%88%EB%A0%A8_%EC%BD%94%EB%93%9C.ipynb\" target=\"_parent\"><img src=\"https://colab.research.google.com/assets/colab-badge.svg\" alt=\"Open In Colab\"/></a>"
      ]
    },
    {
      "cell_type": "markdown",
      "metadata": {
        "id": "uU8TE6MvgKLJ",
        "colab_type": "text"
      },
      "source": [
        "## Dacon 14회 KB 금융문자 분석 모델링 경진대회\n",
        "### euphoria\n",
        "### 2020년 1월 17일"
      ]
    },
    {
      "cell_type": "code",
      "metadata": {
        "id": "B0T35SVtgHaw",
        "colab_type": "code",
        "outputId": "9e824a56-6059-464b-c44e-c1be2d12cfa6",
        "colab": {
          "base_uri": "https://localhost:8080/",
          "height": 35
        }
      },
      "source": [
        "from google.colab import drive\n",
        "drive.mount('/content/gdrive')"
      ],
      "execution_count": 1,
      "outputs": [
        {
          "output_type": "stream",
          "text": [
            "Drive already mounted at /content/gdrive; to attempt to forcibly remount, call drive.mount(\"/content/gdrive\", force_remount=True).\n"
          ],
          "name": "stdout"
        }
      ]
    },
    {
      "cell_type": "code",
      "metadata": {
        "id": "ts6LDB8S3gG1",
        "colab_type": "code",
        "colab": {
          "base_uri": "https://localhost:8080/",
          "height": 35
        },
        "outputId": "cfe7c2b4-106b-4606-d7e3-58c782fa3f84"
      },
      "source": [
        "cd /content/gdrive/My Drive/Colab Notebooks/smishing/Mecab-ko-for-Google-Colab"
      ],
      "execution_count": 2,
      "outputs": [
        {
          "output_type": "stream",
          "text": [
            "/content/gdrive/My Drive/Colab Notebooks/smishing/Mecab-ko-for-Google-Colab\n"
          ],
          "name": "stdout"
        }
      ]
    },
    {
      "cell_type": "code",
      "metadata": {
        "id": "iwo8qNZs3gsk",
        "colab_type": "code",
        "colab": {}
      },
      "source": [
        "! bash install_mecab-ko_on_colab190912.sh"
      ],
      "execution_count": 0,
      "outputs": []
    },
    {
      "cell_type": "markdown",
      "metadata": {
        "id": "wnBsm5b820wD",
        "colab_type": "text"
      },
      "source": [
        "## 1. 라이브러리 및 데이터\n",
        "### 1-1. Import libraries"
      ]
    },
    {
      "cell_type": "code",
      "metadata": {
        "id": "kOY7wsx_LKCj",
        "colab_type": "code",
        "colab": {}
      },
      "source": [
        "# data preprocessing\n",
        "import os\n",
        "import pandas as pd\n",
        "import numpy as np\n",
        "import random\n",
        "import matplotlib.pyplot as plt\n",
        "import warnings\n",
        "warnings.filterwarnings(action='ignore')\n",
        "from datetime import datetime, timedelta\n",
        "import pickle\n",
        "# text tokenizing\n",
        "import re\n",
        "from konlpy.tag import Mecab\n",
        "# modeling\n",
        "import tensorflow as tf\n",
        "from tensorflow.keras.preprocessing.text import Tokenizer\n",
        "from tensorflow.keras.preprocessing.sequence import pad_sequences\n",
        "from tensorflow.keras.layers import Embedding, Dense, LSTM, Bidirectional, SpatialDropout1D, Dropout\n",
        "from tensorflow.keras.models import Sequential\n",
        "from tensorflow.keras import regularizers\n",
        "from tensorflow.keras.callbacks import EarlyStopping\n",
        "from tensorflow.keras import backend as K\n",
        "from sklearn.metrics import roc_auc_score"
      ],
      "execution_count": 0,
      "outputs": []
    },
    {
      "cell_type": "markdown",
      "metadata": {
        "id": "9Ap8IpUX5CYJ",
        "colab_type": "text"
      },
      "source": [
        "### 1-2. Settings for reproducible results\n",
        "> ref: https://keras.io/getting-started/faq/#how-can-i-obtain-reproducible-results-using-keras-during-development"
      ]
    },
    {
      "cell_type": "code",
      "metadata": {
        "id": "2unTANeu49W0",
        "colab_type": "code",
        "colab": {}
      },
      "source": [
        "#random.randint(0,99999999)\n",
        "sd = 15026912\n",
        "\n",
        "np.random.seed(sd)\n",
        "random.seed(sd)\n",
        "os.environ['PYTHONHASHSEED']=str(sd)\n",
        "\n",
        "config = tf.ConfigProto(intra_op_parallelism_threads=1,inter_op_parallelism_threads=1)\n",
        "tf.set_random_seed(sd)\n",
        "\n",
        "sess = tf.Session(graph=tf.get_default_graph(), config=config)\n",
        "K.set_session(sess)\n",
        "\n",
        "os.environ[\"CUDA_DEVICE_ORDER\"] = \"PCI_BUS_ID\"\n",
        "os.environ[\"CUDA_VISIBLE_DEVICES\"] = \"\"\n",
        "os.environ['TF_CPP_MIN_LOG_LEVEL'] = '3' \n",
        "tf.logging.set_verbosity(tf.logging.ERROR)"
      ],
      "execution_count": 0,
      "outputs": []
    },
    {
      "cell_type": "code",
      "metadata": {
        "id": "JWMiX5eCja3u",
        "colab_type": "code",
        "colab": {}
      },
      "source": [
        "def now():\n",
        "    return datetime.now().isoformat()[5:-7].replace('T',' ')"
      ],
      "execution_count": 0,
      "outputs": []
    },
    {
      "cell_type": "markdown",
      "metadata": {
        "id": "Y7vMYQkt7r8m",
        "colab_type": "text"
      },
      "source": [
        "### 1-3. Load data"
      ]
    },
    {
      "cell_type": "code",
      "metadata": {
        "id": "2arA7qSIgtGt",
        "colab_type": "code",
        "outputId": "fdb75734-decc-480a-9598-ac5a62d72056",
        "colab": {
          "base_uri": "https://localhost:8080/",
          "height": 160
        }
      },
      "source": [
        "os.chdir('/content/gdrive/My Drive/Colab Notebooks/smishing/') \n",
        "train = pd.read_csv('0_Data/train.csv')\n",
        "print(train.shape)\n",
        "train.head(3)"
      ],
      "execution_count": 5,
      "outputs": [
        {
          "output_type": "stream",
          "text": [
            "(295945, 4)\n"
          ],
          "name": "stdout"
        },
        {
          "output_type": "execute_result",
          "data": {
            "text/html": [
              "<div>\n",
              "<style scoped>\n",
              "    .dataframe tbody tr th:only-of-type {\n",
              "        vertical-align: middle;\n",
              "    }\n",
              "\n",
              "    .dataframe tbody tr th {\n",
              "        vertical-align: top;\n",
              "    }\n",
              "\n",
              "    .dataframe thead th {\n",
              "        text-align: right;\n",
              "    }\n",
              "</style>\n",
              "<table border=\"1\" class=\"dataframe\">\n",
              "  <thead>\n",
              "    <tr style=\"text-align: right;\">\n",
              "      <th></th>\n",
              "      <th>id</th>\n",
              "      <th>year_month</th>\n",
              "      <th>text</th>\n",
              "      <th>smishing</th>\n",
              "    </tr>\n",
              "  </thead>\n",
              "  <tbody>\n",
              "    <tr>\n",
              "      <th>0</th>\n",
              "      <td>0</td>\n",
              "      <td>2017-01</td>\n",
              "      <td>XXX은행성산XXX팀장입니다.행복한주말되세요</td>\n",
              "      <td>0</td>\n",
              "    </tr>\n",
              "    <tr>\n",
              "      <th>1</th>\n",
              "      <td>1</td>\n",
              "      <td>2017-01</td>\n",
              "      <td>오늘도많이웃으시는하루시작하세요XXX은행 진월동VIP라운지 XXX올림</td>\n",
              "      <td>0</td>\n",
              "    </tr>\n",
              "    <tr>\n",
              "      <th>2</th>\n",
              "      <td>2</td>\n",
              "      <td>2017-01</td>\n",
              "      <td>안녕하십니까 고객님. XXX은행입니다.금일 납부하셔야 할 금액은 153600원 입니...</td>\n",
              "      <td>0</td>\n",
              "    </tr>\n",
              "  </tbody>\n",
              "</table>\n",
              "</div>"
            ],
            "text/plain": [
              "   id year_month                                               text  smishing\n",
              "0   0    2017-01                           XXX은행성산XXX팀장입니다.행복한주말되세요         0\n",
              "1   1    2017-01              오늘도많이웃으시는하루시작하세요XXX은행 진월동VIP라운지 XXX올림         0\n",
              "2   2    2017-01  안녕하십니까 고객님. XXX은행입니다.금일 납부하셔야 할 금액은 153600원 입니...         0"
            ]
          },
          "metadata": {
            "tags": []
          },
          "execution_count": 5
        }
      ]
    },
    {
      "cell_type": "markdown",
      "metadata": {
        "id": "GR6rYpgo3ubq",
        "colab_type": "text"
      },
      "source": [
        "## 2. 데이터 전처리\n",
        "### 2-1. Data Cleaning\n",
        "- tokenizing using Mecab\n",
        "- make bi-gram"
      ]
    },
    {
      "cell_type": "code",
      "metadata": {
        "id": "iDG7diik76t8",
        "colab_type": "code",
        "colab": {}
      },
      "source": [
        "def text_preprocessing(text_list):\n",
        "    '''\n",
        "    args: text list that wants to tokenize\n",
        "    return: token list, bigram list\n",
        "    '''\n",
        "    stopwords = ['을', '를', '이', '가', '은', '는', 'null'] #제거: 불용어, 한글 영문 외 문자, XXX 등 비식별처리된 문자\n",
        "    tokenizer = Mecab()\n",
        "    token_list, bigram_list = [], []\n",
        "    for text in text_list:\n",
        "        txt = re.sub('[^가-힣a-z]',' ',text.lower())\n",
        "        txt = re.sub('x{1,}',' ',txt)\n",
        "        token = tokenizer.morphs(txt)  # tokenizing\n",
        "        token = [t for t in token if t not in stopwords or type(t)!= float] # text cleaning\n",
        "        token_list.append(' '.join(token))\n",
        "        bigram = [token[i]+'.'+token[i+1] for i in range(len(token)-1)]  # bi-gram\n",
        "        bigram_list.append(' '.join(bigram))\n",
        "    return token_list, bigram_list"
      ],
      "execution_count": 0,
      "outputs": []
    },
    {
      "cell_type": "code",
      "metadata": {
        "id": "rJRpzMtr8NHF",
        "colab_type": "code",
        "colab": {}
      },
      "source": [
        "train['token_txt'], train['bigram'] = text_preprocessing(train.text)"
      ],
      "execution_count": 0,
      "outputs": []
    },
    {
      "cell_type": "markdown",
      "metadata": {
        "id": "jBqAVONG-PBo",
        "colab_type": "text"
      },
      "source": [
        "### 2-2. Data Sampling\n",
        "- Counter({0: 277242, 1: 18703}) #0.0631975535994864\n",
        "- Data Imbalance Problem!\n",
        "- Using Mixed Sampling"
      ]
    },
    {
      "cell_type": "code",
      "metadata": {
        "id": "itgYwhhGBzzA",
        "colab_type": "code",
        "colab": {}
      },
      "source": [
        "def train_data_sampling(train, seed=1234, a=3, b=3):\n",
        "    '''\n",
        "    args: train data, seed number, a(under sampling), b(over sampling)\n",
        "    return: sampling index\n",
        "    '''\n",
        "    train_nsm_idx=list(train[train['smishing']==0].index)\n",
        "    train_sm_idx=list(train[train['smishing']==1].index)\n",
        "    random.seed(seed)\n",
        "    train_nsm_idx = random.sample(train_nsm_idx, k=18703*a)\n",
        "    random.seed(seed)\n",
        "    train_sm_idx = random.choices(train_sm_idx, k=18703*b)\n",
        "    train_idx = train_nsm_idx + train_sm_idx\n",
        "    print(train_idx[:5])\n",
        "    random.shuffle(train_idx)\n",
        "    print(train_idx[:5])\n",
        "    return train_idx"
      ],
      "execution_count": 0,
      "outputs": []
    },
    {
      "cell_type": "code",
      "metadata": {
        "id": "kvFIOD9HBY3T",
        "colab_type": "code",
        "colab": {
          "base_uri": "https://localhost:8080/",
          "height": 71
        },
        "outputId": "5fba4aed-cadf-4c20-a8d1-c250084df46a"
      },
      "source": [
        "trn_idx = train_data_sampling(train, seed=sd, a=3, b=2)\n",
        "df_train = train.iloc[trn_idx].reset_index(drop=True)\n",
        "print(df_train.shape)"
      ],
      "execution_count": 9,
      "outputs": [
        {
          "output_type": "stream",
          "text": [
            "[206864, 218560, 111768, 152524, 170588]\n",
            "[25559, 185452, 293634, 175839, 247866]\n",
            "(93515, 6)\n"
          ],
          "name": "stdout"
        }
      ]
    },
    {
      "cell_type": "markdown",
      "metadata": {
        "id": "NNLLwnt1bCm-",
        "colab_type": "text"
      },
      "source": [
        "### 2-3. text pre-processing\n",
        "- text to sequences with tf.keras"
      ]
    },
    {
      "cell_type": "code",
      "metadata": {
        "id": "9pYUYKgCEpj8",
        "colab_type": "code",
        "colab": {}
      },
      "source": [
        "def save_tokenizer(tokenizer):\n",
        "    mname = 'tokenizer_'+now()\n",
        "    with open('1_Model/'+mname+'.pickle', 'wb') as f:\n",
        "        pickle.dump(tokenizer, f, protocol = pickle.HIGHEST_PROTOCOL)"
      ],
      "execution_count": 0,
      "outputs": []
    },
    {
      "cell_type": "code",
      "metadata": {
        "id": "VtzQUkXSB4oC",
        "colab_type": "code",
        "colab": {}
      },
      "source": [
        "def text2sequence(train_text, max_len=1000):\n",
        "    '''\n",
        "    args: text of train data, max length(for word embedding)\n",
        "    return: train data(for modeling), vocabulary size\n",
        "    '''\n",
        "    tokenizer = Tokenizer()\n",
        "    tokenizer.fit_on_texts(train_text)\n",
        "    save_tokenizer(tokenizer)\n",
        "    train_X_seq = tokenizer.texts_to_sequences(train_text)\n",
        "    vocab_size = len(tokenizer.word_index) + 1\n",
        "    print('vocab size: ', vocab_size)\n",
        "    X_train = pad_sequences(train_X_seq, maxlen=max_len)\n",
        "    return X_train, vocab_size"
      ],
      "execution_count": 0,
      "outputs": []
    },
    {
      "cell_type": "code",
      "metadata": {
        "id": "XuGsuVebewK3",
        "colab_type": "code",
        "colab": {
          "base_uri": "https://localhost:8080/",
          "height": 71
        },
        "outputId": "3a150644-c89c-4f0c-9c9c-899c48a4c7af"
      },
      "source": [
        "train_y = df_train['smishing']\n",
        "train_X, vocab_size = text2sequence(df_train['token_txt'], max_len=660)\n",
        "train_X2, vocab_size2 = text2sequence(df_train['bigram'], max_len=660)\n",
        "print(train_X.shape, train_y.shape)"
      ],
      "execution_count": 12,
      "outputs": [
        {
          "output_type": "stream",
          "text": [
            "vocab size:  22614\n",
            "vocab size:  22614\n",
            "(93515, 660) (93515,)\n"
          ],
          "name": "stdout"
        }
      ]
    },
    {
      "cell_type": "markdown",
      "metadata": {
        "id": "Ua9JfvszX407",
        "colab_type": "text"
      },
      "source": [
        "## 3. 탐색적 자료 분석 (EDA)"
      ]
    },
    {
      "cell_type": "code",
      "metadata": {
        "id": "VNdfsKO-FSw4",
        "colab_type": "code",
        "outputId": "1d26c408-fee0-465e-fbc6-a97af3c6dd91",
        "colab": {
          "base_uri": "https://localhost:8080/",
          "height": 142
        }
      },
      "source": [
        "x1 = pd.DataFrame(pd.Series([len(x.split()) for x in train['text_']]).describe(), columns=['text_']).transpose()\n",
        "x2 = pd.DataFrame(pd.Series([len(x.split()) for x in train['2gram']]).describe(), columns=['2gram']).transpose()\n",
        "x3 = pd.DataFrame(pd.Series([len(x.split()) for x in train['3gram']]).describe(), columns=['3gram']).transpose()\n",
        "pd.concat([x1,x2,x3], axis=0)"
      ],
      "execution_count": 0,
      "outputs": [
        {
          "output_type": "execute_result",
          "data": {
            "text/html": [
              "<div>\n",
              "<style scoped>\n",
              "    .dataframe tbody tr th:only-of-type {\n",
              "        vertical-align: middle;\n",
              "    }\n",
              "\n",
              "    .dataframe tbody tr th {\n",
              "        vertical-align: top;\n",
              "    }\n",
              "\n",
              "    .dataframe thead th {\n",
              "        text-align: right;\n",
              "    }\n",
              "</style>\n",
              "<table border=\"1\" class=\"dataframe\">\n",
              "  <thead>\n",
              "    <tr style=\"text-align: right;\">\n",
              "      <th></th>\n",
              "      <th>count</th>\n",
              "      <th>mean</th>\n",
              "      <th>std</th>\n",
              "      <th>min</th>\n",
              "      <th>25%</th>\n",
              "      <th>50%</th>\n",
              "      <th>75%</th>\n",
              "      <th>max</th>\n",
              "    </tr>\n",
              "  </thead>\n",
              "  <tbody>\n",
              "    <tr>\n",
              "      <th>text_</th>\n",
              "      <td>295945.0</td>\n",
              "      <td>70.010012</td>\n",
              "      <td>90.041335</td>\n",
              "      <td>1.0</td>\n",
              "      <td>16.0</td>\n",
              "      <td>35.0</td>\n",
              "      <td>82.0</td>\n",
              "      <td>664.0</td>\n",
              "    </tr>\n",
              "    <tr>\n",
              "      <th>2gram</th>\n",
              "      <td>295945.0</td>\n",
              "      <td>69.010056</td>\n",
              "      <td>90.041308</td>\n",
              "      <td>1.0</td>\n",
              "      <td>15.0</td>\n",
              "      <td>34.0</td>\n",
              "      <td>81.0</td>\n",
              "      <td>663.0</td>\n",
              "    </tr>\n",
              "    <tr>\n",
              "      <th>3gram</th>\n",
              "      <td>295945.0</td>\n",
              "      <td>68.010191</td>\n",
              "      <td>90.041213</td>\n",
              "      <td>1.0</td>\n",
              "      <td>14.0</td>\n",
              "      <td>33.0</td>\n",
              "      <td>80.0</td>\n",
              "      <td>662.0</td>\n",
              "    </tr>\n",
              "  </tbody>\n",
              "</table>\n",
              "</div>"
            ],
            "text/plain": [
              "          count       mean        std  min   25%   50%   75%    max\n",
              "text_  295945.0  70.010012  90.041335  1.0  16.0  35.0  82.0  664.0\n",
              "2gram  295945.0  69.010056  90.041308  1.0  15.0  34.0  81.0  663.0\n",
              "3gram  295945.0  68.010191  90.041213  1.0  14.0  33.0  80.0  662.0"
            ]
          },
          "metadata": {
            "tags": []
          },
          "execution_count": 12
        }
      ]
    },
    {
      "cell_type": "code",
      "metadata": {
        "id": "Ww29n-V-D2C9",
        "colab_type": "code",
        "outputId": "bbbb269b-bf3a-47ab-be25-ee3b3a683a35",
        "colab": {
          "base_uri": "https://localhost:8080/",
          "height": 142
        }
      },
      "source": [
        "x1 = pd.DataFrame(pd.Series([len(x) for x in train['text_']]).describe(), columns=['text_']).transpose()\n",
        "x2 = pd.DataFrame(pd.Series([len(x) for x in train['2gram']]).describe(), columns=['2gram']).transpose()\n",
        "x3 = pd.DataFrame(pd.Series([len(x) for x in train['3gram']]).describe(), columns=['3gram']).transpose()\n",
        "pd.concat([x1,x2,x3], axis=0)"
      ],
      "execution_count": 0,
      "outputs": [
        {
          "output_type": "execute_result",
          "data": {
            "text/html": [
              "<div>\n",
              "<style scoped>\n",
              "    .dataframe tbody tr th:only-of-type {\n",
              "        vertical-align: middle;\n",
              "    }\n",
              "\n",
              "    .dataframe tbody tr th {\n",
              "        vertical-align: top;\n",
              "    }\n",
              "\n",
              "    .dataframe thead th {\n",
              "        text-align: right;\n",
              "    }\n",
              "</style>\n",
              "<table border=\"1\" class=\"dataframe\">\n",
              "  <thead>\n",
              "    <tr style=\"text-align: right;\">\n",
              "      <th></th>\n",
              "      <th>count</th>\n",
              "      <th>mean</th>\n",
              "      <th>std</th>\n",
              "      <th>min</th>\n",
              "      <th>25%</th>\n",
              "      <th>50%</th>\n",
              "      <th>75%</th>\n",
              "      <th>max</th>\n",
              "    </tr>\n",
              "  </thead>\n",
              "  <tbody>\n",
              "    <tr>\n",
              "      <th>text_</th>\n",
              "      <td>295945.0</td>\n",
              "      <td>188.277727</td>\n",
              "      <td>241.091119</td>\n",
              "      <td>1.0</td>\n",
              "      <td>43.0</td>\n",
              "      <td>94.0</td>\n",
              "      <td>220.0</td>\n",
              "      <td>1660.0</td>\n",
              "    </tr>\n",
              "    <tr>\n",
              "      <th>2gram</th>\n",
              "      <td>295945.0</td>\n",
              "      <td>371.484614</td>\n",
              "      <td>482.234776</td>\n",
              "      <td>1.0</td>\n",
              "      <td>82.0</td>\n",
              "      <td>183.0</td>\n",
              "      <td>435.0</td>\n",
              "      <td>3315.0</td>\n",
              "    </tr>\n",
              "    <tr>\n",
              "      <th>3gram</th>\n",
              "      <td>295945.0</td>\n",
              "      <td>549.332724</td>\n",
              "      <td>723.312468</td>\n",
              "      <td>1.0</td>\n",
              "      <td>114.0</td>\n",
              "      <td>266.0</td>\n",
              "      <td>645.0</td>\n",
              "      <td>4965.0</td>\n",
              "    </tr>\n",
              "  </tbody>\n",
              "</table>\n",
              "</div>"
            ],
            "text/plain": [
              "          count        mean         std  min    25%    50%    75%     max\n",
              "text_  295945.0  188.277727  241.091119  1.0   43.0   94.0  220.0  1660.0\n",
              "2gram  295945.0  371.484614  482.234776  1.0   82.0  183.0  435.0  3315.0\n",
              "3gram  295945.0  549.332724  723.312468  1.0  114.0  266.0  645.0  4965.0"
            ]
          },
          "metadata": {
            "tags": []
          },
          "execution_count": 13
        }
      ]
    },
    {
      "cell_type": "code",
      "metadata": {
        "id": "jY9V4SNRpAba",
        "colab_type": "code",
        "colab": {
          "base_uri": "https://localhost:8080/",
          "height": 143
        },
        "outputId": "531b2074-7f4f-4a91-a05f-59345bc34e0f"
      },
      "source": [
        "train.iloc[95753]"
      ],
      "execution_count": 13,
      "outputs": [
        {
          "output_type": "execute_result",
          "data": {
            "text/plain": [
              "id                111663\n",
              "year_month       2017-06\n",
              "text          XXX6ㅛㅗ8ㅛㅗ8\n",
              "smishing               0\n",
              "token_txt               \n",
              "bigram                  \n",
              "Name: 95753, dtype: object"
            ]
          },
          "metadata": {
            "tags": []
          },
          "execution_count": 13
        }
      ]
    },
    {
      "cell_type": "markdown",
      "metadata": {
        "id": "gNsXkyJMhmhB",
        "colab_type": "text"
      },
      "source": [
        "## 4. 변수 선택 및 모델 구축"
      ]
    },
    {
      "cell_type": "markdown",
      "metadata": {
        "id": "zqwq_3Rmh5e2",
        "colab_type": "text"
      },
      "source": [
        "## 5. 모델 학습 및 검증\n",
        "### 5-1. Build Model\n",
        "- score: AUC\n",
        "- Bi-LSTM (Bi-Directional Long Short Term Memory)"
      ]
    },
    {
      "cell_type": "code",
      "metadata": {
        "id": "JY49FyLN39Lm",
        "colab_type": "code",
        "colab": {}
      },
      "source": [
        "auc_ = 0\n",
        "def auc_score(y_true, y_pred):\n",
        "    global auc_\n",
        "    try:\n",
        "        auc_ = roc_auc_score( y_true, y_pred, average='macro', sample_weight = None).astype('float32')\n",
        "    except ValueError:\n",
        "        pass\n",
        "    return auc_\n",
        "\n",
        "def auc(y_true, y_pred):\n",
        "    score = tf.py_func( lambda y_true, y_pred : auc_score(y_true, y_pred) , [y_true, y_pred], 'float32', stateful = False, name = 'sklearnAUC' )\n",
        "    return score"
      ],
      "execution_count": 0,
      "outputs": []
    },
    {
      "cell_type": "code",
      "metadata": {
        "id": "_kCh0a2eLFxj",
        "colab_type": "code",
        "colab": {}
      },
      "source": [
        "def BiLSTM(vocab_size, max_len=1000):\n",
        "    model = Sequential()\n",
        "    model.add(Embedding(vocab_size, 128, input_length = max_len))\n",
        "    model.add(SpatialDropout1D(0.3))\n",
        "    model.add(Bidirectional(LSTM(64)))\n",
        "    model.add(Dropout(0.5))\n",
        "    model.add(Dense(64, activation='tanh', kernel_regularizer = regularizers.l2(0.001)))\n",
        "    model.add(Dense(1, activation='sigmoid'))\n",
        "\n",
        "    model.compile(optimizer='adam', loss='binary_crossentropy', metrics=[auc])\n",
        "    model.summary()\n",
        "    return model"
      ],
      "execution_count": 0,
      "outputs": []
    },
    {
      "cell_type": "code",
      "metadata": {
        "id": "bpJnBvgClEhA",
        "colab_type": "code",
        "colab": {}
      },
      "source": [
        "def model_save(model, mname):\n",
        "    model_json = model.to_json()\n",
        "    with open('1_Model/'+mname+'.json', 'w') as json_file : \n",
        "        json_file.write(model_json)\n",
        "    model.save_weights('1_Model/'+mname+'.h5')"
      ],
      "execution_count": 0,
      "outputs": []
    },
    {
      "cell_type": "markdown",
      "metadata": {
        "id": "_u_k2CJ5ivkU",
        "colab_type": "text"
      },
      "source": [
        "### 5-2. Train Model\n",
        "#### (1) Unigram"
      ]
    },
    {
      "cell_type": "code",
      "metadata": {
        "id": "_SXRZHoRLsdC",
        "colab_type": "code",
        "outputId": "31499720-27d2-4d42-8f28-064eb443b317",
        "colab": {
          "base_uri": "https://localhost:8080/",
          "height": 575
        }
      },
      "source": [
        "print('start time: ', datetime.now().isoformat())\n",
        "model1 = BiLSTM(vocab_size, max_len=600)\n",
        "early_stopping = EarlyStopping(patience=2, min_delta=0.00005)\n",
        "history = model1.fit(train_X, train_y, epochs=5, batch_size=128, validation_split=0.3, callbacks=[early_stopping])\n",
        "\n",
        "mname = now()+'_BiLSTM_unigram_660'\n",
        "model_save(model1, mname)\n",
        "print('end time: ', datetime.now().isoformat())"
      ],
      "execution_count": 0,
      "outputs": [
        {
          "output_type": "stream",
          "text": [
            "Model: \"sequential_1\"\n",
            "_________________________________________________________________\n",
            "Layer (type)                 Output Shape              Param #   \n",
            "=================================================================\n",
            "embedding_1 (Embedding)      (None, 600, 64)           1726272   \n",
            "_________________________________________________________________\n",
            "spatial_dropout1d_1 (Spatial (None, 600, 64)           0         \n",
            "_________________________________________________________________\n",
            "bidirectional_1 (Bidirection (None, 128)               66048     \n",
            "_________________________________________________________________\n",
            "dropout_1 (Dropout)          (None, 128)               0         \n",
            "_________________________________________________________________\n",
            "dense_2 (Dense)              (None, 64)                8256      \n",
            "_________________________________________________________________\n",
            "dense_3 (Dense)              (None, 1)                 65        \n",
            "=================================================================\n",
            "Total params: 1,800,641\n",
            "Trainable params: 1,800,641\n",
            "Non-trainable params: 0\n",
            "_________________________________________________________________\n",
            "Train on 104736 samples, validate on 44888 samples\n",
            "Epoch 1/5\n",
            "104736/104736 [==============================] - 2130s 20ms/sample - loss: 0.0458 - auc: 0.9951 - val_loss: 0.0046 - val_auc: 0.9999\n",
            "Epoch 2/5\n",
            "104736/104736 [==============================] - 2114s 20ms/sample - loss: 0.0030 - auc: 1.0000 - val_loss: 0.0028 - val_auc: 1.0000\n",
            "Epoch 3/5\n",
            "104736/104736 [==============================] - 2127s 20ms/sample - loss: 0.0056 - auc: 0.9999 - val_loss: 0.0027 - val_auc: 1.0000\n",
            "Epoch 4/5\n",
            "104736/104736 [==============================] - 2126s 20ms/sample - loss: 0.0016 - auc: 1.0000 - val_loss: 0.0012 - val_auc: 1.0000\n",
            "Epoch 5/5\n",
            "104736/104736 [==============================] - 2122s 20ms/sample - loss: 0.0023 - auc: 1.0000 - val_loss: 0.0015 - val_auc: 1.0000\n"
          ],
          "name": "stdout"
        }
      ]
    },
    {
      "cell_type": "markdown",
      "metadata": {
        "id": "dzmY2X3XZdP6",
        "colab_type": "text"
      },
      "source": [
        "#### (2) Bi-gram"
      ]
    },
    {
      "cell_type": "code",
      "metadata": {
        "id": "fULSvCnRmfep",
        "colab_type": "code",
        "outputId": "a5a28b6e-3be6-4821-b7e8-19cea02bb4dd",
        "colab": {
          "base_uri": "https://localhost:8080/",
          "height": 449
        }
      },
      "source": [
        "print('start time: ', datetime.now().isoformat())\n",
        "model2 = BiLSTM(vocab_size2, max_len=660)\n",
        "early_stopping = EarlyStopping(patience=2, min_delta=0.00005)\n",
        "history = model2.fit(train_X2, train_y, epochs=50, batch_size=128, validation_split=0.3, callbacks=[early_stopping])\n",
        "\n",
        "mname = now()+'_BiLSTM_bigram_660'\n",
        "model_save(model2, mname)\n",
        "print('end time: ', datetime.now().isoformat())"
      ],
      "execution_count": 0,
      "outputs": [
        {
          "output_type": "stream",
          "text": [
            "start time:  2020-01-16T05:06:23.299477\n",
            "Model: \"sequential\"\n",
            "_________________________________________________________________\n",
            "Layer (type)                 Output Shape              Param #   \n",
            "=================================================================\n",
            "embedding (Embedding)        (None, 660, 128)          2894592   \n",
            "_________________________________________________________________\n",
            "spatial_dropout1d (SpatialDr (None, 660, 128)          0         \n",
            "_________________________________________________________________\n",
            "bidirectional (Bidirectional (None, 128)               98816     \n",
            "_________________________________________________________________\n",
            "dropout (Dropout)            (None, 128)               0         \n",
            "_________________________________________________________________\n",
            "dense (Dense)                (None, 64)                8256      \n",
            "_________________________________________________________________\n",
            "dense_1 (Dense)              (None, 1)                 65        \n",
            "=================================================================\n",
            "Total params: 3,001,729\n",
            "Trainable params: 3,001,729\n",
            "Non-trainable params: 0\n",
            "_________________________________________________________________\n",
            "Train on 65460 samples, validate on 28055 samples\n",
            "Epoch 1/50\n",
            "57472/65460 [=========================>....] - ETA: 3:23 - loss: 0.0610 - auc: 0.9961"
          ],
          "name": "stdout"
        }
      ]
    },
    {
      "cell_type": "code",
      "metadata": {
        "id": "ZFuj2z6f5FGw",
        "colab_type": "code",
        "colab": {}
      },
      "source": [
        ""
      ],
      "execution_count": 0,
      "outputs": []
    }
  ]
}