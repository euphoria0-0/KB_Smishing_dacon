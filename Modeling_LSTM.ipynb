{
  "nbformat": 4,
  "nbformat_minor": 0,
  "metadata": {
    "colab": {
      "name": "Modeling_3.ipynb",
      "provenance": [],
      "collapsed_sections": [],
      "machine_shape": "hm",
      "include_colab_link": true
    },
    "kernelspec": {
      "name": "python3",
      "display_name": "Python 3"
    },
    "accelerator": "TPU"
  },
  "cells": [
    {
      "cell_type": "markdown",
      "metadata": {
        "id": "view-in-github",
        "colab_type": "text"
      },
      "source": [
        "<a href=\"https://colab.research.google.com/github/euphoria96/KB_Smishing_dacon/blob/master/Modeling_LSTM.ipynb\" target=\"_parent\"><img src=\"https://colab.research.google.com/assets/colab-badge.svg\" alt=\"Open In Colab\"/></a>"
      ]
    },
    {
      "cell_type": "markdown",
      "metadata": {
        "id": "uU8TE6MvgKLJ",
        "colab_type": "text"
      },
      "source": [
        "## Setting\n",
        "### Mounting google drive"
      ]
    },
    {
      "cell_type": "code",
      "metadata": {
        "id": "B0T35SVtgHaw",
        "colab_type": "code",
        "colab": {}
      },
      "source": [
        "from google.colab import drive\n",
        "\n",
        "drive.mount('/content/gdrive')"
      ],
      "execution_count": 0,
      "outputs": []
    },
    {
      "cell_type": "markdown",
      "metadata": {
        "id": "GamuwYZroZbz",
        "colab_type": "text"
      },
      "source": [
        "### Download Mecab\n",
        "현재 다양한 자연어 처리 패키지 중에서 mecab는 윈도우에서는 설치가 힘든 패키지 중 하나이다.\n",
        "\n",
        "이를 극복하기 위해, colab에서 mecab를 설치하고 활용할 수 있도록 colab 파일을 공유하고자 한다."
      ]
    },
    {
      "cell_type": "code",
      "metadata": {
        "id": "WFVbCaja0qHT",
        "colab_type": "code",
        "outputId": "71df6131-ae35-4930-e501-460a8ccdf120",
        "colab": {
          "base_uri": "https://localhost:8080/",
          "height": 35
        }
      },
      "source": [
        "cd /content/gdrive/My Drive/Colab Notebooks/smishing/Mecab-ko-for-Google-Colab"
      ],
      "execution_count": 2,
      "outputs": [
        {
          "output_type": "stream",
          "text": [
            "/content/gdrive/My Drive/Colab Notebooks/smishing/Mecab-ko-for-Google-Colab\n"
          ],
          "name": "stdout"
        }
      ]
    },
    {
      "cell_type": "code",
      "metadata": {
        "id": "z_1v1nRQ0sT1",
        "colab_type": "code",
        "colab": {}
      },
      "source": [
        "! bash install_mecab-ko_on_colab190912.sh"
      ],
      "execution_count": 0,
      "outputs": []
    },
    {
      "cell_type": "markdown",
      "metadata": {
        "id": "HHvFvXcDfzk4",
        "colab_type": "text"
      },
      "source": [
        "### Import packages"
      ]
    },
    {
      "cell_type": "code",
      "metadata": {
        "id": "kOY7wsx_LKCj",
        "colab_type": "code",
        "colab": {}
      },
      "source": [
        "# data preprocessing\n",
        "import pandas as pd\n",
        "import numpy as np\n",
        "import random\n",
        "import matplotlib.pyplot as plt\n",
        "# tokenizer\n",
        "import re\n",
        "from konlpy.tag import Mecab\n",
        "# modeling\n",
        "import tensorflow as tf\n",
        "from tensorflow.keras.preprocessing.text import Tokenizer\n",
        "from tensorflow.keras.preprocessing.sequence import pad_sequences\n",
        "from tensorflow.keras.layers import Embedding, Dense, SimpleRNN, LSTM\n",
        "from tensorflow.keras.models import Sequential\n",
        "from sklearn.metrics import roc_auc_score\n",
        "import pickle\n",
        "import warnings\n",
        "warnings.filterwarnings(action='ignore') "
      ],
      "execution_count": 0,
      "outputs": []
    },
    {
      "cell_type": "markdown",
      "metadata": {
        "id": "J67chBIQCrTW",
        "colab_type": "text"
      },
      "source": [
        "### Load Data"
      ]
    },
    {
      "cell_type": "code",
      "metadata": {
        "id": "2arA7qSIgtGt",
        "colab_type": "code",
        "outputId": "4266c17d-4156-4c33-b651-23de03b4b720",
        "colab": {
          "base_uri": "https://localhost:8080/",
          "height": 222
        }
      },
      "source": [
        "path = '/content/gdrive/My Drive/Colab Notebooks/smishing/data/'\n",
        "train = pd.read_csv(path+\"train.csv\")\n",
        "test = pd.read_csv(path+\"public_test.csv\")\n",
        "submission=pd.read_csv(path+\"submission_제출양식.csv\")\n",
        "print(train.shape, test.shape, submission.shape)\n",
        "train.head()"
      ],
      "execution_count": 6,
      "outputs": [
        {
          "output_type": "stream",
          "text": [
            "(295945, 4) (1626, 3) (1626, 2)\n"
          ],
          "name": "stdout"
        },
        {
          "output_type": "execute_result",
          "data": {
            "text/html": [
              "<div>\n",
              "<style scoped>\n",
              "    .dataframe tbody tr th:only-of-type {\n",
              "        vertical-align: middle;\n",
              "    }\n",
              "\n",
              "    .dataframe tbody tr th {\n",
              "        vertical-align: top;\n",
              "    }\n",
              "\n",
              "    .dataframe thead th {\n",
              "        text-align: right;\n",
              "    }\n",
              "</style>\n",
              "<table border=\"1\" class=\"dataframe\">\n",
              "  <thead>\n",
              "    <tr style=\"text-align: right;\">\n",
              "      <th></th>\n",
              "      <th>id</th>\n",
              "      <th>year_month</th>\n",
              "      <th>text</th>\n",
              "      <th>smishing</th>\n",
              "    </tr>\n",
              "  </thead>\n",
              "  <tbody>\n",
              "    <tr>\n",
              "      <th>0</th>\n",
              "      <td>0</td>\n",
              "      <td>2017-01</td>\n",
              "      <td>XXX은행성산XXX팀장입니다.행복한주말되세요</td>\n",
              "      <td>0</td>\n",
              "    </tr>\n",
              "    <tr>\n",
              "      <th>1</th>\n",
              "      <td>1</td>\n",
              "      <td>2017-01</td>\n",
              "      <td>오늘도많이웃으시는하루시작하세요XXX은행 진월동VIP라운지 XXX올림</td>\n",
              "      <td>0</td>\n",
              "    </tr>\n",
              "    <tr>\n",
              "      <th>2</th>\n",
              "      <td>2</td>\n",
              "      <td>2017-01</td>\n",
              "      <td>안녕하십니까 고객님. XXX은행입니다.금일 납부하셔야 할 금액은 153600원 입니...</td>\n",
              "      <td>0</td>\n",
              "    </tr>\n",
              "    <tr>\n",
              "      <th>3</th>\n",
              "      <td>4</td>\n",
              "      <td>2017-01</td>\n",
              "      <td>XXX 고객님안녕하세요XXX은행 XXX지점입니다지난 한 해 동안 저희 XXX지점에 ...</td>\n",
              "      <td>0</td>\n",
              "    </tr>\n",
              "    <tr>\n",
              "      <th>4</th>\n",
              "      <td>5</td>\n",
              "      <td>2017-01</td>\n",
              "      <td>1월은 새로움이 가득XXX입니다.올 한해 더 많이행복한 한해되시길바랍니다</td>\n",
              "      <td>0</td>\n",
              "    </tr>\n",
              "  </tbody>\n",
              "</table>\n",
              "</div>"
            ],
            "text/plain": [
              "   id year_month                                               text  smishing\n",
              "0   0    2017-01                           XXX은행성산XXX팀장입니다.행복한주말되세요         0\n",
              "1   1    2017-01              오늘도많이웃으시는하루시작하세요XXX은행 진월동VIP라운지 XXX올림         0\n",
              "2   2    2017-01  안녕하십니까 고객님. XXX은행입니다.금일 납부하셔야 할 금액은 153600원 입니...         0\n",
              "3   4    2017-01  XXX 고객님안녕하세요XXX은행 XXX지점입니다지난 한 해 동안 저희 XXX지점에 ...         0\n",
              "4   5    2017-01           1월은 새로움이 가득XXX입니다.올 한해 더 많이행복한 한해되시길바랍니다         0"
            ]
          },
          "metadata": {
            "tags": []
          },
          "execution_count": 6
        }
      ]
    },
    {
      "cell_type": "markdown",
      "metadata": {
        "id": "WvpIMFkuhEm-",
        "colab_type": "text"
      },
      "source": [
        "## Data Preparation\n",
        "### Sampling\n",
        "- Counter({0: 277242, 1: 18703}) #0.0631975535994864\n",
        "- mixed sampling"
      ]
    },
    {
      "cell_type": "code",
      "metadata": {
        "id": "qmxPnLg2vjcH",
        "colab_type": "code",
        "colab": {
          "base_uri": "https://localhost:8080/",
          "height": 71
        },
        "outputId": "ee5a619c-6e15-4f73-f3a9-8977486d9fe6"
      },
      "source": [
        "RANDOM_SEED = 1234\n",
        "\n",
        "## for train data\n",
        "# index\n",
        "train_nsm_idx=list(train[train['smishing']==0].index)\n",
        "train_sm_idx=list(train[train['smishing']==1].index)\n",
        "# 3. Mixed Sampling\n",
        "random.seed(RANDOM_SEED)\n",
        "train_nsm_idx = random.sample(train_nsm_idx, k=18703*3)\n",
        "random.seed(RANDOM_SEED)\n",
        "train_sm_idx = random.choices(train_sm_idx, k=18703*3)\n",
        "# index shuffle\n",
        "train_idx = train_nsm_idx + train_sm_idx\n",
        "print(train_idx[:5])\n",
        "random.shuffle(train_idx)\n",
        "print(train_idx[:5])\n",
        "# Merge\n",
        "train_X = pd.DataFrame(train['text'], columns=['text']).iloc[train_idx].reset_index(drop=True)\n",
        "train_y = pd.DataFrame(train['smishing'], columns=['smishing']).iloc[train_idx].reset_index(drop=True)\n",
        "print(train_X.shape, train_y.shape)"
      ],
      "execution_count": 36,
      "outputs": [
        {
          "output_type": "stream",
          "text": [
            "[242186, 63505, 4255, 49550, 19561]\n",
            "[187347, 140625, 240425, 47135, 243703]\n",
            "(112218, 1) (112218, 1)\n"
          ],
          "name": "stdout"
        }
      ]
    },
    {
      "cell_type": "code",
      "metadata": {
        "id": "Vr7NRt5Ktoir",
        "colab_type": "code",
        "outputId": "d4a2acbd-fa5a-426f-ec2f-2a69c329cb61",
        "colab": {
          "base_uri": "https://localhost:8080/",
          "height": 35
        }
      },
      "source": [
        "## for test data\n",
        "test['smishing'] = 2 # train data와 동일한 형태 생성을 위해 임의의 숫자를 추가 #이후 스미싱 여부 확률 값으로 덮어 씌워짐\n",
        "test_X = pd.DataFrame(test['text'])\n",
        "test_y = pd.DataFrame(test['smishing'])\n",
        "print(test_X.shape, test_y.shape)"
      ],
      "execution_count": 37,
      "outputs": [
        {
          "output_type": "stream",
          "text": [
            "(1626, 1) (1626, 1)\n"
          ],
          "name": "stdout"
        }
      ]
    },
    {
      "cell_type": "markdown",
      "metadata": {
        "colab_type": "text",
        "id": "MTCw7aPKbla_"
      },
      "source": [
        "### Tokenizing"
      ]
    },
    {
      "cell_type": "code",
      "metadata": {
        "id": "8KksYY1zborm",
        "colab_type": "code",
        "outputId": "fc354556-f5e3-4c6d-98e9-c887f111d6ca",
        "colab": {
          "base_uri": "https://localhost:8080/",
          "height": 53
        }
      },
      "source": [
        "tmp = [len(x) for x in train_X.text]\n",
        "print('문자최대길이: ',max(tmp))\n",
        "print('문자평균길이: ',sum(tmp)/len(tmp))"
      ],
      "execution_count": 38,
      "outputs": [
        {
          "output_type": "stream",
          "text": [
            "문자최대길이:  1478\n",
            "문자평균길이:  467.7582027838671\n"
          ],
          "name": "stdout"
        }
      ]
    },
    {
      "cell_type": "code",
      "metadata": {
        "id": "uVLBtcSahzN2",
        "colab_type": "code",
        "colab": {}
      },
      "source": [
        "stopwords = ['을', '를', '이', '가', '은', '는', 'null']\n",
        "\n",
        "def tokenizing(text_list):\n",
        "  tokenizer = Mecab()\n",
        "  token_list = []\n",
        "  for text in text_list:\n",
        "    tokens = []\n",
        "    txt = re.sub('[^가-힣a-zA-Z]',' ',text)\n",
        "    txt = re.sub('X{1,}',' ',txt)\n",
        "    token = tokenizer.morphs(txt)\n",
        "    for t in token:\n",
        "      if t not in stopwords:\n",
        "        tokens.append(t)\n",
        "    token_list.append(' '.join(tokens))\n",
        "  return token_list"
      ],
      "execution_count": 0,
      "outputs": []
    },
    {
      "cell_type": "code",
      "metadata": {
        "id": "RhStMRBMh1ue",
        "colab_type": "code",
        "colab": {
          "base_uri": "https://localhost:8080/",
          "height": 35
        },
        "outputId": "148a0802-e224-4e3f-abdd-4c149e225238"
      },
      "source": [
        "train_X_txt = tokenizing(train_X.text)\n",
        "test_X_txt = tokenizing(test_X.text)\n",
        "print(len(X_train), len(train_y), len(X_test))"
      ],
      "execution_count": 55,
      "outputs": [
        {
          "output_type": "stream",
          "text": [
            "112218 112218 1626\n"
          ],
          "name": "stdout"
        }
      ]
    },
    {
      "cell_type": "code",
      "metadata": {
        "id": "e3rB5I29ik4F",
        "colab_type": "code",
        "colab": {
          "base_uri": "https://localhost:8080/",
          "height": 53
        },
        "outputId": "431b6f99-5190-4666-fbac-43c7db119cc6"
      },
      "source": [
        "idx = 0\n",
        "print(train_X.text[idx])\n",
        "print(train_X_txt[idx])"
      ],
      "execution_count": 56,
      "outputs": [
        {
          "output_type": "stream",
          "text": [
            "2018년 새해가 밝았습니다.올 한 해에도 원하시는 일   모두 이루시고늘 행복하고 즐거운 일이   가득하길 바랍니다.새해 복 많이 받으세요.XXX은행과천XXX올림\n",
            "년 새해 밝 았 습니다 올 한 해 에 도 원 하 시 일 모두 이루 시 고 늘 행복 하 고 즐거운 일 가득 하 길 바랍니다 새해 복 많이 받 으세요 은행 과 천 올림\n"
          ],
          "name": "stdout"
        }
      ]
    },
    {
      "cell_type": "code",
      "metadata": {
        "id": "oeNj0fAMrBnc",
        "colab_type": "code",
        "outputId": "9d9317ca-6548-4c1d-c72e-cd11fabc9762",
        "colab": {
          "base_uri": "https://localhost:8080/",
          "height": 71
        }
      },
      "source": [
        "tokenizer = Tokenizer()\n",
        "tokenizer.fit_on_texts(train_X_txt)  # _개의 행을 가진 X의 각 행에 토큰화를 수행\n",
        "train_X_seq = tokenizer.texts_to_sequences(train_X_txt) #단어를 숫자값, 인덱스로 변환하여 저장\n",
        "word_to_index = tokenizer.word_index\n",
        "vocab_size = len(word_to_index) + 1\n",
        "print('vocab size: ', vocab_size)\n",
        "max_len = 1000 # 전체 데이터셋의 길이 맞추기\n",
        "X_train = pad_sequences(train_X_seq, maxlen=max_len)\n",
        "print(\"train data shape: \", X_train.shape)\n",
        "test_X_seq = tokenizer.texts_to_sequences(test_X_txt) #단어를 숫자값, 인덱스로 변환하여 저장\n",
        "X_test = pad_sequences(test_X_seq, maxlen=max_len)\n",
        "print(\"test data shape: \", X_test.shape)"
      ],
      "execution_count": 58,
      "outputs": [
        {
          "output_type": "stream",
          "text": [
            "vocab size:  22637\n",
            "train data shape:  (112218, 1000)\n",
            "test data shape:  (1626, 1000)\n"
          ],
          "name": "stdout"
        }
      ]
    },
    {
      "cell_type": "markdown",
      "metadata": {
        "id": "AW0S5Nalpg5N",
        "colab_type": "text"
      },
      "source": [
        "## Modeling"
      ]
    },
    {
      "cell_type": "code",
      "metadata": {
        "id": "JY49FyLN39Lm",
        "colab_type": "code",
        "colab": {}
      },
      "source": [
        "def auc_score(y_true, y_pred):\n",
        "  try:\n",
        "    auc = roc_auc_score( y_true, y_pred, average='macro', sample_weight=None).astype('float32')\n",
        "  except ValueError:\n",
        "    pass\n",
        "  return auc\n",
        "\n",
        "def auc( y_true, y_pred ) :\n",
        "    score = tf.py_func( lambda y_true, y_pred : auc_score(y_true, y_pred) , [y_true, y_pred], 'float32', stateful=False, name='sklearnAUC' )\n",
        "    return score"
      ],
      "execution_count": 0,
      "outputs": []
    },
    {
      "cell_type": "markdown",
      "metadata": {
        "id": "_u_k2CJ5ivkU",
        "colab_type": "text"
      },
      "source": [
        "### 2. LSTM\n",
        "##### (1) train"
      ]
    },
    {
      "cell_type": "code",
      "metadata": {
        "id": "h_94obRTkKZG",
        "colab_type": "code",
        "colab": {}
      },
      "source": [
        "mpath = '/content/gdrive/My Drive/Colab Notebooks/smishing/model/'"
      ],
      "execution_count": 0,
      "outputs": []
    },
    {
      "cell_type": "code",
      "metadata": {
        "id": "JdM6vSwPEo53",
        "colab_type": "code",
        "outputId": "67ab699d-5011-42ff-b3cf-b35317e75f10",
        "colab": {
          "base_uri": "https://localhost:8080/",
          "height": 305
        }
      },
      "source": [
        "model = Sequential()\n",
        "model.add(Embedding(vocab_size, 64))\n",
        "model.add(LSTM(64))\n",
        "model.add(Dense(32, activation='relu'))\n",
        "model.add(Dense(1, activation='sigmoid'))\n",
        "\n",
        "model.compile(optimizer='rmsprop', loss='binary_crossentropy', metrics=[auc])\n",
        "model.summary()"
      ],
      "execution_count": 84,
      "outputs": [
        {
          "output_type": "stream",
          "text": [
            "Model: \"sequential_4\"\n",
            "_________________________________________________________________\n",
            "Layer (type)                 Output Shape              Param #   \n",
            "=================================================================\n",
            "embedding_4 (Embedding)      (None, None, 64)          1448768   \n",
            "_________________________________________________________________\n",
            "lstm_4 (LSTM)                (None, 64)                33024     \n",
            "_________________________________________________________________\n",
            "dense_6 (Dense)              (None, 32)                2080      \n",
            "_________________________________________________________________\n",
            "dense_7 (Dense)              (None, 1)                 33        \n",
            "=================================================================\n",
            "Total params: 1,483,905\n",
            "Trainable params: 1,483,905\n",
            "Non-trainable params: 0\n",
            "_________________________________________________________________\n"
          ],
          "name": "stdout"
        }
      ]
    },
    {
      "cell_type": "code",
      "metadata": {
        "id": "syLSqXQOEwKG",
        "colab_type": "code",
        "outputId": "1d56924e-6375-4568-f2fc-305b623242ad",
        "colab": {
          "base_uri": "https://localhost:8080/",
          "height": 71
        }
      },
      "source": [
        "history = model.fit(X_train, train_y, epochs=5, batch_size=256, validation_split=0.2)\n",
        "model_json = model.to_json()\n",
        "with open(mpath+\"LSTM_v3.json\", \"w\") as json_file : \n",
        "    json_file.write(model_json)"
      ],
      "execution_count": 0,
      "outputs": [
        {
          "output_type": "stream",
          "text": [
            "Train on 89774 samples, validate on 22444 samples\n",
            "Epoch 1/5\n",
            "20736/89774 [=====>........................] - ETA: 7:32 - loss: 0.1290 - auc: 0.9928"
          ],
          "name": "stdout"
        }
      ]
    },
    {
      "cell_type": "code",
      "metadata": {
        "id": "9zc-amzxQCPU",
        "colab_type": "code",
        "colab": {}
      },
      "source": [
        "# 귀찮\n",
        "y_pred = model.predict_classes(X_test, batch_size=128)\n",
        "print(y_pred[:4])\n",
        "submission['smishing'] = y_pred\n",
        "submission.to_csv(spath+\"LSTM_v3.csv\",index=False)"
      ],
      "execution_count": 0,
      "outputs": []
    },
    {
      "cell_type": "markdown",
      "metadata": {
        "id": "IaVqPTZvjig-",
        "colab_type": "text"
      },
      "source": [
        "##### (2) validation"
      ]
    },
    {
      "cell_type": "code",
      "metadata": {
        "id": "8-XtO--Djh4F",
        "colab_type": "code",
        "colab": {}
      },
      "source": [
        "scores = model.evaluate(X_test, y_test, verbose=0) # 테스트 데이터에 대해서 정확도 평가\n",
        "print(\"정확도: %.2f%%\" % (scores[1]*100))"
      ],
      "execution_count": 0,
      "outputs": []
    },
    {
      "cell_type": "code",
      "metadata": {
        "id": "ZUaPjLmDjo21",
        "colab_type": "code",
        "colab": {}
      },
      "source": [
        "epochs = range(1, len(history.history['accuracy']) + 1)\n",
        "plt.plot(epochs, history.history['loss'])\n",
        "plt.plot(epochs, history.history['val_loss'])\n",
        "plt.title('model loss')\n",
        "plt.ylabel('loss')\n",
        "plt.xlabel('epoch')\n",
        "plt.legend(['train', 'test'], loc='upper left')\n",
        "plt.show()"
      ],
      "execution_count": 0,
      "outputs": []
    },
    {
      "cell_type": "markdown",
      "metadata": {
        "id": "oaEZ19knjlyr",
        "colab_type": "text"
      },
      "source": [
        "##### (3) find the best"
      ]
    },
    {
      "cell_type": "code",
      "metadata": {
        "id": "ZbHfspppjlAq",
        "colab_type": "code",
        "colab": {}
      },
      "source": [
        "y_pred = model.predict(X_test, batch_size=64)\n",
        "print(y_pred.shape)"
      ],
      "execution_count": 0,
      "outputs": []
    },
    {
      "cell_type": "markdown",
      "metadata": {
        "id": "nyd-gDcNpkdJ",
        "colab_type": "text"
      },
      "source": [
        "### Submission\n",
        "test data에서 각 text당 스미싱 확률을 구할 수 있으니 이를 제출양식의 smishing 변수에 넣고 csv 파일로 내보낸다"
      ]
    },
    {
      "cell_type": "code",
      "metadata": {
        "id": "xpBAwTKgpvVM",
        "colab_type": "code",
        "colab": {}
      },
      "source": [
        "submission['smishing'] = y_pred\n",
        "spath = '/content/gdrive/My Drive/Colab Notebooks/smishing/submission/'\n",
        "submission.to_csv(spath+\"LSTM_1.csv\",index=False)"
      ],
      "execution_count": 0,
      "outputs": []
    },
    {
      "cell_type": "code",
      "metadata": {
        "id": "nbQzCsD0KXIb",
        "colab_type": "code",
        "colab": {
          "base_uri": "https://localhost:8080/",
          "height": 204
        },
        "outputId": "8ec55b58-6f10-41f8-e493-89a84ec31768"
      },
      "source": [
        "s = pd.read_csv(spath+'LSTM_1.csv')\n",
        "s.head()"
      ],
      "execution_count": 75,
      "outputs": [
        {
          "output_type": "execute_result",
          "data": {
            "text/html": [
              "<div>\n",
              "<style scoped>\n",
              "    .dataframe tbody tr th:only-of-type {\n",
              "        vertical-align: middle;\n",
              "    }\n",
              "\n",
              "    .dataframe tbody tr th {\n",
              "        vertical-align: top;\n",
              "    }\n",
              "\n",
              "    .dataframe thead th {\n",
              "        text-align: right;\n",
              "    }\n",
              "</style>\n",
              "<table border=\"1\" class=\"dataframe\">\n",
              "  <thead>\n",
              "    <tr style=\"text-align: right;\">\n",
              "      <th></th>\n",
              "      <th>id</th>\n",
              "      <th>smishing</th>\n",
              "    </tr>\n",
              "  </thead>\n",
              "  <tbody>\n",
              "    <tr>\n",
              "      <th>0</th>\n",
              "      <td>340000</td>\n",
              "      <td>0.0</td>\n",
              "    </tr>\n",
              "    <tr>\n",
              "      <th>1</th>\n",
              "      <td>340001</td>\n",
              "      <td>0.0</td>\n",
              "    </tr>\n",
              "    <tr>\n",
              "      <th>2</th>\n",
              "      <td>340002</td>\n",
              "      <td>0.0</td>\n",
              "    </tr>\n",
              "    <tr>\n",
              "      <th>3</th>\n",
              "      <td>340003</td>\n",
              "      <td>0.0</td>\n",
              "    </tr>\n",
              "    <tr>\n",
              "      <th>4</th>\n",
              "      <td>340004</td>\n",
              "      <td>0.0</td>\n",
              "    </tr>\n",
              "  </tbody>\n",
              "</table>\n",
              "</div>"
            ],
            "text/plain": [
              "       id  smishing\n",
              "0  340000       0.0\n",
              "1  340001       0.0\n",
              "2  340002       0.0\n",
              "3  340003       0.0\n",
              "4  340004       0.0"
            ]
          },
          "metadata": {
            "tags": []
          },
          "execution_count": 75
        }
      ]
    },
    {
      "cell_type": "code",
      "metadata": {
        "id": "XGjAl3DRR-3r",
        "colab_type": "code",
        "colab": {}
      },
      "source": [
        ""
      ],
      "execution_count": 0,
      "outputs": []
    }
  ]
}