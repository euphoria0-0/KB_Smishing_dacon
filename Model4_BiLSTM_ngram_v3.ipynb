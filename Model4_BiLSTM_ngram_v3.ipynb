{
  "nbformat": 4,
  "nbformat_minor": 0,
  "metadata": {
    "colab": {
      "name": "Model4_BiLSTM_ngram_v3.ipynb",
      "provenance": [],
      "collapsed_sections": [],
      "machine_shape": "hm",
      "include_colab_link": true
    },
    "kernelspec": {
      "name": "python3",
      "display_name": "Python 3"
    },
    "accelerator": "TPU"
  },
  "cells": [
    {
      "cell_type": "markdown",
      "metadata": {
        "id": "view-in-github",
        "colab_type": "text"
      },
      "source": [
        "<a href=\"https://colab.research.google.com/github/euphoria96/KB_Smishing_dacon/blob/master/Model4_BiLSTM_ngram_v3.ipynb\" target=\"_parent\"><img src=\"https://colab.research.google.com/assets/colab-badge.svg\" alt=\"Open In Colab\"/></a>"
      ]
    },
    {
      "cell_type": "markdown",
      "metadata": {
        "id": "uU8TE6MvgKLJ",
        "colab_type": "text"
      },
      "source": [
        "## Setting\n",
        "Mounting google drive"
      ]
    },
    {
      "cell_type": "code",
      "metadata": {
        "id": "B0T35SVtgHaw",
        "colab_type": "code",
        "colab": {}
      },
      "source": [
        "from google.colab import drive\n",
        "drive.mount('/content/gdrive')"
      ],
      "execution_count": 0,
      "outputs": []
    },
    {
      "cell_type": "code",
      "metadata": {
        "id": "kOY7wsx_LKCj",
        "colab_type": "code",
        "colab": {}
      },
      "source": [
        "# data preprocessing\n",
        "import pandas as pd\n",
        "import numpy as np\n",
        "import random\n",
        "import matplotlib.pyplot as plt\n",
        "# tokenizer\n",
        "import re\n",
        "#from konlpy.tag import Mecab\n",
        "# modeling\n",
        "import tensorflow as tf\n",
        "from tensorflow.keras.preprocessing.text import Tokenizer\n",
        "from tensorflow.keras.preprocessing.sequence import pad_sequences\n",
        "from tensorflow.keras.layers import Embedding, Dense, LSTM, Bidirectional, Flatten, Input, SpatialDropout1D, Conv1D, MaxPooling1D, GRU, Dropout\n",
        "from tensorflow.keras.models import Sequential\n",
        "from tensorflow.keras import regularizers\n",
        "from tensorflow.keras.callbacks import EarlyStopping\n",
        "from sklearn.metrics import roc_auc_score\n",
        "import pickle\n",
        "from datetime import datetime, timedelta\n",
        "import warnings\n",
        "warnings.filterwarnings(action='ignore')\n",
        "import os\n",
        "os.environ[\"CUDA_DEVICE_ORDER\"] = \"PCI_BUS_ID\"\n",
        "os.environ[\"CUDA_VISIBLE_DEVICES\"] = \"\""
      ],
      "execution_count": 0,
      "outputs": []
    },
    {
      "cell_type": "code",
      "metadata": {
        "id": "CgYHecv94543",
        "colab_type": "code",
        "outputId": "6b827d82-2036-44f3-d842-3f65ed918cbe",
        "colab": {
          "base_uri": "https://localhost:8080/",
          "height": 35
        }
      },
      "source": [
        "random.randint(0,9999999)"
      ],
      "execution_count": 3,
      "outputs": [
        {
          "output_type": "execute_result",
          "data": {
            "text/plain": [
              "4897923"
            ]
          },
          "metadata": {
            "tags": []
          },
          "execution_count": 3
        }
      ]
    },
    {
      "cell_type": "code",
      "metadata": {
        "id": "2unTANeu49W0",
        "colab_type": "code",
        "colab": {}
      },
      "source": [
        "sd = 4897923\n",
        "np.random.seed(sd)\n",
        "random.seed(sd)\n",
        "os.environ['PYTHONHASHSEED']=str(sd)\n",
        "\n",
        "from tensorflow.keras import backend as K\n",
        "config = tf.ConfigProto(intra_op_parallelism_threads=1,inter_op_parallelism_threads=1)\n",
        "tf.set_random_seed(sd)\n",
        "sess = tf.Session(graph=tf.get_default_graph(), config=config)\n",
        "K.set_session(sess)"
      ],
      "execution_count": 0,
      "outputs": []
    },
    {
      "cell_type": "markdown",
      "metadata": {
        "id": "J67chBIQCrTW",
        "colab_type": "text"
      },
      "source": [
        "### Load Data"
      ]
    },
    {
      "cell_type": "code",
      "metadata": {
        "id": "KGErwNtdgu8n",
        "colab_type": "code",
        "outputId": "430a98a2-2f8e-4a89-bb64-4a4e2b7d8dd0",
        "colab": {
          "base_uri": "https://localhost:8080/",
          "height": 35
        }
      },
      "source": [
        "cd /content/gdrive/My Drive/Colab Notebooks/smishing/"
      ],
      "execution_count": 5,
      "outputs": [
        {
          "output_type": "stream",
          "text": [
            "/content/gdrive/My Drive/Colab Notebooks/smishing\n"
          ],
          "name": "stdout"
        }
      ]
    },
    {
      "cell_type": "code",
      "metadata": {
        "id": "2arA7qSIgtGt",
        "colab_type": "code",
        "outputId": "207e6f94-ce25-4bcd-95db-26beced377d2",
        "colab": {
          "base_uri": "https://localhost:8080/",
          "height": 262
        }
      },
      "source": [
        "train = pd.read_csv('data/train_processed.csv')\n",
        "test = pd.read_csv('data/test_processed.csv')\n",
        "submission=pd.read_csv('data/submission_제출양식.csv')\n",
        "print(train.shape, test.shape, submission.shape)\n",
        "train.head(3)"
      ],
      "execution_count": 6,
      "outputs": [
        {
          "output_type": "stream",
          "text": [
            "(295945, 7) (1626, 6) (1626, 2)\n"
          ],
          "name": "stdout"
        },
        {
          "output_type": "execute_result",
          "data": {
            "text/html": [
              "<div>\n",
              "<style scoped>\n",
              "    .dataframe tbody tr th:only-of-type {\n",
              "        vertical-align: middle;\n",
              "    }\n",
              "\n",
              "    .dataframe tbody tr th {\n",
              "        vertical-align: top;\n",
              "    }\n",
              "\n",
              "    .dataframe thead th {\n",
              "        text-align: right;\n",
              "    }\n",
              "</style>\n",
              "<table border=\"1\" class=\"dataframe\">\n",
              "  <thead>\n",
              "    <tr style=\"text-align: right;\">\n",
              "      <th></th>\n",
              "      <th>id</th>\n",
              "      <th>year_month</th>\n",
              "      <th>text</th>\n",
              "      <th>smishing</th>\n",
              "      <th>text_</th>\n",
              "      <th>2gram</th>\n",
              "      <th>3gram</th>\n",
              "    </tr>\n",
              "  </thead>\n",
              "  <tbody>\n",
              "    <tr>\n",
              "      <th>0</th>\n",
              "      <td>0</td>\n",
              "      <td>2017-01</td>\n",
              "      <td>XXX은행성산XXX팀장입니다.행복한주말되세요</td>\n",
              "      <td>0</td>\n",
              "      <td>은행 성산 팀장 입니다 행복 한 주말 되 세요</td>\n",
              "      <td>은행.성산 성산.팀장 팀장.입니다 입니다.행복 행복.한 한.주말 주말.되 되.세요</td>\n",
              "      <td>은행.성산.팀장 성산.팀장.입니다 팀장.입니다.행복 입니다.행복.한 행복.한.주말 ...</td>\n",
              "    </tr>\n",
              "    <tr>\n",
              "      <th>1</th>\n",
              "      <td>1</td>\n",
              "      <td>2017-01</td>\n",
              "      <td>오늘도많이웃으시는하루시작하세요XXX은행 진월동VIP라운지 XXX올림</td>\n",
              "      <td>0</td>\n",
              "      <td>오늘 도 많이 웃 으시 는 하루 시작 하 세요 은행 진월동 vip 라운지 올림</td>\n",
              "      <td>오늘.도 도.많이 많이.웃 웃.으시 으시.는 는.하루 하루.시작 시작.하 하.세요 ...</td>\n",
              "      <td>오늘.도.많이 도.많이.웃 많이.웃.으시 웃.으시.는 으시.는.하루 는.하루.시작 ...</td>\n",
              "    </tr>\n",
              "    <tr>\n",
              "      <th>2</th>\n",
              "      <td>2</td>\n",
              "      <td>2017-01</td>\n",
              "      <td>안녕하십니까 고객님. XXX은행입니다.금일 납부하셔야 할 금액은 153600원 입니...</td>\n",
              "      <td>0</td>\n",
              "      <td>안녕 하 십니까 고객 님 은행 입니다 금일 납부 하 셔야 할 금액 은 원 입니다 감...</td>\n",
              "      <td>안녕.하 하.십니까 십니까.고객 고객.님 님.은행 은행.입니다 입니다.금일 금일.납...</td>\n",
              "      <td>안녕.하.십니까 하.십니까.고객 십니까.고객.님 고객.님.은행 님.은행.입니다 은행...</td>\n",
              "    </tr>\n",
              "  </tbody>\n",
              "</table>\n",
              "</div>"
            ],
            "text/plain": [
              "   id  ...                                              3gram\n",
              "0   0  ...  은행.성산.팀장 성산.팀장.입니다 팀장.입니다.행복 입니다.행복.한 행복.한.주말 ...\n",
              "1   1  ...  오늘.도.많이 도.많이.웃 많이.웃.으시 웃.으시.는 으시.는.하루 는.하루.시작 ...\n",
              "2   2  ...  안녕.하.십니까 하.십니까.고객 십니까.고객.님 고객.님.은행 님.은행.입니다 은행...\n",
              "\n",
              "[3 rows x 7 columns]"
            ]
          },
          "metadata": {
            "tags": []
          },
          "execution_count": 6
        }
      ]
    },
    {
      "cell_type": "markdown",
      "metadata": {
        "id": "WvpIMFkuhEm-",
        "colab_type": "text"
      },
      "source": [
        "## Data Preparation\n"
      ]
    },
    {
      "cell_type": "markdown",
      "metadata": {
        "id": "m7cxxNAtwEXj",
        "colab_type": "text"
      },
      "source": [
        "### Sampling\n",
        "- Counter({0: 277242, 1: 18703}) #0.0631975535994864\n",
        "- mixed sampling"
      ]
    },
    {
      "cell_type": "code",
      "metadata": {
        "id": "itgYwhhGBzzA",
        "colab_type": "code",
        "colab": {}
      },
      "source": [
        "def train_data_sampling(train, seed=1234, a=3, b=3):\n",
        "    train_nsm_idx=list(train[train['smishing']==0].index)\n",
        "    train_sm_idx=list(train[train['smishing']==1].index)\n",
        "    random.seed(seed)\n",
        "    train_nsm_idx = random.sample(train_nsm_idx, k=18703*a)\n",
        "    random.seed(seed)\n",
        "    train_sm_idx = random.choices(train_sm_idx, k=18703*b)\n",
        "    train_idx = train_nsm_idx + train_sm_idx\n",
        "    print(train_idx[:5])\n",
        "    random.shuffle(train_idx)\n",
        "    print(train_idx[:5])\n",
        "    df_train = train.iloc[train_idx].reset_index(drop=True)\n",
        "    return df_train"
      ],
      "execution_count": 0,
      "outputs": []
    },
    {
      "cell_type": "markdown",
      "metadata": {
        "id": "NNLLwnt1bCm-",
        "colab_type": "text"
      },
      "source": [
        "### text to sequences"
      ]
    },
    {
      "cell_type": "code",
      "metadata": {
        "id": "VtzQUkXSB4oC",
        "colab_type": "code",
        "colab": {}
      },
      "source": [
        "def text2sequence(train_text, test_text, max_len=1000):\n",
        "    tokenizer = Tokenizer()\n",
        "    tokenizer.fit_on_texts(train_text)\n",
        "    train_X_seq = tokenizer.texts_to_sequences(train_text)\n",
        "    vocab_size = len(tokenizer.word_index) + 1\n",
        "    print('vocab size: ', vocab_size)\n",
        "    X_train = pad_sequences(train_X_seq, maxlen=max_len)\n",
        "    test_X_seq = tokenizer.texts_to_sequences(test_text)\n",
        "    X_test = pad_sequences(test_X_seq, maxlen=max_len)\n",
        "    return X_train, X_test, vocab_size"
      ],
      "execution_count": 0,
      "outputs": []
    },
    {
      "cell_type": "markdown",
      "metadata": {
        "id": "BtTVC1F0bLnN",
        "colab_type": "text"
      },
      "source": [
        "### scoring for modeling"
      ]
    },
    {
      "cell_type": "code",
      "metadata": {
        "id": "JY49FyLN39Lm",
        "colab_type": "code",
        "colab": {}
      },
      "source": [
        "auc_=0\n",
        "def auc_score(y_true, y_pred):\n",
        "    global auc_\n",
        "    try:\n",
        "        auc_ = roc_auc_score( y_true, y_pred, average='macro', sample_weight=None).astype('float32')\n",
        "    except ValueError:\n",
        "        pass\n",
        "    return auc_\n",
        "\n",
        "def auc( y_true, y_pred ) :\n",
        "    score = tf.py_func( lambda y_true, y_pred : auc_score(y_true, y_pred) , [y_true, y_pred], 'float32', stateful=False, name='sklearnAUC' )\n",
        "    return score"
      ],
      "execution_count": 0,
      "outputs": []
    },
    {
      "cell_type": "code",
      "metadata": {
        "id": "bpJnBvgClEhA",
        "colab_type": "code",
        "colab": {}
      },
      "source": [
        "def model_save(model, mname):\n",
        "    model_json = model.to_json()\n",
        "    with open('model/'+mname+'.json', 'w') as json_file : \n",
        "        json_file.write(model_json)\n",
        "    model.save_weights('model/'+mname+'.h5')"
      ],
      "execution_count": 0,
      "outputs": []
    },
    {
      "cell_type": "markdown",
      "metadata": {
        "id": "Ua9JfvszX407",
        "colab_type": "text"
      },
      "source": [
        "## Preprocessing"
      ]
    },
    {
      "cell_type": "code",
      "metadata": {
        "id": "VNdfsKO-FSw4",
        "colab_type": "code",
        "colab": {
          "base_uri": "https://localhost:8080/",
          "height": 142
        },
        "outputId": "1d26c408-fee0-465e-fbc6-a97af3c6dd91"
      },
      "source": [
        "x1 = pd.DataFrame(pd.Series([len(x.split()) for x in train['text_']]).describe(), columns=['text_']).transpose()\n",
        "x2 = pd.DataFrame(pd.Series([len(x.split()) for x in train['2gram']]).describe(), columns=['2gram']).transpose()\n",
        "x3 = pd.DataFrame(pd.Series([len(x.split()) for x in train['3gram']]).describe(), columns=['3gram']).transpose()\n",
        "pd.concat([x1,x2,x3], axis=0)"
      ],
      "execution_count": 12,
      "outputs": [
        {
          "output_type": "execute_result",
          "data": {
            "text/html": [
              "<div>\n",
              "<style scoped>\n",
              "    .dataframe tbody tr th:only-of-type {\n",
              "        vertical-align: middle;\n",
              "    }\n",
              "\n",
              "    .dataframe tbody tr th {\n",
              "        vertical-align: top;\n",
              "    }\n",
              "\n",
              "    .dataframe thead th {\n",
              "        text-align: right;\n",
              "    }\n",
              "</style>\n",
              "<table border=\"1\" class=\"dataframe\">\n",
              "  <thead>\n",
              "    <tr style=\"text-align: right;\">\n",
              "      <th></th>\n",
              "      <th>count</th>\n",
              "      <th>mean</th>\n",
              "      <th>std</th>\n",
              "      <th>min</th>\n",
              "      <th>25%</th>\n",
              "      <th>50%</th>\n",
              "      <th>75%</th>\n",
              "      <th>max</th>\n",
              "    </tr>\n",
              "  </thead>\n",
              "  <tbody>\n",
              "    <tr>\n",
              "      <th>text_</th>\n",
              "      <td>295945.0</td>\n",
              "      <td>70.010012</td>\n",
              "      <td>90.041335</td>\n",
              "      <td>1.0</td>\n",
              "      <td>16.0</td>\n",
              "      <td>35.0</td>\n",
              "      <td>82.0</td>\n",
              "      <td>664.0</td>\n",
              "    </tr>\n",
              "    <tr>\n",
              "      <th>2gram</th>\n",
              "      <td>295945.0</td>\n",
              "      <td>69.010056</td>\n",
              "      <td>90.041308</td>\n",
              "      <td>1.0</td>\n",
              "      <td>15.0</td>\n",
              "      <td>34.0</td>\n",
              "      <td>81.0</td>\n",
              "      <td>663.0</td>\n",
              "    </tr>\n",
              "    <tr>\n",
              "      <th>3gram</th>\n",
              "      <td>295945.0</td>\n",
              "      <td>68.010191</td>\n",
              "      <td>90.041213</td>\n",
              "      <td>1.0</td>\n",
              "      <td>14.0</td>\n",
              "      <td>33.0</td>\n",
              "      <td>80.0</td>\n",
              "      <td>662.0</td>\n",
              "    </tr>\n",
              "  </tbody>\n",
              "</table>\n",
              "</div>"
            ],
            "text/plain": [
              "          count       mean        std  min   25%   50%   75%    max\n",
              "text_  295945.0  70.010012  90.041335  1.0  16.0  35.0  82.0  664.0\n",
              "2gram  295945.0  69.010056  90.041308  1.0  15.0  34.0  81.0  663.0\n",
              "3gram  295945.0  68.010191  90.041213  1.0  14.0  33.0  80.0  662.0"
            ]
          },
          "metadata": {
            "tags": []
          },
          "execution_count": 12
        }
      ]
    },
    {
      "cell_type": "code",
      "metadata": {
        "id": "Ww29n-V-D2C9",
        "colab_type": "code",
        "outputId": "bbbb269b-bf3a-47ab-be25-ee3b3a683a35",
        "colab": {
          "base_uri": "https://localhost:8080/",
          "height": 142
        }
      },
      "source": [
        "x1 = pd.DataFrame(pd.Series([len(x) for x in train['text_']]).describe(), columns=['text_']).transpose()\n",
        "x2 = pd.DataFrame(pd.Series([len(x) for x in train['2gram']]).describe(), columns=['2gram']).transpose()\n",
        "x3 = pd.DataFrame(pd.Series([len(x) for x in train['3gram']]).describe(), columns=['3gram']).transpose()\n",
        "pd.concat([x1,x2,x3], axis=0)"
      ],
      "execution_count": 13,
      "outputs": [
        {
          "output_type": "execute_result",
          "data": {
            "text/html": [
              "<div>\n",
              "<style scoped>\n",
              "    .dataframe tbody tr th:only-of-type {\n",
              "        vertical-align: middle;\n",
              "    }\n",
              "\n",
              "    .dataframe tbody tr th {\n",
              "        vertical-align: top;\n",
              "    }\n",
              "\n",
              "    .dataframe thead th {\n",
              "        text-align: right;\n",
              "    }\n",
              "</style>\n",
              "<table border=\"1\" class=\"dataframe\">\n",
              "  <thead>\n",
              "    <tr style=\"text-align: right;\">\n",
              "      <th></th>\n",
              "      <th>count</th>\n",
              "      <th>mean</th>\n",
              "      <th>std</th>\n",
              "      <th>min</th>\n",
              "      <th>25%</th>\n",
              "      <th>50%</th>\n",
              "      <th>75%</th>\n",
              "      <th>max</th>\n",
              "    </tr>\n",
              "  </thead>\n",
              "  <tbody>\n",
              "    <tr>\n",
              "      <th>text_</th>\n",
              "      <td>295945.0</td>\n",
              "      <td>188.277727</td>\n",
              "      <td>241.091119</td>\n",
              "      <td>1.0</td>\n",
              "      <td>43.0</td>\n",
              "      <td>94.0</td>\n",
              "      <td>220.0</td>\n",
              "      <td>1660.0</td>\n",
              "    </tr>\n",
              "    <tr>\n",
              "      <th>2gram</th>\n",
              "      <td>295945.0</td>\n",
              "      <td>371.484614</td>\n",
              "      <td>482.234776</td>\n",
              "      <td>1.0</td>\n",
              "      <td>82.0</td>\n",
              "      <td>183.0</td>\n",
              "      <td>435.0</td>\n",
              "      <td>3315.0</td>\n",
              "    </tr>\n",
              "    <tr>\n",
              "      <th>3gram</th>\n",
              "      <td>295945.0</td>\n",
              "      <td>549.332724</td>\n",
              "      <td>723.312468</td>\n",
              "      <td>1.0</td>\n",
              "      <td>114.0</td>\n",
              "      <td>266.0</td>\n",
              "      <td>645.0</td>\n",
              "      <td>4965.0</td>\n",
              "    </tr>\n",
              "  </tbody>\n",
              "</table>\n",
              "</div>"
            ],
            "text/plain": [
              "          count        mean         std  min    25%    50%    75%     max\n",
              "text_  295945.0  188.277727  241.091119  1.0   43.0   94.0  220.0  1660.0\n",
              "2gram  295945.0  371.484614  482.234776  1.0   82.0  183.0  435.0  3315.0\n",
              "3gram  295945.0  549.332724  723.312468  1.0  114.0  266.0  645.0  4965.0"
            ]
          },
          "metadata": {
            "tags": []
          },
          "execution_count": 13
        }
      ]
    },
    {
      "cell_type": "code",
      "metadata": {
        "id": "LlhNhZVXCDIB",
        "colab_type": "code",
        "outputId": "177ae203-9bd4-4406-f575-8cb30ed04f36",
        "colab": {
          "base_uri": "https://localhost:8080/",
          "height": 125
        }
      },
      "source": [
        "df_train = train_data_sampling(train, seed=sd, a=5, b=3)\n",
        "train_y = df_train['smishing']\n",
        "\n",
        "train_X, test_X, vocab_size = text2sequence(df_train['text_'], test['text_'], max_len=600)\n",
        "train_X2, test_X2, vocab_size2 = text2sequence(df_train['2gram'], test['2gram'], max_len=600)\n",
        "train_X3, test_X3, vocab_size3 = text2sequence(df_train['3gram'], test['3gram'], max_len=600)\n",
        "print(train_X.shape, train_y.shape)"
      ],
      "execution_count": 15,
      "outputs": [
        {
          "output_type": "stream",
          "text": [
            "[38042, 12810, 200714, 14770, 40659]\n",
            "[110894, 135712, 85181, 231328, 176914]\n",
            "vocab size:  26314\n",
            "vocab size:  26314\n",
            "vocab size:  26310\n",
            "(149624, 600) (149624,)\n"
          ],
          "name": "stdout"
        }
      ]
    },
    {
      "cell_type": "markdown",
      "metadata": {
        "id": "AW0S5Nalpg5N",
        "colab_type": "text"
      },
      "source": [
        "## Modeling - BiLSTM"
      ]
    },
    {
      "cell_type": "code",
      "metadata": {
        "id": "gYrB44HUXbWm",
        "colab_type": "code",
        "colab": {}
      },
      "source": [
        "def BiLSTM(vocab_size, max_len=600):\n",
        "    model = Sequential()\n",
        "    model.add(Embedding(vocab_size, 64, input_length = max_len))\n",
        "    model.add(SpatialDropout1D(0.5))\n",
        "    model.add(Bidirectional(LSTM(64)))\n",
        "    model.add(Dropout(0.3))\n",
        "    model.add(Dense(64, activation='tanh', kernel_regularizer = regularizers.l2(0.001)))\n",
        "    model.add(Dense(1, activation='sigmoid'))\n",
        "\n",
        "    model.compile(optimizer='adam', loss='binary_crossentropy', metrics=[auc])\n",
        "    model.summary()\n",
        "    return model"
      ],
      "execution_count": 0,
      "outputs": []
    },
    {
      "cell_type": "markdown",
      "metadata": {
        "id": "_u_k2CJ5ivkU",
        "colab_type": "text"
      },
      "source": [
        "### 1. 1 gram"
      ]
    },
    {
      "cell_type": "code",
      "metadata": {
        "id": "YdPjGOZzGX8F",
        "colab_type": "code",
        "outputId": "09743442-fc16-4013-961e-31dfad385195",
        "colab": {
          "base_uri": "https://localhost:8080/",
          "height": 244
        }
      },
      "source": [
        "## single word\n",
        "model1 = BiLSTM(vocab_size, max_len=600)\n",
        "history = model1.fit(train_X, train_y, epochs=5, batch_size=128, validation_split=0.2)\n",
        "\n",
        "mname = (datetime.now() + timedelta(hours=9) ).isoformat()[5:-10]+'_BiLSTM_600_ep5'\n",
        "model_save(model1, mname)\n",
        "\n",
        "y_pred = model1.predict(test_X, batch_size=128)\n",
        "submission['smishing'] = y_pred\n",
        "submission.to_csv('submission/'+mname+'.csv',index=False)"
      ],
      "execution_count": 0,
      "outputs": [
        {
          "output_type": "error",
          "ename": "NameError",
          "evalue": "ignored",
          "traceback": [
            "\u001b[0;31m---------------------------------------------------------------------------\u001b[0m",
            "\u001b[0;31mNameError\u001b[0m                                 Traceback (most recent call last)",
            "\u001b[0;32m<ipython-input-1-8f2ca722ab71>\u001b[0m in \u001b[0;36m<module>\u001b[0;34m()\u001b[0m\n\u001b[0;32m----> 1\u001b[0;31m \u001b[0mmodel1\u001b[0m \u001b[0;34m=\u001b[0m \u001b[0mBiLSTM\u001b[0m\u001b[0;34m(\u001b[0m\u001b[0mvocab_size\u001b[0m\u001b[0;34m,\u001b[0m \u001b[0mmax_len\u001b[0m\u001b[0;34m=\u001b[0m\u001b[0;36m1000\u001b[0m\u001b[0;34m)\u001b[0m\u001b[0;34m\u001b[0m\u001b[0;34m\u001b[0m\u001b[0m\n\u001b[0m\u001b[1;32m      2\u001b[0m \u001b[0mhistory\u001b[0m \u001b[0;34m=\u001b[0m \u001b[0mmodel1\u001b[0m\u001b[0;34m.\u001b[0m\u001b[0mfit\u001b[0m\u001b[0;34m(\u001b[0m\u001b[0mtrain_X\u001b[0m\u001b[0;34m,\u001b[0m \u001b[0mtrain_y\u001b[0m\u001b[0;34m,\u001b[0m \u001b[0mepochs\u001b[0m\u001b[0;34m=\u001b[0m\u001b[0;36m5\u001b[0m\u001b[0;34m,\u001b[0m \u001b[0mbatch_size\u001b[0m\u001b[0;34m=\u001b[0m\u001b[0;36m128\u001b[0m\u001b[0;34m,\u001b[0m \u001b[0mvalidation_split\u001b[0m\u001b[0;34m=\u001b[0m\u001b[0;36m0.2\u001b[0m\u001b[0;34m)\u001b[0m\u001b[0;34m\u001b[0m\u001b[0;34m\u001b[0m\u001b[0m\n\u001b[1;32m      3\u001b[0m \u001b[0;34m\u001b[0m\u001b[0m\n\u001b[1;32m      4\u001b[0m \u001b[0mmname\u001b[0m \u001b[0;34m=\u001b[0m \u001b[0;34m(\u001b[0m\u001b[0mdatetime\u001b[0m\u001b[0;34m.\u001b[0m\u001b[0mnow\u001b[0m\u001b[0;34m(\u001b[0m\u001b[0;34m)\u001b[0m \u001b[0;34m+\u001b[0m \u001b[0mtimedelta\u001b[0m\u001b[0;34m(\u001b[0m\u001b[0mhours\u001b[0m\u001b[0;34m=\u001b[0m\u001b[0;36m9\u001b[0m\u001b[0;34m)\u001b[0m \u001b[0;34m)\u001b[0m\u001b[0;34m.\u001b[0m\u001b[0misoformat\u001b[0m\u001b[0;34m(\u001b[0m\u001b[0;34m)\u001b[0m\u001b[0;34m[\u001b[0m\u001b[0;36m5\u001b[0m\u001b[0;34m:\u001b[0m\u001b[0;34m-\u001b[0m\u001b[0;36m10\u001b[0m\u001b[0;34m]\u001b[0m\u001b[0;34m+\u001b[0m\u001b[0;34m'_BiLSTM_ep5'\u001b[0m\u001b[0;34m\u001b[0m\u001b[0;34m\u001b[0m\u001b[0m\n\u001b[1;32m      5\u001b[0m \u001b[0mmodel_save\u001b[0m\u001b[0;34m(\u001b[0m\u001b[0mmodel1\u001b[0m\u001b[0;34m,\u001b[0m \u001b[0mmname\u001b[0m\u001b[0;34m)\u001b[0m\u001b[0;34m\u001b[0m\u001b[0;34m\u001b[0m\u001b[0m\n",
            "\u001b[0;31mNameError\u001b[0m: name 'BiLSTM' is not defined"
          ]
        }
      ]
    },
    {
      "cell_type": "markdown",
      "metadata": {
        "id": "dzmY2X3XZdP6",
        "colab_type": "text"
      },
      "source": [
        "### 2. 2 gram"
      ]
    },
    {
      "cell_type": "code",
      "metadata": {
        "id": "fULSvCnRmfep",
        "colab_type": "code",
        "outputId": "7373f1a5-939c-42d1-e07a-b562c06c5ea2",
        "colab": {
          "base_uri": "https://localhost:8080/",
          "height": 467
        }
      },
      "source": [
        "## 2 gram\n",
        "model2 = BiLSTM(vocab_size2, max_len=600)\n",
        "early_stopping = EarlyStopping(patience=2)\n",
        "history = model2.fit(train_X2, train_y, epochs=50, batch_size=128, validation_split=0.3, callbacks=[early_stopping])\n",
        "\n",
        "mname = (datetime.now() + timedelta(hours=9) ).isoformat()[5:-10]+'_BiLSTM_600_2gram_es'\n",
        "model_save(model2, mname)\n",
        "\n",
        "y_pred = model2.predict(test_X2, batch_size=128)\n",
        "submission['smishing'] = y_pred\n",
        "submission.to_csv('submission/'+mname+'.csv',index=False)"
      ],
      "execution_count": 0,
      "outputs": [
        {
          "output_type": "stream",
          "text": [
            "Model: \"sequential_1\"\n",
            "_________________________________________________________________\n",
            "Layer (type)                 Output Shape              Param #   \n",
            "=================================================================\n",
            "embedding_1 (Embedding)      (None, 600, 64)           1684096   \n",
            "_________________________________________________________________\n",
            "spatial_dropout1d_1 (Spatial (None, 600, 64)           0         \n",
            "_________________________________________________________________\n",
            "bidirectional_1 (Bidirection (None, 128)               66048     \n",
            "_________________________________________________________________\n",
            "dropout_1 (Dropout)          (None, 128)               0         \n",
            "_________________________________________________________________\n",
            "dense_2 (Dense)              (None, 64)                8256      \n",
            "_________________________________________________________________\n",
            "dense_3 (Dense)              (None, 1)                 65        \n",
            "=================================================================\n",
            "Total params: 1,758,465\n",
            "Trainable params: 1,758,465\n",
            "Non-trainable params: 0\n",
            "_________________________________________________________________\n",
            "Train on 104736 samples, validate on 44888 samples\n",
            "Epoch 1/50\n",
            "104736/104736 [==============================] - 2329s 22ms/sample - loss: 0.0391 - auc: 0.9978 - val_loss: 0.0040 - val_auc: 1.0000\n",
            "Epoch 2/50\n",
            " 25472/104736 [======>.......................] - ETA: 27:00 - loss: 0.0048 - auc: 0.9999"
          ],
          "name": "stdout"
        }
      ]
    },
    {
      "cell_type": "code",
      "metadata": {
        "id": "XX8MI3mI3B61",
        "colab_type": "code",
        "colab": {}
      },
      "source": [
        ""
      ],
      "execution_count": 0,
      "outputs": []
    }
  ]
}